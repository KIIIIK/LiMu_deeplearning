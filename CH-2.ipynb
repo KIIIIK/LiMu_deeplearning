{
 "cells": [
  {
   "attachments": {},
   "cell_type": "markdown",
   "metadata": {},
   "source": [
    "# 2.4 微积分"
   ]
  },
  {
   "attachments": {},
   "cell_type": "markdown",
   "metadata": {},
   "source": [
    "## 2.4.1 导数和微分"
   ]
  },
  {
   "cell_type": "code",
   "execution_count": 2,
   "metadata": {},
   "outputs": [],
   "source": [
    "import numpy as np\n",
    "from IPython import display\n",
    "from d2l import torch as d2l"
   ]
  },
  {
   "cell_type": "code",
   "execution_count": 4,
   "metadata": {},
   "outputs": [],
   "source": [
    "def f(x):\n",
    "    return 3 * x ** 2 - 4 * x"
   ]
  },
  {
   "cell_type": "code",
   "execution_count": 5,
   "metadata": {},
   "outputs": [
    {
     "name": "stdout",
     "output_type": "stream",
     "text": [
      "h=0.10000, numerical limit=2.30000\n",
      "h=0.01000, numerical limit=2.03000\n",
      "h=0.00100, numerical limit=2.00300\n",
      "h=0.00010, numerical limit=2.00030\n",
      "h=0.00001, numerical limit=2.00003\n"
     ]
    }
   ],
   "source": [
    "def numerical_lim(f, x, h):\n",
    "    return (f(x + h) - f(x)) / h\n",
    "\n",
    "h = 0.1\n",
    "for i in range(5):\n",
    "    print(f'h={h:.5f}, numerical limit={numerical_lim(f, 1, h):.5f}')\n",
    "    h *= 0.1"
   ]
  },
  {
   "cell_type": "code",
   "execution_count": 6,
   "metadata": {},
   "outputs": [],
   "source": [
    "def use_svg_display():\n",
    "    display.set_matplotlib_formats('svg')"
   ]
  },
  {
   "cell_type": "code",
   "execution_count": 7,
   "metadata": {},
   "outputs": [],
   "source": [
    "def set_figsize(figsize=(3.5, 2.5)):\n",
    "    use_svg_display()\n",
    "    d2l.plt.rcParams['figure.figsize'] = figsize"
   ]
  },
  {
   "cell_type": "code",
   "execution_count": 8,
   "metadata": {},
   "outputs": [],
   "source": [
    "def set_axes(axes, xlabel, ylabel, xlim, ylim, xscale, yscale, legend):\n",
    "    axes.set_xlabel(xlabel)\n",
    "    axes.set_ylabel(ylabel)\n",
    "    axes.set_xscale(xscale)\n",
    "    axes.set_yscale(yscale)\n",
    "    axes.set_xlim(xlim)\n",
    "    axes.set_ylim(ylim)\n",
    "    if legend:\n",
    "        axes.legend(legend)\n",
    "    axes.grid()"
   ]
  },
  {
   "cell_type": "code",
   "execution_count": 9,
   "metadata": {},
   "outputs": [],
   "source": [
    "def plot(X, Y=None, xlabel=None, ylabel=None, legend=None, xlim=None,\n",
    "         ylim=None, xscale='linear', yscale='linear',\n",
    "         fmts=('-', 'm--', 'g-.', 'r:'), figsize=(3.5, 2.5), axes=None):\n",
    "    if legend is None:\n",
    "        legend = []\n",
    "    \n",
    "    set_figsize(figsize)\n",
    "    axes = axes if axes else d2l.plt.gca()\n",
    "\n",
    "    def has_one_axis(X):\n",
    "        return (hasattr(X, \"ndim\") and X.ndim == 1 or isinstance(X, list)\n",
    "                and not hasattr(X[0], \"__len__\"))\n",
    "    \n",
    "    if has_one_axis(X):\n",
    "        X = [X]\n",
    "    if Y is None:\n",
    "        X, Y = [[]] * len(X), X\n",
    "    elif has_one_axis(Y):\n",
    "        Y = [Y]\n",
    "    if len(X) != len(Y):\n",
    "        X = X * len(Y)\n",
    "    axes.cla()\n",
    "    for x, y, fmt in zip(X, Y, fmts):\n",
    "        if len(x):\n",
    "            axes.plot(x, y, fmt)\n",
    "        else:\n",
    "            axes.plot(y, fmt)\n",
    "    set_axes(axes, xlabel, ylabel, xlim, ylim, xscale, yscale, legend)"
   ]
  },
  {
   "cell_type": "code",
   "execution_count": 10,
   "metadata": {},
   "outputs": [
    {
     "name": "stderr",
     "output_type": "stream",
     "text": [
      "d:\\Anacodna\\miniconda3\\lib\\site-packages\\ipykernel_launcher.py:2: DeprecationWarning: `set_matplotlib_formats` is deprecated since IPython 7.23, directly use `matplotlib_inline.backend_inline.set_matplotlib_formats()`\n",
      "  \n"
     ]
    },
    {
     "data": {
      "image/svg+xml": "<?xml version=\"1.0\" encoding=\"utf-8\" standalone=\"no\"?>\r\n<!DOCTYPE svg PUBLIC \"-//W3C//DTD SVG 1.1//EN\"\r\n  \"http://www.w3.org/Graphics/SVG/1.1/DTD/svg11.dtd\">\r\n<!-- Created with matplotlib (https://matplotlib.org/) -->\r\n<svg height=\"180.65625pt\" version=\"1.1\" viewBox=\"0 0 243.529359 180.65625\" width=\"243.529359pt\" xmlns=\"http://www.w3.org/2000/svg\" xmlns:xlink=\"http://www.w3.org/1999/xlink\">\r\n <metadata>\r\n  <rdf:RDF xmlns:cc=\"http://creativecommons.org/ns#\" xmlns:dc=\"http://purl.org/dc/elements/1.1/\" xmlns:rdf=\"http://www.w3.org/1999/02/22-rdf-syntax-ns#\">\r\n   <cc:Work>\r\n    <dc:type rdf:resource=\"http://purl.org/dc/dcmitype/StillImage\"/>\r\n    <dc:date>2023-02-08T20:35:13.176312</dc:date>\r\n    <dc:format>image/svg+xml</dc:format>\r\n    <dc:creator>\r\n     <cc:Agent>\r\n      <dc:title>Matplotlib v3.3.3, https://matplotlib.org/</dc:title>\r\n     </cc:Agent>\r\n    </dc:creator>\r\n   </cc:Work>\r\n  </rdf:RDF>\r\n </metadata>\r\n <defs>\r\n  <style type=\"text/css\">*{stroke-linecap:butt;stroke-linejoin:round;}</style>\r\n </defs>\r\n <g id=\"figure_1\">\r\n  <g id=\"patch_1\">\r\n   <path d=\"M 0 180.65625 \r\nL 243.529359 180.65625 \r\nL 243.529359 0 \r\nL 0 0 \r\nz\r\n\" style=\"fill:none;\"/>\r\n  </g>\r\n  <g id=\"axes_1\">\r\n   <g id=\"patch_2\">\r\n    <path d=\"M 40.603125 143.1 \r\nL 235.903125 143.1 \r\nL 235.903125 7.2 \r\nL 40.603125 7.2 \r\nz\r\n\" style=\"fill:#ffffff;\"/>\r\n   </g>\r\n   <g id=\"matplotlib.axis_1\">\r\n    <g id=\"xtick_1\">\r\n     <g id=\"line2d_1\">\r\n      <path clip-path=\"url(#pe92b01a8f4)\" d=\"M 49.480398 143.1 \r\nL 49.480398 7.2 \r\n\" style=\"fill:none;stroke:#b0b0b0;stroke-linecap:square;stroke-width:0.8;\"/>\r\n     </g>\r\n     <g id=\"line2d_2\">\r\n      <defs>\r\n       <path d=\"M 0 0 \r\nL 0 3.5 \r\n\" id=\"mb4a985eab6\" style=\"stroke:#000000;stroke-width:0.8;\"/>\r\n      </defs>\r\n      <g>\r\n       <use style=\"stroke:#000000;stroke-width:0.8;\" x=\"49.480398\" xlink:href=\"#mb4a985eab6\" y=\"143.1\"/>\r\n      </g>\r\n     </g>\r\n     <g id=\"text_1\">\r\n      <!-- 0 -->\r\n      <g transform=\"translate(46.299148 157.698438)scale(0.1 -0.1)\">\r\n       <defs>\r\n        <path d=\"M 31.78125 66.40625 \r\nQ 24.171875 66.40625 20.328125 58.90625 \r\nQ 16.5 51.421875 16.5 36.375 \r\nQ 16.5 21.390625 20.328125 13.890625 \r\nQ 24.171875 6.390625 31.78125 6.390625 \r\nQ 39.453125 6.390625 43.28125 13.890625 \r\nQ 47.125 21.390625 47.125 36.375 \r\nQ 47.125 51.421875 43.28125 58.90625 \r\nQ 39.453125 66.40625 31.78125 66.40625 \r\nz\r\nM 31.78125 74.21875 \r\nQ 44.046875 74.21875 50.515625 64.515625 \r\nQ 56.984375 54.828125 56.984375 36.375 \r\nQ 56.984375 17.96875 50.515625 8.265625 \r\nQ 44.046875 -1.421875 31.78125 -1.421875 \r\nQ 19.53125 -1.421875 13.0625 8.265625 \r\nQ 6.59375 17.96875 6.59375 36.375 \r\nQ 6.59375 54.828125 13.0625 64.515625 \r\nQ 19.53125 74.21875 31.78125 74.21875 \r\nz\r\n\" id=\"DejaVuSans-48\"/>\r\n       </defs>\r\n       <use xlink:href=\"#DejaVuSans-48\"/>\r\n      </g>\r\n     </g>\r\n    </g>\r\n    <g id=\"xtick_2\">\r\n     <g id=\"line2d_3\">\r\n      <path clip-path=\"url(#pe92b01a8f4)\" d=\"M 110.702968 143.1 \r\nL 110.702968 7.2 \r\n\" style=\"fill:none;stroke:#b0b0b0;stroke-linecap:square;stroke-width:0.8;\"/>\r\n     </g>\r\n     <g id=\"line2d_4\">\r\n      <g>\r\n       <use style=\"stroke:#000000;stroke-width:0.8;\" x=\"110.702968\" xlink:href=\"#mb4a985eab6\" y=\"143.1\"/>\r\n      </g>\r\n     </g>\r\n     <g id=\"text_2\">\r\n      <!-- 1 -->\r\n      <g transform=\"translate(107.521718 157.698438)scale(0.1 -0.1)\">\r\n       <defs>\r\n        <path d=\"M 12.40625 8.296875 \r\nL 28.515625 8.296875 \r\nL 28.515625 63.921875 \r\nL 10.984375 60.40625 \r\nL 10.984375 69.390625 \r\nL 28.421875 72.90625 \r\nL 38.28125 72.90625 \r\nL 38.28125 8.296875 \r\nL 54.390625 8.296875 \r\nL 54.390625 0 \r\nL 12.40625 0 \r\nz\r\n\" id=\"DejaVuSans-49\"/>\r\n       </defs>\r\n       <use xlink:href=\"#DejaVuSans-49\"/>\r\n      </g>\r\n     </g>\r\n    </g>\r\n    <g id=\"xtick_3\">\r\n     <g id=\"line2d_5\">\r\n      <path clip-path=\"url(#pe92b01a8f4)\" d=\"M 171.925539 143.1 \r\nL 171.925539 7.2 \r\n\" style=\"fill:none;stroke:#b0b0b0;stroke-linecap:square;stroke-width:0.8;\"/>\r\n     </g>\r\n     <g id=\"line2d_6\">\r\n      <g>\r\n       <use style=\"stroke:#000000;stroke-width:0.8;\" x=\"171.925539\" xlink:href=\"#mb4a985eab6\" y=\"143.1\"/>\r\n      </g>\r\n     </g>\r\n     <g id=\"text_3\">\r\n      <!-- 2 -->\r\n      <g transform=\"translate(168.744289 157.698438)scale(0.1 -0.1)\">\r\n       <defs>\r\n        <path d=\"M 19.1875 8.296875 \r\nL 53.609375 8.296875 \r\nL 53.609375 0 \r\nL 7.328125 0 \r\nL 7.328125 8.296875 \r\nQ 12.9375 14.109375 22.625 23.890625 \r\nQ 32.328125 33.6875 34.8125 36.53125 \r\nQ 39.546875 41.84375 41.421875 45.53125 \r\nQ 43.3125 49.21875 43.3125 52.78125 \r\nQ 43.3125 58.59375 39.234375 62.25 \r\nQ 35.15625 65.921875 28.609375 65.921875 \r\nQ 23.96875 65.921875 18.8125 64.3125 \r\nQ 13.671875 62.703125 7.8125 59.421875 \r\nL 7.8125 69.390625 \r\nQ 13.765625 71.78125 18.9375 73 \r\nQ 24.125 74.21875 28.421875 74.21875 \r\nQ 39.75 74.21875 46.484375 68.546875 \r\nQ 53.21875 62.890625 53.21875 53.421875 \r\nQ 53.21875 48.921875 51.53125 44.890625 \r\nQ 49.859375 40.875 45.40625 35.40625 \r\nQ 44.1875 33.984375 37.640625 27.21875 \r\nQ 31.109375 20.453125 19.1875 8.296875 \r\nz\r\n\" id=\"DejaVuSans-50\"/>\r\n       </defs>\r\n       <use xlink:href=\"#DejaVuSans-50\"/>\r\n      </g>\r\n     </g>\r\n    </g>\r\n    <g id=\"xtick_4\">\r\n     <g id=\"line2d_7\">\r\n      <path clip-path=\"url(#pe92b01a8f4)\" d=\"M 233.148109 143.1 \r\nL 233.148109 7.2 \r\n\" style=\"fill:none;stroke:#b0b0b0;stroke-linecap:square;stroke-width:0.8;\"/>\r\n     </g>\r\n     <g id=\"line2d_8\">\r\n      <g>\r\n       <use style=\"stroke:#000000;stroke-width:0.8;\" x=\"233.148109\" xlink:href=\"#mb4a985eab6\" y=\"143.1\"/>\r\n      </g>\r\n     </g>\r\n     <g id=\"text_4\">\r\n      <!-- 3 -->\r\n      <g transform=\"translate(229.966859 157.698438)scale(0.1 -0.1)\">\r\n       <defs>\r\n        <path d=\"M 40.578125 39.3125 \r\nQ 47.65625 37.796875 51.625 33 \r\nQ 55.609375 28.21875 55.609375 21.1875 \r\nQ 55.609375 10.40625 48.1875 4.484375 \r\nQ 40.765625 -1.421875 27.09375 -1.421875 \r\nQ 22.515625 -1.421875 17.65625 -0.515625 \r\nQ 12.796875 0.390625 7.625 2.203125 \r\nL 7.625 11.71875 \r\nQ 11.71875 9.328125 16.59375 8.109375 \r\nQ 21.484375 6.890625 26.8125 6.890625 \r\nQ 36.078125 6.890625 40.9375 10.546875 \r\nQ 45.796875 14.203125 45.796875 21.1875 \r\nQ 45.796875 27.640625 41.28125 31.265625 \r\nQ 36.765625 34.90625 28.71875 34.90625 \r\nL 20.21875 34.90625 \r\nL 20.21875 43.015625 \r\nL 29.109375 43.015625 \r\nQ 36.375 43.015625 40.234375 45.921875 \r\nQ 44.09375 48.828125 44.09375 54.296875 \r\nQ 44.09375 59.90625 40.109375 62.90625 \r\nQ 36.140625 65.921875 28.71875 65.921875 \r\nQ 24.65625 65.921875 20.015625 65.03125 \r\nQ 15.375 64.15625 9.8125 62.3125 \r\nL 9.8125 71.09375 \r\nQ 15.4375 72.65625 20.34375 73.4375 \r\nQ 25.25 74.21875 29.59375 74.21875 \r\nQ 40.828125 74.21875 47.359375 69.109375 \r\nQ 53.90625 64.015625 53.90625 55.328125 \r\nQ 53.90625 49.265625 50.4375 45.09375 \r\nQ 46.96875 40.921875 40.578125 39.3125 \r\nz\r\n\" id=\"DejaVuSans-51\"/>\r\n       </defs>\r\n       <use xlink:href=\"#DejaVuSans-51\"/>\r\n      </g>\r\n     </g>\r\n    </g>\r\n    <g id=\"text_5\">\r\n     <!-- x -->\r\n     <g transform=\"translate(135.29375 171.376563)scale(0.1 -0.1)\">\r\n      <defs>\r\n       <path d=\"M 54.890625 54.6875 \r\nL 35.109375 28.078125 \r\nL 55.90625 0 \r\nL 45.3125 0 \r\nL 29.390625 21.484375 \r\nL 13.484375 0 \r\nL 2.875 0 \r\nL 24.125 28.609375 \r\nL 4.6875 54.6875 \r\nL 15.28125 54.6875 \r\nL 29.78125 35.203125 \r\nL 44.28125 54.6875 \r\nz\r\n\" id=\"DejaVuSans-120\"/>\r\n      </defs>\r\n      <use xlink:href=\"#DejaVuSans-120\"/>\r\n     </g>\r\n    </g>\r\n   </g>\r\n   <g id=\"matplotlib.axis_2\">\r\n    <g id=\"ytick_1\">\r\n     <g id=\"line2d_9\">\r\n      <path clip-path=\"url(#pe92b01a8f4)\" d=\"M 40.603125 114.635514 \r\nL 235.903125 114.635514 \r\n\" style=\"fill:none;stroke:#b0b0b0;stroke-linecap:square;stroke-width:0.8;\"/>\r\n     </g>\r\n     <g id=\"line2d_10\">\r\n      <defs>\r\n       <path d=\"M 0 0 \r\nL -3.5 0 \r\n\" id=\"m48f4376872\" style=\"stroke:#000000;stroke-width:0.8;\"/>\r\n      </defs>\r\n      <g>\r\n       <use style=\"stroke:#000000;stroke-width:0.8;\" x=\"40.603125\" xlink:href=\"#m48f4376872\" y=\"114.635514\"/>\r\n      </g>\r\n     </g>\r\n     <g id=\"text_6\">\r\n      <!-- 0 -->\r\n      <g transform=\"translate(27.240625 118.434732)scale(0.1 -0.1)\">\r\n       <use xlink:href=\"#DejaVuSans-48\"/>\r\n      </g>\r\n     </g>\r\n    </g>\r\n    <g id=\"ytick_2\">\r\n     <g id=\"line2d_11\">\r\n      <path clip-path=\"url(#pe92b01a8f4)\" d=\"M 40.603125 77.490157 \r\nL 235.903125 77.490157 \r\n\" style=\"fill:none;stroke:#b0b0b0;stroke-linecap:square;stroke-width:0.8;\"/>\r\n     </g>\r\n     <g id=\"line2d_12\">\r\n      <g>\r\n       <use style=\"stroke:#000000;stroke-width:0.8;\" x=\"40.603125\" xlink:href=\"#m48f4376872\" y=\"77.490157\"/>\r\n      </g>\r\n     </g>\r\n     <g id=\"text_7\">\r\n      <!-- 5 -->\r\n      <g transform=\"translate(27.240625 81.289376)scale(0.1 -0.1)\">\r\n       <defs>\r\n        <path d=\"M 10.796875 72.90625 \r\nL 49.515625 72.90625 \r\nL 49.515625 64.59375 \r\nL 19.828125 64.59375 \r\nL 19.828125 46.734375 \r\nQ 21.96875 47.46875 24.109375 47.828125 \r\nQ 26.265625 48.1875 28.421875 48.1875 \r\nQ 40.625 48.1875 47.75 41.5 \r\nQ 54.890625 34.8125 54.890625 23.390625 \r\nQ 54.890625 11.625 47.5625 5.09375 \r\nQ 40.234375 -1.421875 26.90625 -1.421875 \r\nQ 22.3125 -1.421875 17.546875 -0.640625 \r\nQ 12.796875 0.140625 7.71875 1.703125 \r\nL 7.71875 11.625 \r\nQ 12.109375 9.234375 16.796875 8.0625 \r\nQ 21.484375 6.890625 26.703125 6.890625 \r\nQ 35.15625 6.890625 40.078125 11.328125 \r\nQ 45.015625 15.765625 45.015625 23.390625 \r\nQ 45.015625 31 40.078125 35.4375 \r\nQ 35.15625 39.890625 26.703125 39.890625 \r\nQ 22.75 39.890625 18.8125 39.015625 \r\nQ 14.890625 38.140625 10.796875 36.28125 \r\nz\r\n\" id=\"DejaVuSans-53\"/>\r\n       </defs>\r\n       <use xlink:href=\"#DejaVuSans-53\"/>\r\n      </g>\r\n     </g>\r\n    </g>\r\n    <g id=\"ytick_3\">\r\n     <g id=\"line2d_13\">\r\n      <path clip-path=\"url(#pe92b01a8f4)\" d=\"M 40.603125 40.344801 \r\nL 235.903125 40.344801 \r\n\" style=\"fill:none;stroke:#b0b0b0;stroke-linecap:square;stroke-width:0.8;\"/>\r\n     </g>\r\n     <g id=\"line2d_14\">\r\n      <g>\r\n       <use style=\"stroke:#000000;stroke-width:0.8;\" x=\"40.603125\" xlink:href=\"#m48f4376872\" y=\"40.344801\"/>\r\n      </g>\r\n     </g>\r\n     <g id=\"text_8\">\r\n      <!-- 10 -->\r\n      <g transform=\"translate(20.878125 44.14402)scale(0.1 -0.1)\">\r\n       <use xlink:href=\"#DejaVuSans-49\"/>\r\n       <use x=\"63.623047\" xlink:href=\"#DejaVuSans-48\"/>\r\n      </g>\r\n     </g>\r\n    </g>\r\n    <g id=\"text_9\">\r\n     <!-- f(x) -->\r\n     <g transform=\"translate(14.798437 83.771094)rotate(-90)scale(0.1 -0.1)\">\r\n      <defs>\r\n       <path d=\"M 37.109375 75.984375 \r\nL 37.109375 68.5 \r\nL 28.515625 68.5 \r\nQ 23.6875 68.5 21.796875 66.546875 \r\nQ 19.921875 64.59375 19.921875 59.515625 \r\nL 19.921875 54.6875 \r\nL 34.71875 54.6875 \r\nL 34.71875 47.703125 \r\nL 19.921875 47.703125 \r\nL 19.921875 0 \r\nL 10.890625 0 \r\nL 10.890625 47.703125 \r\nL 2.296875 47.703125 \r\nL 2.296875 54.6875 \r\nL 10.890625 54.6875 \r\nL 10.890625 58.5 \r\nQ 10.890625 67.625 15.140625 71.796875 \r\nQ 19.390625 75.984375 28.609375 75.984375 \r\nz\r\n\" id=\"DejaVuSans-102\"/>\r\n       <path d=\"M 31 75.875 \r\nQ 24.46875 64.65625 21.28125 53.65625 \r\nQ 18.109375 42.671875 18.109375 31.390625 \r\nQ 18.109375 20.125 21.3125 9.0625 \r\nQ 24.515625 -2 31 -13.1875 \r\nL 23.1875 -13.1875 \r\nQ 15.875 -1.703125 12.234375 9.375 \r\nQ 8.59375 20.453125 8.59375 31.390625 \r\nQ 8.59375 42.28125 12.203125 53.3125 \r\nQ 15.828125 64.359375 23.1875 75.875 \r\nz\r\n\" id=\"DejaVuSans-40\"/>\r\n       <path d=\"M 8.015625 75.875 \r\nL 15.828125 75.875 \r\nQ 23.140625 64.359375 26.78125 53.3125 \r\nQ 30.421875 42.28125 30.421875 31.390625 \r\nQ 30.421875 20.453125 26.78125 9.375 \r\nQ 23.140625 -1.703125 15.828125 -13.1875 \r\nL 8.015625 -13.1875 \r\nQ 14.5 -2 17.703125 9.0625 \r\nQ 20.90625 20.125 20.90625 31.390625 \r\nQ 20.90625 42.671875 17.703125 53.65625 \r\nQ 14.5 64.65625 8.015625 75.875 \r\nz\r\n\" id=\"DejaVuSans-41\"/>\r\n      </defs>\r\n      <use xlink:href=\"#DejaVuSans-102\"/>\r\n      <use x=\"35.205078\" xlink:href=\"#DejaVuSans-40\"/>\r\n      <use x=\"74.21875\" xlink:href=\"#DejaVuSans-120\"/>\r\n      <use x=\"133.398438\" xlink:href=\"#DejaVuSans-41\"/>\r\n     </g>\r\n    </g>\r\n   </g>\r\n   <g id=\"line2d_15\">\r\n    <path clip-path=\"url(#pe92b01a8f4)\" d=\"M 49.480398 114.635514 \r\nL 55.602655 117.38427 \r\nL 61.724912 119.687282 \r\nL 67.847169 121.54455 \r\nL 73.969426 122.956073 \r\nL 80.091683 123.921853 \r\nL 86.21394 124.441888 \r\nL 92.336197 124.516178 \r\nL 98.458454 124.144725 \r\nL 104.580711 123.327527 \r\nL 110.702968 122.064585 \r\nL 116.825225 120.355898 \r\nL 122.947482 118.201468 \r\nL 129.069739 115.601293 \r\nL 135.191996 112.555374 \r\nL 141.314254 109.06371 \r\nL 147.436511 105.126302 \r\nL 153.558768 100.74315 \r\nL 159.681025 95.914254 \r\nL 165.803282 90.639614 \r\nL 171.925539 84.919229 \r\nL 178.047796 78.7531 \r\nL 184.170053 72.141226 \r\nL 190.29231 65.083608 \r\nL 196.414567 57.580247 \r\nL 202.536824 49.63114 \r\nL 208.659081 41.23629 \r\nL 214.781338 32.395695 \r\nL 220.903595 23.109356 \r\nL 227.025852 13.377273 \r\n\" style=\"fill:none;stroke:#1f77b4;stroke-linecap:square;stroke-width:1.5;\"/>\r\n   </g>\r\n   <g id=\"line2d_16\">\r\n    <path clip-path=\"url(#pe92b01a8f4)\" d=\"M 49.480398 136.922727 \r\nL 55.602655 135.436913 \r\nL 61.724912 133.951099 \r\nL 67.847169 132.465285 \r\nL 73.969426 130.97947 \r\nL 80.091683 129.493656 \r\nL 86.21394 128.007842 \r\nL 92.336197 126.522028 \r\nL 98.458454 125.036213 \r\nL 104.580711 123.550399 \r\nL 110.702968 122.064585 \r\nL 116.825225 120.578771 \r\nL 122.947482 119.092956 \r\nL 129.069739 117.607142 \r\nL 135.191996 116.121328 \r\nL 141.314254 114.635514 \r\nL 147.436511 113.149699 \r\nL 153.558768 111.663885 \r\nL 159.681025 110.178071 \r\nL 165.803282 108.692257 \r\nL 171.925539 107.206442 \r\nL 178.047796 105.720628 \r\nL 184.170053 104.234814 \r\nL 190.29231 102.749 \r\nL 196.414567 101.263185 \r\nL 202.536824 99.777371 \r\nL 208.659081 98.291557 \r\nL 214.781338 96.805743 \r\nL 220.903595 95.319928 \r\nL 227.025852 93.834114 \r\n\" style=\"fill:none;stroke:#bf00bf;stroke-dasharray:5.55,2.4;stroke-dashoffset:0;stroke-width:1.5;\"/>\r\n   </g>\r\n   <g id=\"patch_3\">\r\n    <path d=\"M 40.603125 143.1 \r\nL 40.603125 7.2 \r\n\" style=\"fill:none;stroke:#000000;stroke-linecap:square;stroke-linejoin:miter;stroke-width:0.8;\"/>\r\n   </g>\r\n   <g id=\"patch_4\">\r\n    <path d=\"M 235.903125 143.1 \r\nL 235.903125 7.2 \r\n\" style=\"fill:none;stroke:#000000;stroke-linecap:square;stroke-linejoin:miter;stroke-width:0.8;\"/>\r\n   </g>\r\n   <g id=\"patch_5\">\r\n    <path d=\"M 40.603125 143.1 \r\nL 235.903125 143.1 \r\n\" style=\"fill:none;stroke:#000000;stroke-linecap:square;stroke-linejoin:miter;stroke-width:0.8;\"/>\r\n   </g>\r\n   <g id=\"patch_6\">\r\n    <path d=\"M 40.603125 7.2 \r\nL 235.903125 7.2 \r\n\" style=\"fill:none;stroke:#000000;stroke-linecap:square;stroke-linejoin:miter;stroke-width:0.8;\"/>\r\n   </g>\r\n   <g id=\"legend_1\">\r\n    <g id=\"patch_7\">\r\n     <path d=\"M 47.603125 44.55625 \r\nL 172.153125 44.55625 \r\nQ 174.153125 44.55625 174.153125 42.55625 \r\nL 174.153125 14.2 \r\nQ 174.153125 12.2 172.153125 12.2 \r\nL 47.603125 12.2 \r\nQ 45.603125 12.2 45.603125 14.2 \r\nL 45.603125 42.55625 \r\nQ 45.603125 44.55625 47.603125 44.55625 \r\nz\r\n\" style=\"fill:#ffffff;opacity:0.8;stroke:#cccccc;stroke-linejoin:miter;\"/>\r\n    </g>\r\n    <g id=\"line2d_17\">\r\n     <path d=\"M 49.603125 20.298437 \r\nL 69.603125 20.298437 \r\n\" style=\"fill:none;stroke:#1f77b4;stroke-linecap:square;stroke-width:1.5;\"/>\r\n    </g>\r\n    <g id=\"line2d_18\"/>\r\n    <g id=\"text_10\">\r\n     <!-- f(x) -->\r\n     <g transform=\"translate(77.603125 23.798437)scale(0.1 -0.1)\">\r\n      <use xlink:href=\"#DejaVuSans-102\"/>\r\n      <use x=\"35.205078\" xlink:href=\"#DejaVuSans-40\"/>\r\n      <use x=\"74.21875\" xlink:href=\"#DejaVuSans-120\"/>\r\n      <use x=\"133.398438\" xlink:href=\"#DejaVuSans-41\"/>\r\n     </g>\r\n    </g>\r\n    <g id=\"line2d_19\">\r\n     <path d=\"M 49.603125 34.976562 \r\nL 69.603125 34.976562 \r\n\" style=\"fill:none;stroke:#bf00bf;stroke-dasharray:5.55,2.4;stroke-dashoffset:0;stroke-width:1.5;\"/>\r\n    </g>\r\n    <g id=\"line2d_20\"/>\r\n    <g id=\"text_11\">\r\n     <!-- Tangent line (x=1) -->\r\n     <g transform=\"translate(77.603125 38.476562)scale(0.1 -0.1)\">\r\n      <defs>\r\n       <path d=\"M -0.296875 72.90625 \r\nL 61.375 72.90625 \r\nL 61.375 64.59375 \r\nL 35.5 64.59375 \r\nL 35.5 0 \r\nL 25.59375 0 \r\nL 25.59375 64.59375 \r\nL -0.296875 64.59375 \r\nz\r\n\" id=\"DejaVuSans-84\"/>\r\n       <path d=\"M 34.28125 27.484375 \r\nQ 23.390625 27.484375 19.1875 25 \r\nQ 14.984375 22.515625 14.984375 16.5 \r\nQ 14.984375 11.71875 18.140625 8.90625 \r\nQ 21.296875 6.109375 26.703125 6.109375 \r\nQ 34.1875 6.109375 38.703125 11.40625 \r\nQ 43.21875 16.703125 43.21875 25.484375 \r\nL 43.21875 27.484375 \r\nz\r\nM 52.203125 31.203125 \r\nL 52.203125 0 \r\nL 43.21875 0 \r\nL 43.21875 8.296875 \r\nQ 40.140625 3.328125 35.546875 0.953125 \r\nQ 30.953125 -1.421875 24.3125 -1.421875 \r\nQ 15.921875 -1.421875 10.953125 3.296875 \r\nQ 6 8.015625 6 15.921875 \r\nQ 6 25.140625 12.171875 29.828125 \r\nQ 18.359375 34.515625 30.609375 34.515625 \r\nL 43.21875 34.515625 \r\nL 43.21875 35.40625 \r\nQ 43.21875 41.609375 39.140625 45 \r\nQ 35.0625 48.390625 27.6875 48.390625 \r\nQ 23 48.390625 18.546875 47.265625 \r\nQ 14.109375 46.140625 10.015625 43.890625 \r\nL 10.015625 52.203125 \r\nQ 14.9375 54.109375 19.578125 55.046875 \r\nQ 24.21875 56 28.609375 56 \r\nQ 40.484375 56 46.34375 49.84375 \r\nQ 52.203125 43.703125 52.203125 31.203125 \r\nz\r\n\" id=\"DejaVuSans-97\"/>\r\n       <path d=\"M 54.890625 33.015625 \r\nL 54.890625 0 \r\nL 45.90625 0 \r\nL 45.90625 32.71875 \r\nQ 45.90625 40.484375 42.875 44.328125 \r\nQ 39.84375 48.1875 33.796875 48.1875 \r\nQ 26.515625 48.1875 22.3125 43.546875 \r\nQ 18.109375 38.921875 18.109375 30.90625 \r\nL 18.109375 0 \r\nL 9.078125 0 \r\nL 9.078125 54.6875 \r\nL 18.109375 54.6875 \r\nL 18.109375 46.1875 \r\nQ 21.34375 51.125 25.703125 53.5625 \r\nQ 30.078125 56 35.796875 56 \r\nQ 45.21875 56 50.046875 50.171875 \r\nQ 54.890625 44.34375 54.890625 33.015625 \r\nz\r\n\" id=\"DejaVuSans-110\"/>\r\n       <path d=\"M 45.40625 27.984375 \r\nQ 45.40625 37.75 41.375 43.109375 \r\nQ 37.359375 48.484375 30.078125 48.484375 \r\nQ 22.859375 48.484375 18.828125 43.109375 \r\nQ 14.796875 37.75 14.796875 27.984375 \r\nQ 14.796875 18.265625 18.828125 12.890625 \r\nQ 22.859375 7.515625 30.078125 7.515625 \r\nQ 37.359375 7.515625 41.375 12.890625 \r\nQ 45.40625 18.265625 45.40625 27.984375 \r\nz\r\nM 54.390625 6.78125 \r\nQ 54.390625 -7.171875 48.1875 -13.984375 \r\nQ 42 -20.796875 29.203125 -20.796875 \r\nQ 24.46875 -20.796875 20.265625 -20.09375 \r\nQ 16.0625 -19.390625 12.109375 -17.921875 \r\nL 12.109375 -9.1875 \r\nQ 16.0625 -11.328125 19.921875 -12.34375 \r\nQ 23.78125 -13.375 27.78125 -13.375 \r\nQ 36.625 -13.375 41.015625 -8.765625 \r\nQ 45.40625 -4.15625 45.40625 5.171875 \r\nL 45.40625 9.625 \r\nQ 42.625 4.78125 38.28125 2.390625 \r\nQ 33.9375 0 27.875 0 \r\nQ 17.828125 0 11.671875 7.65625 \r\nQ 5.515625 15.328125 5.515625 27.984375 \r\nQ 5.515625 40.671875 11.671875 48.328125 \r\nQ 17.828125 56 27.875 56 \r\nQ 33.9375 56 38.28125 53.609375 \r\nQ 42.625 51.21875 45.40625 46.390625 \r\nL 45.40625 54.6875 \r\nL 54.390625 54.6875 \r\nz\r\n\" id=\"DejaVuSans-103\"/>\r\n       <path d=\"M 56.203125 29.59375 \r\nL 56.203125 25.203125 \r\nL 14.890625 25.203125 \r\nQ 15.484375 15.921875 20.484375 11.0625 \r\nQ 25.484375 6.203125 34.421875 6.203125 \r\nQ 39.59375 6.203125 44.453125 7.46875 \r\nQ 49.3125 8.734375 54.109375 11.28125 \r\nL 54.109375 2.78125 \r\nQ 49.265625 0.734375 44.1875 -0.34375 \r\nQ 39.109375 -1.421875 33.890625 -1.421875 \r\nQ 20.796875 -1.421875 13.15625 6.1875 \r\nQ 5.515625 13.8125 5.515625 26.8125 \r\nQ 5.515625 40.234375 12.765625 48.109375 \r\nQ 20.015625 56 32.328125 56 \r\nQ 43.359375 56 49.78125 48.890625 \r\nQ 56.203125 41.796875 56.203125 29.59375 \r\nz\r\nM 47.21875 32.234375 \r\nQ 47.125 39.59375 43.09375 43.984375 \r\nQ 39.0625 48.390625 32.421875 48.390625 \r\nQ 24.90625 48.390625 20.390625 44.140625 \r\nQ 15.875 39.890625 15.1875 32.171875 \r\nz\r\n\" id=\"DejaVuSans-101\"/>\r\n       <path d=\"M 18.3125 70.21875 \r\nL 18.3125 54.6875 \r\nL 36.8125 54.6875 \r\nL 36.8125 47.703125 \r\nL 18.3125 47.703125 \r\nL 18.3125 18.015625 \r\nQ 18.3125 11.328125 20.140625 9.421875 \r\nQ 21.96875 7.515625 27.59375 7.515625 \r\nL 36.8125 7.515625 \r\nL 36.8125 0 \r\nL 27.59375 0 \r\nQ 17.1875 0 13.234375 3.875 \r\nQ 9.28125 7.765625 9.28125 18.015625 \r\nL 9.28125 47.703125 \r\nL 2.6875 47.703125 \r\nL 2.6875 54.6875 \r\nL 9.28125 54.6875 \r\nL 9.28125 70.21875 \r\nz\r\n\" id=\"DejaVuSans-116\"/>\r\n       <path id=\"DejaVuSans-32\"/>\r\n       <path d=\"M 9.421875 75.984375 \r\nL 18.40625 75.984375 \r\nL 18.40625 0 \r\nL 9.421875 0 \r\nz\r\n\" id=\"DejaVuSans-108\"/>\r\n       <path d=\"M 9.421875 54.6875 \r\nL 18.40625 54.6875 \r\nL 18.40625 0 \r\nL 9.421875 0 \r\nz\r\nM 9.421875 75.984375 \r\nL 18.40625 75.984375 \r\nL 18.40625 64.59375 \r\nL 9.421875 64.59375 \r\nz\r\n\" id=\"DejaVuSans-105\"/>\r\n       <path d=\"M 10.59375 45.40625 \r\nL 73.1875 45.40625 \r\nL 73.1875 37.203125 \r\nL 10.59375 37.203125 \r\nz\r\nM 10.59375 25.484375 \r\nL 73.1875 25.484375 \r\nL 73.1875 17.1875 \r\nL 10.59375 17.1875 \r\nz\r\n\" id=\"DejaVuSans-61\"/>\r\n      </defs>\r\n      <use xlink:href=\"#DejaVuSans-84\"/>\r\n      <use x=\"44.583984\" xlink:href=\"#DejaVuSans-97\"/>\r\n      <use x=\"105.863281\" xlink:href=\"#DejaVuSans-110\"/>\r\n      <use x=\"169.242188\" xlink:href=\"#DejaVuSans-103\"/>\r\n      <use x=\"232.71875\" xlink:href=\"#DejaVuSans-101\"/>\r\n      <use x=\"294.242188\" xlink:href=\"#DejaVuSans-110\"/>\r\n      <use x=\"357.621094\" xlink:href=\"#DejaVuSans-116\"/>\r\n      <use x=\"396.830078\" xlink:href=\"#DejaVuSans-32\"/>\r\n      <use x=\"428.617188\" xlink:href=\"#DejaVuSans-108\"/>\r\n      <use x=\"456.400391\" xlink:href=\"#DejaVuSans-105\"/>\r\n      <use x=\"484.183594\" xlink:href=\"#DejaVuSans-110\"/>\r\n      <use x=\"547.5625\" xlink:href=\"#DejaVuSans-101\"/>\r\n      <use x=\"609.085938\" xlink:href=\"#DejaVuSans-32\"/>\r\n      <use x=\"640.873047\" xlink:href=\"#DejaVuSans-40\"/>\r\n      <use x=\"679.886719\" xlink:href=\"#DejaVuSans-120\"/>\r\n      <use x=\"739.066406\" xlink:href=\"#DejaVuSans-61\"/>\r\n      <use x=\"822.855469\" xlink:href=\"#DejaVuSans-49\"/>\r\n      <use x=\"886.478516\" xlink:href=\"#DejaVuSans-41\"/>\r\n     </g>\r\n    </g>\r\n   </g>\r\n  </g>\r\n </g>\r\n <defs>\r\n  <clipPath id=\"pe92b01a8f4\">\r\n   <rect height=\"135.9\" width=\"195.3\" x=\"40.603125\" y=\"7.2\"/>\r\n  </clipPath>\r\n </defs>\r\n</svg>\r\n",
      "text/plain": [
       "<Figure size 252x180 with 1 Axes>"
      ]
     },
     "metadata": {
      "needs_background": "light"
     },
     "output_type": "display_data"
    }
   ],
   "source": [
    "x = np.arange(0, 3, 0.1)\n",
    "plot(x, [f(x), 2 * x - 3], 'x', 'f(x)', legend=['f(x)', 'Tangent line (x=1)'])"
   ]
  },
  {
   "attachments": {},
   "cell_type": "markdown",
   "metadata": {},
   "source": [
    "## 2.4.2 偏导数"
   ]
  },
  {
   "attachments": {},
   "cell_type": "markdown",
   "metadata": {},
   "source": [
    "## 2.4.3 梯度"
   ]
  },
  {
   "attachments": {},
   "cell_type": "markdown",
   "metadata": {},
   "source": [
    "## 2.4.4 链式法则"
   ]
  },
  {
   "attachments": {},
   "cell_type": "markdown",
   "metadata": {},
   "source": [
    "# 2.5 自动微分"
   ]
  },
  {
   "cell_type": "code",
   "execution_count": 11,
   "metadata": {},
   "outputs": [
    {
     "data": {
      "text/plain": [
       "tensor([0., 1., 2., 3.])"
      ]
     },
     "execution_count": 11,
     "metadata": {},
     "output_type": "execute_result"
    }
   ],
   "source": [
    "import torch\n",
    "\n",
    "x = torch.arange(4.0)\n",
    "x"
   ]
  },
  {
   "cell_type": "code",
   "execution_count": 12,
   "metadata": {},
   "outputs": [],
   "source": [
    "x.requires_grad_(True)\n",
    "x.grad"
   ]
  },
  {
   "cell_type": "code",
   "execution_count": 13,
   "metadata": {},
   "outputs": [
    {
     "data": {
      "text/plain": [
       "tensor(28., grad_fn=<MulBackward0>)"
      ]
     },
     "execution_count": 13,
     "metadata": {},
     "output_type": "execute_result"
    }
   ],
   "source": [
    "y = 2 * torch.dot(x, x)\n",
    "y"
   ]
  },
  {
   "cell_type": "code",
   "execution_count": 14,
   "metadata": {},
   "outputs": [
    {
     "data": {
      "text/plain": [
       "tensor([ 0.,  4.,  8., 12.])"
      ]
     },
     "execution_count": 14,
     "metadata": {},
     "output_type": "execute_result"
    }
   ],
   "source": [
    "y.backward()\n",
    "x.grad"
   ]
  },
  {
   "cell_type": "code",
   "execution_count": 15,
   "metadata": {},
   "outputs": [
    {
     "data": {
      "text/plain": [
       "tensor([True, True, True, True])"
      ]
     },
     "execution_count": 15,
     "metadata": {},
     "output_type": "execute_result"
    }
   ],
   "source": [
    "x.grad == 4 * x"
   ]
  },
  {
   "cell_type": "code",
   "execution_count": 17,
   "metadata": {},
   "outputs": [
    {
     "data": {
      "text/plain": [
       "tensor([1., 1., 1., 1.])"
      ]
     },
     "execution_count": 17,
     "metadata": {},
     "output_type": "execute_result"
    }
   ],
   "source": [
    "x.grad.zero_()\n",
    "y = x.sum()\n",
    "y.backward()\n",
    "x.grad"
   ]
  },
  {
   "attachments": {},
   "cell_type": "markdown",
   "metadata": {},
   "source": [
    "## 2.5.2 非标量变量的反向传播"
   ]
  },
  {
   "cell_type": "code",
   "execution_count": 18,
   "metadata": {},
   "outputs": [
    {
     "data": {
      "text/plain": [
       "tensor([0., 2., 4., 6.])"
      ]
     },
     "execution_count": 18,
     "metadata": {},
     "output_type": "execute_result"
    }
   ],
   "source": [
    "x.grad.zero_()\n",
    "y = x * x\n",
    "y.sum().backward()\n",
    "x.grad"
   ]
  },
  {
   "attachments": {},
   "cell_type": "markdown",
   "metadata": {},
   "source": [
    "## 2.5.3 分离计算"
   ]
  },
  {
   "cell_type": "code",
   "execution_count": 19,
   "metadata": {},
   "outputs": [
    {
     "data": {
      "text/plain": [
       "tensor([True, True, True, True])"
      ]
     },
     "execution_count": 19,
     "metadata": {},
     "output_type": "execute_result"
    }
   ],
   "source": [
    "x.grad.zero_()\n",
    "y = x * x\n",
    "u = y.detach()\n",
    "z = u * x\n",
    "\n",
    "z.sum().backward()\n",
    "x.grad == u"
   ]
  },
  {
   "cell_type": "code",
   "execution_count": 20,
   "metadata": {},
   "outputs": [
    {
     "data": {
      "text/plain": [
       "tensor([True, True, True, True])"
      ]
     },
     "execution_count": 20,
     "metadata": {},
     "output_type": "execute_result"
    }
   ],
   "source": [
    "x.grad.zero_()\n",
    "y.sum().backward()\n",
    "x.grad == 2 * x"
   ]
  },
  {
   "attachments": {},
   "cell_type": "markdown",
   "metadata": {},
   "source": [
    "## 2.5.4 Python控制流的梯度方向"
   ]
  },
  {
   "cell_type": "code",
   "execution_count": 21,
   "metadata": {},
   "outputs": [],
   "source": [
    "def f(a):\n",
    "    b = a * 2\n",
    "    while b.norm() < 1000:\n",
    "        b = b * 2\n",
    "    if b.sum() > 0:\n",
    "        c = b\n",
    "    else:\n",
    "        c = 100 * b\n",
    "    \n",
    "    return c"
   ]
  },
  {
   "cell_type": "code",
   "execution_count": 22,
   "metadata": {},
   "outputs": [],
   "source": [
    "a = torch.rand(size=(), requires_grad=True)\n",
    "d = f(a)\n",
    "d.backward()"
   ]
  },
  {
   "cell_type": "code",
   "execution_count": 23,
   "metadata": {},
   "outputs": [
    {
     "data": {
      "text/plain": [
       "tensor(True)"
      ]
     },
     "execution_count": 23,
     "metadata": {},
     "output_type": "execute_result"
    }
   ],
   "source": [
    "a.grad == d / a"
   ]
  },
  {
   "cell_type": "code",
   "execution_count": 25,
   "metadata": {},
   "outputs": [
    {
     "data": {
      "text/plain": [
       "tensor(4096.)"
      ]
     },
     "execution_count": 25,
     "metadata": {},
     "output_type": "execute_result"
    }
   ],
   "source": [
    "a\n",
    "a.grad"
   ]
  },
  {
   "attachments": {},
   "cell_type": "markdown",
   "metadata": {},
   "source": [
    "# 2.6 概率"
   ]
  },
  {
   "attachments": {},
   "cell_type": "markdown",
   "metadata": {},
   "source": [
    "## 2.6.1 基本概率论"
   ]
  },
  {
   "cell_type": "code",
   "execution_count": 1,
   "metadata": {},
   "outputs": [],
   "source": [
    "%matplotlib inline\n",
    "import torch\n",
    "from torch.distributions import multinomial\n",
    "from d2l import torch as d2l"
   ]
  },
  {
   "cell_type": "code",
   "execution_count": 2,
   "metadata": {},
   "outputs": [
    {
     "data": {
      "text/plain": [
       "tensor([1., 0., 0., 0., 0., 0.])"
      ]
     },
     "execution_count": 2,
     "metadata": {},
     "output_type": "execute_result"
    }
   ],
   "source": [
    "fair_probs = torch.ones([6]) / 6\n",
    "multinomial.Multinomial(1, fair_probs).sample()"
   ]
  },
  {
   "cell_type": "code",
   "execution_count": 4,
   "metadata": {},
   "outputs": [
    {
     "data": {
      "text/plain": [
       "tensor([0., 2., 2., 2., 4., 0.])"
      ]
     },
     "execution_count": 4,
     "metadata": {},
     "output_type": "execute_result"
    }
   ],
   "source": [
    "multinomial.Multinomial(10, fair_probs).sample()"
   ]
  },
  {
   "cell_type": "code",
   "execution_count": 5,
   "metadata": {},
   "outputs": [
    {
     "data": {
      "text/plain": [
       "tensor([0.1720, 0.1630, 0.1760, 0.1370, 0.1700, 0.1820])"
      ]
     },
     "execution_count": 5,
     "metadata": {},
     "output_type": "execute_result"
    }
   ],
   "source": [
    "counts = multinomial.Multinomial(1000, fair_probs).sample()\n",
    "counts / 1000"
   ]
  },
  {
   "cell_type": "code",
   "execution_count": 10,
   "metadata": {},
   "outputs": [
    {
     "data": {
      "text/plain": [
       "<matplotlib.legend.Legend at 0x1dae19a8c88>"
      ]
     },
     "execution_count": 10,
     "metadata": {},
     "output_type": "execute_result"
    },
    {
     "data": {
      "image/svg+xml": "<?xml version=\"1.0\" encoding=\"utf-8\" standalone=\"no\"?>\r\n<!DOCTYPE svg PUBLIC \"-//W3C//DTD SVG 1.1//EN\"\r\n  \"http://www.w3.org/Graphics/SVG/1.1/DTD/svg11.dtd\">\r\n<!-- Created with matplotlib (https://matplotlib.org/) -->\r\n<svg height=\"289.37625pt\" version=\"1.1\" viewBox=\"0 0 392.14375 289.37625\" width=\"392.14375pt\" xmlns=\"http://www.w3.org/2000/svg\" xmlns:xlink=\"http://www.w3.org/1999/xlink\">\r\n <metadata>\r\n  <rdf:RDF xmlns:cc=\"http://creativecommons.org/ns#\" xmlns:dc=\"http://purl.org/dc/elements/1.1/\" xmlns:rdf=\"http://www.w3.org/1999/02/22-rdf-syntax-ns#\">\r\n   <cc:Work>\r\n    <dc:type rdf:resource=\"http://purl.org/dc/dcmitype/StillImage\"/>\r\n    <dc:date>2023-02-09T10:27:42.595523</dc:date>\r\n    <dc:format>image/svg+xml</dc:format>\r\n    <dc:creator>\r\n     <cc:Agent>\r\n      <dc:title>Matplotlib v3.3.3, https://matplotlib.org/</dc:title>\r\n     </cc:Agent>\r\n    </dc:creator>\r\n   </cc:Work>\r\n  </rdf:RDF>\r\n </metadata>\r\n <defs>\r\n  <style type=\"text/css\">*{stroke-linecap:butt;stroke-linejoin:round;}</style>\r\n </defs>\r\n <g id=\"figure_1\">\r\n  <g id=\"patch_1\">\r\n   <path d=\"M 0 289.37625 \r\nL 392.14375 289.37625 \r\nL 392.14375 0 \r\nL 0 0 \r\nz\r\n\" style=\"fill:none;\"/>\r\n  </g>\r\n  <g id=\"axes_1\">\r\n   <g id=\"patch_2\">\r\n    <path d=\"M 50.14375 251.82 \r\nL 384.94375 251.82 \r\nL 384.94375 7.2 \r\nL 50.14375 7.2 \r\nz\r\n\" style=\"fill:#ffffff;\"/>\r\n   </g>\r\n   <g id=\"matplotlib.axis_1\">\r\n    <g id=\"xtick_1\">\r\n     <g id=\"line2d_1\">\r\n      <defs>\r\n       <path d=\"M 0 0 \r\nL 0 3.5 \r\n\" id=\"m98cb1f76c6\" style=\"stroke:#000000;stroke-width:0.8;\"/>\r\n      </defs>\r\n      <g>\r\n       <use style=\"stroke:#000000;stroke-width:0.8;\" x=\"65.361932\" xlink:href=\"#m98cb1f76c6\" y=\"251.82\"/>\r\n      </g>\r\n     </g>\r\n     <g id=\"text_1\">\r\n      <!-- 0 -->\r\n      <g transform=\"translate(62.180682 266.418437)scale(0.1 -0.1)\">\r\n       <defs>\r\n        <path d=\"M 31.78125 66.40625 \r\nQ 24.171875 66.40625 20.328125 58.90625 \r\nQ 16.5 51.421875 16.5 36.375 \r\nQ 16.5 21.390625 20.328125 13.890625 \r\nQ 24.171875 6.390625 31.78125 6.390625 \r\nQ 39.453125 6.390625 43.28125 13.890625 \r\nQ 47.125 21.390625 47.125 36.375 \r\nQ 47.125 51.421875 43.28125 58.90625 \r\nQ 39.453125 66.40625 31.78125 66.40625 \r\nz\r\nM 31.78125 74.21875 \r\nQ 44.046875 74.21875 50.515625 64.515625 \r\nQ 56.984375 54.828125 56.984375 36.375 \r\nQ 56.984375 17.96875 50.515625 8.265625 \r\nQ 44.046875 -1.421875 31.78125 -1.421875 \r\nQ 19.53125 -1.421875 13.0625 8.265625 \r\nQ 6.59375 17.96875 6.59375 36.375 \r\nQ 6.59375 54.828125 13.0625 64.515625 \r\nQ 19.53125 74.21875 31.78125 74.21875 \r\nz\r\n\" id=\"DejaVuSans-48\"/>\r\n       </defs>\r\n       <use xlink:href=\"#DejaVuSans-48\"/>\r\n      </g>\r\n     </g>\r\n    </g>\r\n    <g id=\"xtick_2\">\r\n     <g id=\"line2d_2\">\r\n      <g>\r\n       <use style=\"stroke:#000000;stroke-width:0.8;\" x=\"126.356649\" xlink:href=\"#m98cb1f76c6\" y=\"251.82\"/>\r\n      </g>\r\n     </g>\r\n     <g id=\"text_2\">\r\n      <!-- 100 -->\r\n      <g transform=\"translate(116.812899 266.418437)scale(0.1 -0.1)\">\r\n       <defs>\r\n        <path d=\"M 12.40625 8.296875 \r\nL 28.515625 8.296875 \r\nL 28.515625 63.921875 \r\nL 10.984375 60.40625 \r\nL 10.984375 69.390625 \r\nL 28.421875 72.90625 \r\nL 38.28125 72.90625 \r\nL 38.28125 8.296875 \r\nL 54.390625 8.296875 \r\nL 54.390625 0 \r\nL 12.40625 0 \r\nz\r\n\" id=\"DejaVuSans-49\"/>\r\n       </defs>\r\n       <use xlink:href=\"#DejaVuSans-49\"/>\r\n       <use x=\"63.623047\" xlink:href=\"#DejaVuSans-48\"/>\r\n       <use x=\"127.246094\" xlink:href=\"#DejaVuSans-48\"/>\r\n      </g>\r\n     </g>\r\n    </g>\r\n    <g id=\"xtick_3\">\r\n     <g id=\"line2d_3\">\r\n      <g>\r\n       <use style=\"stroke:#000000;stroke-width:0.8;\" x=\"187.351365\" xlink:href=\"#m98cb1f76c6\" y=\"251.82\"/>\r\n      </g>\r\n     </g>\r\n     <g id=\"text_3\">\r\n      <!-- 200 -->\r\n      <g transform=\"translate(177.807615 266.418437)scale(0.1 -0.1)\">\r\n       <defs>\r\n        <path d=\"M 19.1875 8.296875 \r\nL 53.609375 8.296875 \r\nL 53.609375 0 \r\nL 7.328125 0 \r\nL 7.328125 8.296875 \r\nQ 12.9375 14.109375 22.625 23.890625 \r\nQ 32.328125 33.6875 34.8125 36.53125 \r\nQ 39.546875 41.84375 41.421875 45.53125 \r\nQ 43.3125 49.21875 43.3125 52.78125 \r\nQ 43.3125 58.59375 39.234375 62.25 \r\nQ 35.15625 65.921875 28.609375 65.921875 \r\nQ 23.96875 65.921875 18.8125 64.3125 \r\nQ 13.671875 62.703125 7.8125 59.421875 \r\nL 7.8125 69.390625 \r\nQ 13.765625 71.78125 18.9375 73 \r\nQ 24.125 74.21875 28.421875 74.21875 \r\nQ 39.75 74.21875 46.484375 68.546875 \r\nQ 53.21875 62.890625 53.21875 53.421875 \r\nQ 53.21875 48.921875 51.53125 44.890625 \r\nQ 49.859375 40.875 45.40625 35.40625 \r\nQ 44.1875 33.984375 37.640625 27.21875 \r\nQ 31.109375 20.453125 19.1875 8.296875 \r\nz\r\n\" id=\"DejaVuSans-50\"/>\r\n       </defs>\r\n       <use xlink:href=\"#DejaVuSans-50\"/>\r\n       <use x=\"63.623047\" xlink:href=\"#DejaVuSans-48\"/>\r\n       <use x=\"127.246094\" xlink:href=\"#DejaVuSans-48\"/>\r\n      </g>\r\n     </g>\r\n    </g>\r\n    <g id=\"xtick_4\">\r\n     <g id=\"line2d_4\">\r\n      <g>\r\n       <use style=\"stroke:#000000;stroke-width:0.8;\" x=\"248.346082\" xlink:href=\"#m98cb1f76c6\" y=\"251.82\"/>\r\n      </g>\r\n     </g>\r\n     <g id=\"text_4\">\r\n      <!-- 300 -->\r\n      <g transform=\"translate(238.802332 266.418437)scale(0.1 -0.1)\">\r\n       <defs>\r\n        <path d=\"M 40.578125 39.3125 \r\nQ 47.65625 37.796875 51.625 33 \r\nQ 55.609375 28.21875 55.609375 21.1875 \r\nQ 55.609375 10.40625 48.1875 4.484375 \r\nQ 40.765625 -1.421875 27.09375 -1.421875 \r\nQ 22.515625 -1.421875 17.65625 -0.515625 \r\nQ 12.796875 0.390625 7.625 2.203125 \r\nL 7.625 11.71875 \r\nQ 11.71875 9.328125 16.59375 8.109375 \r\nQ 21.484375 6.890625 26.8125 6.890625 \r\nQ 36.078125 6.890625 40.9375 10.546875 \r\nQ 45.796875 14.203125 45.796875 21.1875 \r\nQ 45.796875 27.640625 41.28125 31.265625 \r\nQ 36.765625 34.90625 28.71875 34.90625 \r\nL 20.21875 34.90625 \r\nL 20.21875 43.015625 \r\nL 29.109375 43.015625 \r\nQ 36.375 43.015625 40.234375 45.921875 \r\nQ 44.09375 48.828125 44.09375 54.296875 \r\nQ 44.09375 59.90625 40.109375 62.90625 \r\nQ 36.140625 65.921875 28.71875 65.921875 \r\nQ 24.65625 65.921875 20.015625 65.03125 \r\nQ 15.375 64.15625 9.8125 62.3125 \r\nL 9.8125 71.09375 \r\nQ 15.4375 72.65625 20.34375 73.4375 \r\nQ 25.25 74.21875 29.59375 74.21875 \r\nQ 40.828125 74.21875 47.359375 69.109375 \r\nQ 53.90625 64.015625 53.90625 55.328125 \r\nQ 53.90625 49.265625 50.4375 45.09375 \r\nQ 46.96875 40.921875 40.578125 39.3125 \r\nz\r\n\" id=\"DejaVuSans-51\"/>\r\n       </defs>\r\n       <use xlink:href=\"#DejaVuSans-51\"/>\r\n       <use x=\"63.623047\" xlink:href=\"#DejaVuSans-48\"/>\r\n       <use x=\"127.246094\" xlink:href=\"#DejaVuSans-48\"/>\r\n      </g>\r\n     </g>\r\n    </g>\r\n    <g id=\"xtick_5\">\r\n     <g id=\"line2d_5\">\r\n      <g>\r\n       <use style=\"stroke:#000000;stroke-width:0.8;\" x=\"309.340799\" xlink:href=\"#m98cb1f76c6\" y=\"251.82\"/>\r\n      </g>\r\n     </g>\r\n     <g id=\"text_5\">\r\n      <!-- 400 -->\r\n      <g transform=\"translate(299.797049 266.418437)scale(0.1 -0.1)\">\r\n       <defs>\r\n        <path d=\"M 37.796875 64.3125 \r\nL 12.890625 25.390625 \r\nL 37.796875 25.390625 \r\nz\r\nM 35.203125 72.90625 \r\nL 47.609375 72.90625 \r\nL 47.609375 25.390625 \r\nL 58.015625 25.390625 \r\nL 58.015625 17.1875 \r\nL 47.609375 17.1875 \r\nL 47.609375 0 \r\nL 37.796875 0 \r\nL 37.796875 17.1875 \r\nL 4.890625 17.1875 \r\nL 4.890625 26.703125 \r\nz\r\n\" id=\"DejaVuSans-52\"/>\r\n       </defs>\r\n       <use xlink:href=\"#DejaVuSans-52\"/>\r\n       <use x=\"63.623047\" xlink:href=\"#DejaVuSans-48\"/>\r\n       <use x=\"127.246094\" xlink:href=\"#DejaVuSans-48\"/>\r\n      </g>\r\n     </g>\r\n    </g>\r\n    <g id=\"xtick_6\">\r\n     <g id=\"line2d_6\">\r\n      <g>\r\n       <use style=\"stroke:#000000;stroke-width:0.8;\" x=\"370.335515\" xlink:href=\"#m98cb1f76c6\" y=\"251.82\"/>\r\n      </g>\r\n     </g>\r\n     <g id=\"text_6\">\r\n      <!-- 500 -->\r\n      <g transform=\"translate(360.791765 266.418437)scale(0.1 -0.1)\">\r\n       <defs>\r\n        <path d=\"M 10.796875 72.90625 \r\nL 49.515625 72.90625 \r\nL 49.515625 64.59375 \r\nL 19.828125 64.59375 \r\nL 19.828125 46.734375 \r\nQ 21.96875 47.46875 24.109375 47.828125 \r\nQ 26.265625 48.1875 28.421875 48.1875 \r\nQ 40.625 48.1875 47.75 41.5 \r\nQ 54.890625 34.8125 54.890625 23.390625 \r\nQ 54.890625 11.625 47.5625 5.09375 \r\nQ 40.234375 -1.421875 26.90625 -1.421875 \r\nQ 22.3125 -1.421875 17.546875 -0.640625 \r\nQ 12.796875 0.140625 7.71875 1.703125 \r\nL 7.71875 11.625 \r\nQ 12.109375 9.234375 16.796875 8.0625 \r\nQ 21.484375 6.890625 26.703125 6.890625 \r\nQ 35.15625 6.890625 40.078125 11.328125 \r\nQ 45.015625 15.765625 45.015625 23.390625 \r\nQ 45.015625 31 40.078125 35.4375 \r\nQ 35.15625 39.890625 26.703125 39.890625 \r\nQ 22.75 39.890625 18.8125 39.015625 \r\nQ 14.890625 38.140625 10.796875 36.28125 \r\nz\r\n\" id=\"DejaVuSans-53\"/>\r\n       </defs>\r\n       <use xlink:href=\"#DejaVuSans-53\"/>\r\n       <use x=\"63.623047\" xlink:href=\"#DejaVuSans-48\"/>\r\n       <use x=\"127.246094\" xlink:href=\"#DejaVuSans-48\"/>\r\n      </g>\r\n     </g>\r\n    </g>\r\n    <g id=\"text_7\">\r\n     <!-- Groups of experiments -->\r\n     <g transform=\"translate(160.397656 280.096562)scale(0.1 -0.1)\">\r\n      <defs>\r\n       <path d=\"M 59.515625 10.40625 \r\nL 59.515625 29.984375 \r\nL 43.40625 29.984375 \r\nL 43.40625 38.09375 \r\nL 69.28125 38.09375 \r\nL 69.28125 6.78125 \r\nQ 63.578125 2.734375 56.6875 0.65625 \r\nQ 49.8125 -1.421875 42 -1.421875 \r\nQ 24.90625 -1.421875 15.25 8.5625 \r\nQ 5.609375 18.5625 5.609375 36.375 \r\nQ 5.609375 54.25 15.25 64.234375 \r\nQ 24.90625 74.21875 42 74.21875 \r\nQ 49.125 74.21875 55.546875 72.453125 \r\nQ 61.96875 70.703125 67.390625 67.28125 \r\nL 67.390625 56.78125 \r\nQ 61.921875 61.421875 55.765625 63.765625 \r\nQ 49.609375 66.109375 42.828125 66.109375 \r\nQ 29.4375 66.109375 22.71875 58.640625 \r\nQ 16.015625 51.171875 16.015625 36.375 \r\nQ 16.015625 21.625 22.71875 14.15625 \r\nQ 29.4375 6.6875 42.828125 6.6875 \r\nQ 48.046875 6.6875 52.140625 7.59375 \r\nQ 56.25 8.5 59.515625 10.40625 \r\nz\r\n\" id=\"DejaVuSans-71\"/>\r\n       <path d=\"M 41.109375 46.296875 \r\nQ 39.59375 47.171875 37.8125 47.578125 \r\nQ 36.03125 48 33.890625 48 \r\nQ 26.265625 48 22.1875 43.046875 \r\nQ 18.109375 38.09375 18.109375 28.8125 \r\nL 18.109375 0 \r\nL 9.078125 0 \r\nL 9.078125 54.6875 \r\nL 18.109375 54.6875 \r\nL 18.109375 46.1875 \r\nQ 20.953125 51.171875 25.484375 53.578125 \r\nQ 30.03125 56 36.53125 56 \r\nQ 37.453125 56 38.578125 55.875 \r\nQ 39.703125 55.765625 41.0625 55.515625 \r\nz\r\n\" id=\"DejaVuSans-114\"/>\r\n       <path d=\"M 30.609375 48.390625 \r\nQ 23.390625 48.390625 19.1875 42.75 \r\nQ 14.984375 37.109375 14.984375 27.296875 \r\nQ 14.984375 17.484375 19.15625 11.84375 \r\nQ 23.34375 6.203125 30.609375 6.203125 \r\nQ 37.796875 6.203125 41.984375 11.859375 \r\nQ 46.1875 17.53125 46.1875 27.296875 \r\nQ 46.1875 37.015625 41.984375 42.703125 \r\nQ 37.796875 48.390625 30.609375 48.390625 \r\nz\r\nM 30.609375 56 \r\nQ 42.328125 56 49.015625 48.375 \r\nQ 55.71875 40.765625 55.71875 27.296875 \r\nQ 55.71875 13.875 49.015625 6.21875 \r\nQ 42.328125 -1.421875 30.609375 -1.421875 \r\nQ 18.84375 -1.421875 12.171875 6.21875 \r\nQ 5.515625 13.875 5.515625 27.296875 \r\nQ 5.515625 40.765625 12.171875 48.375 \r\nQ 18.84375 56 30.609375 56 \r\nz\r\n\" id=\"DejaVuSans-111\"/>\r\n       <path d=\"M 8.5 21.578125 \r\nL 8.5 54.6875 \r\nL 17.484375 54.6875 \r\nL 17.484375 21.921875 \r\nQ 17.484375 14.15625 20.5 10.265625 \r\nQ 23.53125 6.390625 29.59375 6.390625 \r\nQ 36.859375 6.390625 41.078125 11.03125 \r\nQ 45.3125 15.671875 45.3125 23.6875 \r\nL 45.3125 54.6875 \r\nL 54.296875 54.6875 \r\nL 54.296875 0 \r\nL 45.3125 0 \r\nL 45.3125 8.40625 \r\nQ 42.046875 3.421875 37.71875 1 \r\nQ 33.40625 -1.421875 27.6875 -1.421875 \r\nQ 18.265625 -1.421875 13.375 4.4375 \r\nQ 8.5 10.296875 8.5 21.578125 \r\nz\r\nM 31.109375 56 \r\nz\r\n\" id=\"DejaVuSans-117\"/>\r\n       <path d=\"M 18.109375 8.203125 \r\nL 18.109375 -20.796875 \r\nL 9.078125 -20.796875 \r\nL 9.078125 54.6875 \r\nL 18.109375 54.6875 \r\nL 18.109375 46.390625 \r\nQ 20.953125 51.265625 25.265625 53.625 \r\nQ 29.59375 56 35.59375 56 \r\nQ 45.5625 56 51.78125 48.09375 \r\nQ 58.015625 40.1875 58.015625 27.296875 \r\nQ 58.015625 14.40625 51.78125 6.484375 \r\nQ 45.5625 -1.421875 35.59375 -1.421875 \r\nQ 29.59375 -1.421875 25.265625 0.953125 \r\nQ 20.953125 3.328125 18.109375 8.203125 \r\nz\r\nM 48.6875 27.296875 \r\nQ 48.6875 37.203125 44.609375 42.84375 \r\nQ 40.53125 48.484375 33.40625 48.484375 \r\nQ 26.265625 48.484375 22.1875 42.84375 \r\nQ 18.109375 37.203125 18.109375 27.296875 \r\nQ 18.109375 17.390625 22.1875 11.75 \r\nQ 26.265625 6.109375 33.40625 6.109375 \r\nQ 40.53125 6.109375 44.609375 11.75 \r\nQ 48.6875 17.390625 48.6875 27.296875 \r\nz\r\n\" id=\"DejaVuSans-112\"/>\r\n       <path d=\"M 44.28125 53.078125 \r\nL 44.28125 44.578125 \r\nQ 40.484375 46.53125 36.375 47.5 \r\nQ 32.28125 48.484375 27.875 48.484375 \r\nQ 21.1875 48.484375 17.84375 46.4375 \r\nQ 14.5 44.390625 14.5 40.28125 \r\nQ 14.5 37.15625 16.890625 35.375 \r\nQ 19.28125 33.59375 26.515625 31.984375 \r\nL 29.59375 31.296875 \r\nQ 39.15625 29.25 43.1875 25.515625 \r\nQ 47.21875 21.78125 47.21875 15.09375 \r\nQ 47.21875 7.46875 41.1875 3.015625 \r\nQ 35.15625 -1.421875 24.609375 -1.421875 \r\nQ 20.21875 -1.421875 15.453125 -0.5625 \r\nQ 10.6875 0.296875 5.421875 2 \r\nL 5.421875 11.28125 \r\nQ 10.40625 8.6875 15.234375 7.390625 \r\nQ 20.0625 6.109375 24.8125 6.109375 \r\nQ 31.15625 6.109375 34.5625 8.28125 \r\nQ 37.984375 10.453125 37.984375 14.40625 \r\nQ 37.984375 18.0625 35.515625 20.015625 \r\nQ 33.0625 21.96875 24.703125 23.78125 \r\nL 21.578125 24.515625 \r\nQ 13.234375 26.265625 9.515625 29.90625 \r\nQ 5.8125 33.546875 5.8125 39.890625 \r\nQ 5.8125 47.609375 11.28125 51.796875 \r\nQ 16.75 56 26.8125 56 \r\nQ 31.78125 56 36.171875 55.265625 \r\nQ 40.578125 54.546875 44.28125 53.078125 \r\nz\r\n\" id=\"DejaVuSans-115\"/>\r\n       <path id=\"DejaVuSans-32\"/>\r\n       <path d=\"M 37.109375 75.984375 \r\nL 37.109375 68.5 \r\nL 28.515625 68.5 \r\nQ 23.6875 68.5 21.796875 66.546875 \r\nQ 19.921875 64.59375 19.921875 59.515625 \r\nL 19.921875 54.6875 \r\nL 34.71875 54.6875 \r\nL 34.71875 47.703125 \r\nL 19.921875 47.703125 \r\nL 19.921875 0 \r\nL 10.890625 0 \r\nL 10.890625 47.703125 \r\nL 2.296875 47.703125 \r\nL 2.296875 54.6875 \r\nL 10.890625 54.6875 \r\nL 10.890625 58.5 \r\nQ 10.890625 67.625 15.140625 71.796875 \r\nQ 19.390625 75.984375 28.609375 75.984375 \r\nz\r\n\" id=\"DejaVuSans-102\"/>\r\n       <path d=\"M 56.203125 29.59375 \r\nL 56.203125 25.203125 \r\nL 14.890625 25.203125 \r\nQ 15.484375 15.921875 20.484375 11.0625 \r\nQ 25.484375 6.203125 34.421875 6.203125 \r\nQ 39.59375 6.203125 44.453125 7.46875 \r\nQ 49.3125 8.734375 54.109375 11.28125 \r\nL 54.109375 2.78125 \r\nQ 49.265625 0.734375 44.1875 -0.34375 \r\nQ 39.109375 -1.421875 33.890625 -1.421875 \r\nQ 20.796875 -1.421875 13.15625 6.1875 \r\nQ 5.515625 13.8125 5.515625 26.8125 \r\nQ 5.515625 40.234375 12.765625 48.109375 \r\nQ 20.015625 56 32.328125 56 \r\nQ 43.359375 56 49.78125 48.890625 \r\nQ 56.203125 41.796875 56.203125 29.59375 \r\nz\r\nM 47.21875 32.234375 \r\nQ 47.125 39.59375 43.09375 43.984375 \r\nQ 39.0625 48.390625 32.421875 48.390625 \r\nQ 24.90625 48.390625 20.390625 44.140625 \r\nQ 15.875 39.890625 15.1875 32.171875 \r\nz\r\n\" id=\"DejaVuSans-101\"/>\r\n       <path d=\"M 54.890625 54.6875 \r\nL 35.109375 28.078125 \r\nL 55.90625 0 \r\nL 45.3125 0 \r\nL 29.390625 21.484375 \r\nL 13.484375 0 \r\nL 2.875 0 \r\nL 24.125 28.609375 \r\nL 4.6875 54.6875 \r\nL 15.28125 54.6875 \r\nL 29.78125 35.203125 \r\nL 44.28125 54.6875 \r\nz\r\n\" id=\"DejaVuSans-120\"/>\r\n       <path d=\"M 9.421875 54.6875 \r\nL 18.40625 54.6875 \r\nL 18.40625 0 \r\nL 9.421875 0 \r\nz\r\nM 9.421875 75.984375 \r\nL 18.40625 75.984375 \r\nL 18.40625 64.59375 \r\nL 9.421875 64.59375 \r\nz\r\n\" id=\"DejaVuSans-105\"/>\r\n       <path d=\"M 52 44.1875 \r\nQ 55.375 50.25 60.0625 53.125 \r\nQ 64.75 56 71.09375 56 \r\nQ 79.640625 56 84.28125 50.015625 \r\nQ 88.921875 44.046875 88.921875 33.015625 \r\nL 88.921875 0 \r\nL 79.890625 0 \r\nL 79.890625 32.71875 \r\nQ 79.890625 40.578125 77.09375 44.375 \r\nQ 74.3125 48.1875 68.609375 48.1875 \r\nQ 61.625 48.1875 57.5625 43.546875 \r\nQ 53.515625 38.921875 53.515625 30.90625 \r\nL 53.515625 0 \r\nL 44.484375 0 \r\nL 44.484375 32.71875 \r\nQ 44.484375 40.625 41.703125 44.40625 \r\nQ 38.921875 48.1875 33.109375 48.1875 \r\nQ 26.21875 48.1875 22.15625 43.53125 \r\nQ 18.109375 38.875 18.109375 30.90625 \r\nL 18.109375 0 \r\nL 9.078125 0 \r\nL 9.078125 54.6875 \r\nL 18.109375 54.6875 \r\nL 18.109375 46.1875 \r\nQ 21.1875 51.21875 25.484375 53.609375 \r\nQ 29.78125 56 35.6875 56 \r\nQ 41.65625 56 45.828125 52.96875 \r\nQ 50 49.953125 52 44.1875 \r\nz\r\n\" id=\"DejaVuSans-109\"/>\r\n       <path d=\"M 54.890625 33.015625 \r\nL 54.890625 0 \r\nL 45.90625 0 \r\nL 45.90625 32.71875 \r\nQ 45.90625 40.484375 42.875 44.328125 \r\nQ 39.84375 48.1875 33.796875 48.1875 \r\nQ 26.515625 48.1875 22.3125 43.546875 \r\nQ 18.109375 38.921875 18.109375 30.90625 \r\nL 18.109375 0 \r\nL 9.078125 0 \r\nL 9.078125 54.6875 \r\nL 18.109375 54.6875 \r\nL 18.109375 46.1875 \r\nQ 21.34375 51.125 25.703125 53.5625 \r\nQ 30.078125 56 35.796875 56 \r\nQ 45.21875 56 50.046875 50.171875 \r\nQ 54.890625 44.34375 54.890625 33.015625 \r\nz\r\n\" id=\"DejaVuSans-110\"/>\r\n       <path d=\"M 18.3125 70.21875 \r\nL 18.3125 54.6875 \r\nL 36.8125 54.6875 \r\nL 36.8125 47.703125 \r\nL 18.3125 47.703125 \r\nL 18.3125 18.015625 \r\nQ 18.3125 11.328125 20.140625 9.421875 \r\nQ 21.96875 7.515625 27.59375 7.515625 \r\nL 36.8125 7.515625 \r\nL 36.8125 0 \r\nL 27.59375 0 \r\nQ 17.1875 0 13.234375 3.875 \r\nQ 9.28125 7.765625 9.28125 18.015625 \r\nL 9.28125 47.703125 \r\nL 2.6875 47.703125 \r\nL 2.6875 54.6875 \r\nL 9.28125 54.6875 \r\nL 9.28125 70.21875 \r\nz\r\n\" id=\"DejaVuSans-116\"/>\r\n      </defs>\r\n      <use xlink:href=\"#DejaVuSans-71\"/>\r\n      <use x=\"77.490234\" xlink:href=\"#DejaVuSans-114\"/>\r\n      <use x=\"116.353516\" xlink:href=\"#DejaVuSans-111\"/>\r\n      <use x=\"177.535156\" xlink:href=\"#DejaVuSans-117\"/>\r\n      <use x=\"240.914062\" xlink:href=\"#DejaVuSans-112\"/>\r\n      <use x=\"304.390625\" xlink:href=\"#DejaVuSans-115\"/>\r\n      <use x=\"356.490234\" xlink:href=\"#DejaVuSans-32\"/>\r\n      <use x=\"388.277344\" xlink:href=\"#DejaVuSans-111\"/>\r\n      <use x=\"449.458984\" xlink:href=\"#DejaVuSans-102\"/>\r\n      <use x=\"484.664062\" xlink:href=\"#DejaVuSans-32\"/>\r\n      <use x=\"516.451172\" xlink:href=\"#DejaVuSans-101\"/>\r\n      <use x=\"576.224609\" xlink:href=\"#DejaVuSans-120\"/>\r\n      <use x=\"635.404297\" xlink:href=\"#DejaVuSans-112\"/>\r\n      <use x=\"698.880859\" xlink:href=\"#DejaVuSans-101\"/>\r\n      <use x=\"760.404297\" xlink:href=\"#DejaVuSans-114\"/>\r\n      <use x=\"801.517578\" xlink:href=\"#DejaVuSans-105\"/>\r\n      <use x=\"829.300781\" xlink:href=\"#DejaVuSans-109\"/>\r\n      <use x=\"926.712891\" xlink:href=\"#DejaVuSans-101\"/>\r\n      <use x=\"988.236328\" xlink:href=\"#DejaVuSans-110\"/>\r\n      <use x=\"1051.615234\" xlink:href=\"#DejaVuSans-116\"/>\r\n      <use x=\"1090.824219\" xlink:href=\"#DejaVuSans-115\"/>\r\n     </g>\r\n    </g>\r\n   </g>\r\n   <g id=\"matplotlib.axis_2\">\r\n    <g id=\"ytick_1\">\r\n     <g id=\"line2d_7\">\r\n      <defs>\r\n       <path d=\"M 0 0 \r\nL -3.5 0 \r\n\" id=\"m64d6ee574d\" style=\"stroke:#000000;stroke-width:0.8;\"/>\r\n      </defs>\r\n      <g>\r\n       <use style=\"stroke:#000000;stroke-width:0.8;\" x=\"50.14375\" xlink:href=\"#m64d6ee574d\" y=\"240.700909\"/>\r\n      </g>\r\n     </g>\r\n     <g id=\"text_8\">\r\n      <!-- 0.00 -->\r\n      <g transform=\"translate(20.878125 244.500128)scale(0.1 -0.1)\">\r\n       <defs>\r\n        <path d=\"M 10.6875 12.40625 \r\nL 21 12.40625 \r\nL 21 0 \r\nL 10.6875 0 \r\nz\r\n\" id=\"DejaVuSans-46\"/>\r\n       </defs>\r\n       <use xlink:href=\"#DejaVuSans-48\"/>\r\n       <use x=\"63.623047\" xlink:href=\"#DejaVuSans-46\"/>\r\n       <use x=\"95.410156\" xlink:href=\"#DejaVuSans-48\"/>\r\n       <use x=\"159.033203\" xlink:href=\"#DejaVuSans-48\"/>\r\n      </g>\r\n     </g>\r\n    </g>\r\n    <g id=\"ytick_2\">\r\n     <g id=\"line2d_8\">\r\n      <g>\r\n       <use style=\"stroke:#000000;stroke-width:0.8;\" x=\"50.14375\" xlink:href=\"#m64d6ee574d\" y=\"212.903182\"/>\r\n      </g>\r\n     </g>\r\n     <g id=\"text_9\">\r\n      <!-- 0.05 -->\r\n      <g transform=\"translate(20.878125 216.702401)scale(0.1 -0.1)\">\r\n       <use xlink:href=\"#DejaVuSans-48\"/>\r\n       <use x=\"63.623047\" xlink:href=\"#DejaVuSans-46\"/>\r\n       <use x=\"95.410156\" xlink:href=\"#DejaVuSans-48\"/>\r\n       <use x=\"159.033203\" xlink:href=\"#DejaVuSans-53\"/>\r\n      </g>\r\n     </g>\r\n    </g>\r\n    <g id=\"ytick_3\">\r\n     <g id=\"line2d_9\">\r\n      <g>\r\n       <use style=\"stroke:#000000;stroke-width:0.8;\" x=\"50.14375\" xlink:href=\"#m64d6ee574d\" y=\"185.105455\"/>\r\n      </g>\r\n     </g>\r\n     <g id=\"text_10\">\r\n      <!-- 0.10 -->\r\n      <g transform=\"translate(20.878125 188.904674)scale(0.1 -0.1)\">\r\n       <use xlink:href=\"#DejaVuSans-48\"/>\r\n       <use x=\"63.623047\" xlink:href=\"#DejaVuSans-46\"/>\r\n       <use x=\"95.410156\" xlink:href=\"#DejaVuSans-49\"/>\r\n       <use x=\"159.033203\" xlink:href=\"#DejaVuSans-48\"/>\r\n      </g>\r\n     </g>\r\n    </g>\r\n    <g id=\"ytick_4\">\r\n     <g id=\"line2d_10\">\r\n      <g>\r\n       <use style=\"stroke:#000000;stroke-width:0.8;\" x=\"50.14375\" xlink:href=\"#m64d6ee574d\" y=\"157.307729\"/>\r\n      </g>\r\n     </g>\r\n     <g id=\"text_11\">\r\n      <!-- 0.15 -->\r\n      <g transform=\"translate(20.878125 161.106947)scale(0.1 -0.1)\">\r\n       <use xlink:href=\"#DejaVuSans-48\"/>\r\n       <use x=\"63.623047\" xlink:href=\"#DejaVuSans-46\"/>\r\n       <use x=\"95.410156\" xlink:href=\"#DejaVuSans-49\"/>\r\n       <use x=\"159.033203\" xlink:href=\"#DejaVuSans-53\"/>\r\n      </g>\r\n     </g>\r\n    </g>\r\n    <g id=\"ytick_5\">\r\n     <g id=\"line2d_11\">\r\n      <g>\r\n       <use style=\"stroke:#000000;stroke-width:0.8;\" x=\"50.14375\" xlink:href=\"#m64d6ee574d\" y=\"129.510002\"/>\r\n      </g>\r\n     </g>\r\n     <g id=\"text_12\">\r\n      <!-- 0.20 -->\r\n      <g transform=\"translate(20.878125 133.30922)scale(0.1 -0.1)\">\r\n       <use xlink:href=\"#DejaVuSans-48\"/>\r\n       <use x=\"63.623047\" xlink:href=\"#DejaVuSans-46\"/>\r\n       <use x=\"95.410156\" xlink:href=\"#DejaVuSans-50\"/>\r\n       <use x=\"159.033203\" xlink:href=\"#DejaVuSans-48\"/>\r\n      </g>\r\n     </g>\r\n    </g>\r\n    <g id=\"ytick_6\">\r\n     <g id=\"line2d_12\">\r\n      <g>\r\n       <use style=\"stroke:#000000;stroke-width:0.8;\" x=\"50.14375\" xlink:href=\"#m64d6ee574d\" y=\"101.712275\"/>\r\n      </g>\r\n     </g>\r\n     <g id=\"text_13\">\r\n      <!-- 0.25 -->\r\n      <g transform=\"translate(20.878125 105.511494)scale(0.1 -0.1)\">\r\n       <use xlink:href=\"#DejaVuSans-48\"/>\r\n       <use x=\"63.623047\" xlink:href=\"#DejaVuSans-46\"/>\r\n       <use x=\"95.410156\" xlink:href=\"#DejaVuSans-50\"/>\r\n       <use x=\"159.033203\" xlink:href=\"#DejaVuSans-53\"/>\r\n      </g>\r\n     </g>\r\n    </g>\r\n    <g id=\"ytick_7\">\r\n     <g id=\"line2d_13\">\r\n      <g>\r\n       <use style=\"stroke:#000000;stroke-width:0.8;\" x=\"50.14375\" xlink:href=\"#m64d6ee574d\" y=\"73.914548\"/>\r\n      </g>\r\n     </g>\r\n     <g id=\"text_14\">\r\n      <!-- 0.30 -->\r\n      <g transform=\"translate(20.878125 77.713767)scale(0.1 -0.1)\">\r\n       <use xlink:href=\"#DejaVuSans-48\"/>\r\n       <use x=\"63.623047\" xlink:href=\"#DejaVuSans-46\"/>\r\n       <use x=\"95.410156\" xlink:href=\"#DejaVuSans-51\"/>\r\n       <use x=\"159.033203\" xlink:href=\"#DejaVuSans-48\"/>\r\n      </g>\r\n     </g>\r\n    </g>\r\n    <g id=\"ytick_8\">\r\n     <g id=\"line2d_14\">\r\n      <g>\r\n       <use style=\"stroke:#000000;stroke-width:0.8;\" x=\"50.14375\" xlink:href=\"#m64d6ee574d\" y=\"46.116821\"/>\r\n      </g>\r\n     </g>\r\n     <g id=\"text_15\">\r\n      <!-- 0.35 -->\r\n      <g transform=\"translate(20.878125 49.91604)scale(0.1 -0.1)\">\r\n       <use xlink:href=\"#DejaVuSans-48\"/>\r\n       <use x=\"63.623047\" xlink:href=\"#DejaVuSans-46\"/>\r\n       <use x=\"95.410156\" xlink:href=\"#DejaVuSans-51\"/>\r\n       <use x=\"159.033203\" xlink:href=\"#DejaVuSans-53\"/>\r\n      </g>\r\n     </g>\r\n    </g>\r\n    <g id=\"ytick_9\">\r\n     <g id=\"line2d_15\">\r\n      <g>\r\n       <use style=\"stroke:#000000;stroke-width:0.8;\" x=\"50.14375\" xlink:href=\"#m64d6ee574d\" y=\"18.319094\"/>\r\n      </g>\r\n     </g>\r\n     <g id=\"text_16\">\r\n      <!-- 0.40 -->\r\n      <g transform=\"translate(20.878125 22.118313)scale(0.1 -0.1)\">\r\n       <use xlink:href=\"#DejaVuSans-48\"/>\r\n       <use x=\"63.623047\" xlink:href=\"#DejaVuSans-46\"/>\r\n       <use x=\"95.410156\" xlink:href=\"#DejaVuSans-52\"/>\r\n       <use x=\"159.033203\" xlink:href=\"#DejaVuSans-48\"/>\r\n      </g>\r\n     </g>\r\n    </g>\r\n    <g id=\"text_17\">\r\n     <!-- Estimated probability -->\r\n     <g transform=\"translate(14.798438 183.033437)rotate(-90)scale(0.1 -0.1)\">\r\n      <defs>\r\n       <path d=\"M 9.8125 72.90625 \r\nL 55.90625 72.90625 \r\nL 55.90625 64.59375 \r\nL 19.671875 64.59375 \r\nL 19.671875 43.015625 \r\nL 54.390625 43.015625 \r\nL 54.390625 34.71875 \r\nL 19.671875 34.71875 \r\nL 19.671875 8.296875 \r\nL 56.78125 8.296875 \r\nL 56.78125 0 \r\nL 9.8125 0 \r\nz\r\n\" id=\"DejaVuSans-69\"/>\r\n       <path d=\"M 34.28125 27.484375 \r\nQ 23.390625 27.484375 19.1875 25 \r\nQ 14.984375 22.515625 14.984375 16.5 \r\nQ 14.984375 11.71875 18.140625 8.90625 \r\nQ 21.296875 6.109375 26.703125 6.109375 \r\nQ 34.1875 6.109375 38.703125 11.40625 \r\nQ 43.21875 16.703125 43.21875 25.484375 \r\nL 43.21875 27.484375 \r\nz\r\nM 52.203125 31.203125 \r\nL 52.203125 0 \r\nL 43.21875 0 \r\nL 43.21875 8.296875 \r\nQ 40.140625 3.328125 35.546875 0.953125 \r\nQ 30.953125 -1.421875 24.3125 -1.421875 \r\nQ 15.921875 -1.421875 10.953125 3.296875 \r\nQ 6 8.015625 6 15.921875 \r\nQ 6 25.140625 12.171875 29.828125 \r\nQ 18.359375 34.515625 30.609375 34.515625 \r\nL 43.21875 34.515625 \r\nL 43.21875 35.40625 \r\nQ 43.21875 41.609375 39.140625 45 \r\nQ 35.0625 48.390625 27.6875 48.390625 \r\nQ 23 48.390625 18.546875 47.265625 \r\nQ 14.109375 46.140625 10.015625 43.890625 \r\nL 10.015625 52.203125 \r\nQ 14.9375 54.109375 19.578125 55.046875 \r\nQ 24.21875 56 28.609375 56 \r\nQ 40.484375 56 46.34375 49.84375 \r\nQ 52.203125 43.703125 52.203125 31.203125 \r\nz\r\n\" id=\"DejaVuSans-97\"/>\r\n       <path d=\"M 45.40625 46.390625 \r\nL 45.40625 75.984375 \r\nL 54.390625 75.984375 \r\nL 54.390625 0 \r\nL 45.40625 0 \r\nL 45.40625 8.203125 \r\nQ 42.578125 3.328125 38.25 0.953125 \r\nQ 33.9375 -1.421875 27.875 -1.421875 \r\nQ 17.96875 -1.421875 11.734375 6.484375 \r\nQ 5.515625 14.40625 5.515625 27.296875 \r\nQ 5.515625 40.1875 11.734375 48.09375 \r\nQ 17.96875 56 27.875 56 \r\nQ 33.9375 56 38.25 53.625 \r\nQ 42.578125 51.265625 45.40625 46.390625 \r\nz\r\nM 14.796875 27.296875 \r\nQ 14.796875 17.390625 18.875 11.75 \r\nQ 22.953125 6.109375 30.078125 6.109375 \r\nQ 37.203125 6.109375 41.296875 11.75 \r\nQ 45.40625 17.390625 45.40625 27.296875 \r\nQ 45.40625 37.203125 41.296875 42.84375 \r\nQ 37.203125 48.484375 30.078125 48.484375 \r\nQ 22.953125 48.484375 18.875 42.84375 \r\nQ 14.796875 37.203125 14.796875 27.296875 \r\nz\r\n\" id=\"DejaVuSans-100\"/>\r\n       <path d=\"M 48.6875 27.296875 \r\nQ 48.6875 37.203125 44.609375 42.84375 \r\nQ 40.53125 48.484375 33.40625 48.484375 \r\nQ 26.265625 48.484375 22.1875 42.84375 \r\nQ 18.109375 37.203125 18.109375 27.296875 \r\nQ 18.109375 17.390625 22.1875 11.75 \r\nQ 26.265625 6.109375 33.40625 6.109375 \r\nQ 40.53125 6.109375 44.609375 11.75 \r\nQ 48.6875 17.390625 48.6875 27.296875 \r\nz\r\nM 18.109375 46.390625 \r\nQ 20.953125 51.265625 25.265625 53.625 \r\nQ 29.59375 56 35.59375 56 \r\nQ 45.5625 56 51.78125 48.09375 \r\nQ 58.015625 40.1875 58.015625 27.296875 \r\nQ 58.015625 14.40625 51.78125 6.484375 \r\nQ 45.5625 -1.421875 35.59375 -1.421875 \r\nQ 29.59375 -1.421875 25.265625 0.953125 \r\nQ 20.953125 3.328125 18.109375 8.203125 \r\nL 18.109375 0 \r\nL 9.078125 0 \r\nL 9.078125 75.984375 \r\nL 18.109375 75.984375 \r\nz\r\n\" id=\"DejaVuSans-98\"/>\r\n       <path d=\"M 9.421875 75.984375 \r\nL 18.40625 75.984375 \r\nL 18.40625 0 \r\nL 9.421875 0 \r\nz\r\n\" id=\"DejaVuSans-108\"/>\r\n       <path d=\"M 32.171875 -5.078125 \r\nQ 28.375 -14.84375 24.75 -17.8125 \r\nQ 21.140625 -20.796875 15.09375 -20.796875 \r\nL 7.90625 -20.796875 \r\nL 7.90625 -13.28125 \r\nL 13.1875 -13.28125 \r\nQ 16.890625 -13.28125 18.9375 -11.515625 \r\nQ 21 -9.765625 23.484375 -3.21875 \r\nL 25.09375 0.875 \r\nL 2.984375 54.6875 \r\nL 12.5 54.6875 \r\nL 29.59375 11.921875 \r\nL 46.6875 54.6875 \r\nL 56.203125 54.6875 \r\nz\r\n\" id=\"DejaVuSans-121\"/>\r\n      </defs>\r\n      <use xlink:href=\"#DejaVuSans-69\"/>\r\n      <use x=\"63.183594\" xlink:href=\"#DejaVuSans-115\"/>\r\n      <use x=\"115.283203\" xlink:href=\"#DejaVuSans-116\"/>\r\n      <use x=\"154.492188\" xlink:href=\"#DejaVuSans-105\"/>\r\n      <use x=\"182.275391\" xlink:href=\"#DejaVuSans-109\"/>\r\n      <use x=\"279.6875\" xlink:href=\"#DejaVuSans-97\"/>\r\n      <use x=\"340.966797\" xlink:href=\"#DejaVuSans-116\"/>\r\n      <use x=\"380.175781\" xlink:href=\"#DejaVuSans-101\"/>\r\n      <use x=\"441.699219\" xlink:href=\"#DejaVuSans-100\"/>\r\n      <use x=\"505.175781\" xlink:href=\"#DejaVuSans-32\"/>\r\n      <use x=\"536.962891\" xlink:href=\"#DejaVuSans-112\"/>\r\n      <use x=\"600.439453\" xlink:href=\"#DejaVuSans-114\"/>\r\n      <use x=\"639.302734\" xlink:href=\"#DejaVuSans-111\"/>\r\n      <use x=\"700.484375\" xlink:href=\"#DejaVuSans-98\"/>\r\n      <use x=\"763.960938\" xlink:href=\"#DejaVuSans-97\"/>\r\n      <use x=\"825.240234\" xlink:href=\"#DejaVuSans-98\"/>\r\n      <use x=\"888.716797\" xlink:href=\"#DejaVuSans-105\"/>\r\n      <use x=\"916.5\" xlink:href=\"#DejaVuSans-108\"/>\r\n      <use x=\"944.283203\" xlink:href=\"#DejaVuSans-105\"/>\r\n      <use x=\"972.066406\" xlink:href=\"#DejaVuSans-116\"/>\r\n      <use x=\"1011.275391\" xlink:href=\"#DejaVuSans-121\"/>\r\n     </g>\r\n    </g>\r\n   </g>\r\n   <g id=\"line2d_16\">\r\n    <path clip-path=\"url(#p037ab2857f)\" d=\"M 65.361932 18.319091 \r\nL 65.971879 129.51 \r\nL 66.581826 110.978183 \r\nL 67.191773 129.51 \r\nL 67.80172 118.390912 \r\nL 68.411668 110.978183 \r\nL 69.021615 105.683378 \r\nL 69.631562 94.76285 \r\nL 70.241509 92.446358 \r\nL 70.851456 96.152735 \r\nL 71.461403 104.239338 \r\nL 72.071351 115.611142 \r\nL 73.291245 109.654482 \r\nL 74.511139 119.085854 \r\nL 75.731034 120.244092 \r\nL 76.340981 126.583928 \r\nL 77.560875 126.862598 \r\nL 78.780769 117.424035 \r\nL 79.390717 122.560567 \r\nL 80.610611 127.371713 \r\nL 81.220558 125.391824 \r\nL 81.830505 125.538896 \r\nL 82.440452 129.51 \r\nL 83.0504 131.36318 \r\nL 83.660347 134.890208 \r\nL 84.880241 134.564136 \r\nL 85.490188 136.050641 \r\nL 86.100135 135.863771 \r\nL 87.929977 130.973036 \r\nL 89.149871 136.459433 \r\nL 90.369766 138.775908 \r\nL 90.979713 138.560424 \r\nL 91.58966 139.618263 \r\nL 92.199607 139.393641 \r\nL 92.809554 140.387375 \r\nL 93.419502 135.424409 \r\nL 94.029449 135.301196 \r\nL 94.639396 134.048409 \r\nL 95.249343 130.621911 \r\nL 97.079185 133.705883 \r\nL 97.689132 135.687272 \r\nL 98.299079 135.574961 \r\nL 99.518973 137.312872 \r\nL 100.12892 137.178343 \r\nL 100.738868 136.106072 \r\nL 101.348815 134.142958 \r\nL 101.958762 134.067007 \r\nL 102.568709 134.890208 \r\nL 103.788603 134.722077 \r\nL 104.398551 133.786573 \r\nL 105.008498 133.721781 \r\nL 105.618445 132.829132 \r\nL 106.228392 133.597905 \r\nL 107.448286 133.481104 \r\nL 108.668181 134.915111 \r\nL 109.278128 134.079492 \r\nL 110.498022 135.440183 \r\nL 111.717917 135.286151 \r\nL 112.937811 133.732443 \r\nL 114.767652 133.577964 \r\nL 115.3776 134.198778 \r\nL 115.987547 134.142958 \r\nL 116.597494 133.434388 \r\nL 117.207441 131.449379 \r\nL 117.817388 130.149031 \r\nL 118.427335 129.51 \r\nL 119.037283 130.134666 \r\nL 120.257177 130.120939 \r\nL 120.867124 129.51 \r\nL 121.477071 129.51 \r\nL 122.087018 130.692884 \r\nL 122.696966 130.680432 \r\nL 123.306913 131.247356 \r\nL 123.91686 130.6563 \r\nL 124.526807 130.644602 \r\nL 125.136754 131.756282 \r\nL 125.746701 131.733823 \r\nL 126.356649 131.161348 \r\nL 126.966596 131.690214 \r\nL 127.576543 131.129287 \r\nL 128.18649 131.648287 \r\nL 128.796437 131.627924 \r\nL 130.016332 132.627507 \r\nL 130.626279 132.598636 \r\nL 131.236226 133.590399 \r\nL 132.45612 134.518605 \r\nL 133.066067 134.473877 \r\nL 133.676015 133.445961 \r\nL 134.285962 133.41144 \r\nL 134.895909 134.344393 \r\nL 135.505856 134.781981 \r\nL 136.72575 133.750329 \r\nL 137.335698 134.181887 \r\nL 137.945645 133.679663 \r\nL 139.165539 134.522705 \r\nL 139.775486 134.02996 \r\nL 140.385433 134.441858 \r\nL 140.995381 135.291926 \r\nL 141.605328 134.804805 \r\nL 142.825222 136.459433 \r\nL 143.435169 136.40556 \r\nL 144.655064 137.149074 \r\nL 145.265011 137.091199 \r\nL 146.484905 136.148264 \r\nL 147.094852 136.099096 \r\nL 149.534641 137.509344 \r\nL 150.754535 136.607293 \r\nL 151.364482 137.340343 \r\nL 151.97443 137.285592 \r\nL 153.804271 138.268193 \r\nL 154.414218 138.208611 \r\nL 155.024165 137.774187 \r\nL 155.634113 138.464971 \r\nL 156.24406 138.405274 \r\nL 156.854007 139.082728 \r\nL 158.073901 138.230855 \r\nL 158.683848 138.174231 \r\nL 159.903743 137.350384 \r\nL 160.51369 137.654561 \r\nL 161.733584 138.950742 \r\nL 162.343531 138.891732 \r\nL 162.953479 139.524086 \r\nL 164.173373 139.401221 \r\nL 164.78332 139.001906 \r\nL 165.393267 139.281321 \r\nL 166.003214 139.222461 \r\nL 166.613162 138.831397 \r\nL 167.833056 139.379019 \r\nL 168.443003 138.993928 \r\nL 169.05295 138.938473 \r\nL 170.882792 139.734451 \r\nL 171.492739 139.358341 \r\nL 172.102686 139.30238 \r\nL 172.712633 138.932963 \r\nL 173.32258 139.504693 \r\nL 173.932528 138.827677 \r\nL 174.542475 139.084774 \r\nL 175.152422 139.64619 \r\nL 175.762369 139.590494 \r\nL 176.372316 139.839215 \r\nL 176.982263 139.783072 \r\nL 177.592211 140.328573 \r\nL 178.202158 140.270408 \r\nL 178.812105 140.807476 \r\nL 179.422052 139.860216 \r\nL 180.641946 140.336485 \r\nL 181.861841 140.223709 \r\nL 182.471788 140.45626 \r\nL 183.081735 140.972981 \r\nL 183.691682 141.199301 \r\nL 184.301629 140.856014 \r\nL 185.521524 141.30298 \r\nL 186.741418 141.185044 \r\nL 187.351365 141.680151 \r\nL 188.57126 142.107989 \r\nL 189.181207 141.773706 \r\nL 190.401101 141.654643 \r\nL 191.011048 141.864545 \r\nL 191.620995 142.339719 \r\nL 192.230943 142.278332 \r\nL 192.84089 141.95279 \r\nL 193.450837 141.893821 \r\nL 194.060784 141.573167 \r\nL 194.670731 141.516535 \r\nL 195.280678 141.720214 \r\nL 195.890626 141.404845 \r\nL 196.500573 141.864545 \r\nL 197.11052 141.807614 \r\nL 197.720467 142.26125 \r\nL 198.330414 141.949169 \r\nL 198.940361 142.398041 \r\nL 200.160256 142.281928 \r\nL 200.770203 142.723269 \r\nL 201.990097 143.100001 \r\nL 202.600044 142.793868 \r\nL 203.209992 142.980267 \r\nL 203.819939 142.921183 \r\nL 205.039833 143.288006 \r\nL 205.64978 143.709705 \r\nL 206.259727 143.888134 \r\nL 206.869675 143.826424 \r\nL 207.479622 144.002831 \r\nL 208.089569 144.414316 \r\nL 208.699516 144.351164 \r\nL 210.529358 144.862724 \r\nL 211.139305 144.567104 \r\nL 211.749252 144.504624 \r\nL 212.359199 144.672399 \r\nL 212.969146 144.610001 \r\nL 213.579093 144.77597 \r\nL 214.798988 145.555844 \r\nL 215.408935 145.715964 \r\nL 216.018882 146.098967 \r\nL 216.628829 146.255624 \r\nL 217.238776 145.743874 \r\nL 217.848724 146.122188 \r\nL 219.068618 145.990864 \r\nL 219.678565 145.488227 \r\nL 220.288512 145.643583 \r\nL 220.898459 146.014905 \r\nL 221.508407 146.167006 \r\nL 222.118354 146.533416 \r\nL 223.338248 146.402465 \r\nL 223.948195 146.124731 \r\nL 225.16809 146.843947 \r\nL 225.778037 146.988874 \r\nL 226.387984 147.342508 \r\nL 226.997931 147.066457 \r\nL 227.607878 147.000704 \r\nL 228.217825 147.350337 \r\nL 228.827773 147.077342 \r\nL 230.047667 147.357992 \r\nL 231.267561 147.227231 \r\nL 232.487456 146.69405 \r\nL 233.097403 146.631792 \r\nL 233.70735 146.77068 \r\nL 234.317297 147.108566 \r\nL 234.927244 147.045489 \r\nL 235.537191 147.181411 \r\nL 236.147139 146.920677 \r\nL 236.757086 146.858942 \r\nL 237.367033 146.994084 \r\nL 237.97698 146.932523 \r\nL 238.586927 146.676321 \r\nL 239.196874 146.810685 \r\nL 239.806822 146.7504 \r\nL 240.416769 146.883579 \r\nL 241.026716 146.631097 \r\nL 241.636663 146.572054 \r\nL 242.24661 146.704471 \r\nL 242.856557 147.026377 \r\nL 243.466505 146.587107 \r\nL 244.076452 146.529017 \r\nL 244.686399 146.282871 \r\nL 245.296346 145.85056 \r\nL 246.51624 146.114011 \r\nL 247.126188 146.058481 \r\nL 247.736135 146.373958 \r\nL 248.346082 146.317931 \r\nL 248.956029 145.894094 \r\nL 249.565976 145.840022 \r\nL 250.175923 145.969184 \r\nL 250.785871 145.732939 \r\nL 251.395818 145.679919 \r\nL 252.615712 145.213915 \r\nL 253.225659 145.16309 \r\nL 253.835606 145.291937 \r\nL 254.445554 145.241195 \r\nL 255.055501 145.01258 \r\nL 255.665448 145.318298 \r\nL 256.885342 145.217924 \r\nL 258.105237 145.469578 \r\nL 258.715184 145.76905 \r\nL 259.325131 145.892363 \r\nL 261.154972 145.739732 \r\nL 261.76492 145.345238 \r\nL 262.984814 145.247789 \r\nL 263.594761 145.370058 \r\nL 264.814655 145.951339 \r\nL 266.03455 146.188637 \r\nL 267.254444 145.753252 \r\nL 269.084286 146.105661 \r\nL 269.694233 146.056269 \r\nL 270.30418 146.337109 \r\nL 271.524074 146.237838 \r\nL 272.134021 145.371061 \r\nL 273.353916 145.603421 \r\nL 273.963863 145.556506 \r\nL 274.57381 145.833088 \r\nL 275.183757 145.624629 \r\nL 275.793704 145.738729 \r\nL 277.013599 145.645464 \r\nL 277.623546 145.758529 \r\nL 278.233493 145.712103 \r\nL 279.453387 145.93593 \r\nL 280.063335 145.889397 \r\nL 280.673282 146.157231 \r\nL 281.283229 146.266941 \r\nL 281.893176 146.219869 \r\nL 282.503123 146.328792 \r\nL 283.11307 146.126521 \r\nL 283.723018 146.235096 \r\nL 284.332965 146.497503 \r\nL 284.942912 146.604446 \r\nL 285.552859 146.403649 \r\nL 286.162806 146.510261 \r\nL 286.772753 146.769031 \r\nL 287.382701 146.417111 \r\nL 287.992648 146.219016 \r\nL 289.212542 146.732506 \r\nL 290.432436 146.93993 \r\nL 291.042384 147.192652 \r\nL 292.262278 146.799741 \r\nL 292.872225 146.753515 \r\nL 294.702067 147.501104 \r\nL 295.312014 147.600583 \r\nL 296.531908 147.505371 \r\nL 297.141855 147.312221 \r\nL 297.751802 147.411153 \r\nL 298.36175 147.364412 \r\nL 298.971697 147.462698 \r\nL 299.581644 147.416074 \r\nL 300.191591 147.225649 \r\nL 301.411485 147.420912 \r\nL 303.241327 147.283482 \r\nL 304.461221 147.475961 \r\nL 306.291063 147.339857 \r\nL 306.90101 147.575026 \r\nL 307.510957 147.529636 \r\nL 308.120904 147.623812 \r\nL 309.340799 147.533463 \r\nL 309.950746 147.765227 \r\nL 310.560693 147.719928 \r\nL 311.17064 147.812464 \r\nL 311.780587 147.630001 \r\nL 312.390534 147.585373 \r\nL 313.000482 147.40436 \r\nL 313.610429 147.633033 \r\nL 314.830323 147.815819 \r\nL 315.44027 147.771282 \r\nL 316.660165 147.952081 \r\nL 317.270112 147.907527 \r\nL 317.880059 147.729231 \r\nL 318.490006 147.819083 \r\nL 319.099953 147.508527 \r\nL 319.7099 147.465473 \r\nL 320.319848 147.555301 \r\nL 320.929795 147.37997 \r\nL 321.539742 147.337521 \r\nL 322.149689 147.163533 \r\nL 322.759636 147.253228 \r\nL 323.979531 147.169738 \r\nL 325.809372 147.82533 \r\nL 326.419319 147.65304 \r\nL 327.029266 147.869427 \r\nL 327.639214 147.826829 \r\nL 328.249161 147.65574 \r\nL 328.859108 147.742229 \r\nL 329.469055 147.956422 \r\nL 330.079002 147.914014 \r\nL 330.688949 147.999318 \r\nL 331.298897 147.702564 \r\nL 331.908844 147.661026 \r\nL 332.518791 147.746322 \r\nL 333.128738 147.704875 \r\nL 333.738685 147.537556 \r\nL 334.348632 147.496763 \r\nL 334.95858 147.707161 \r\nL 335.568527 147.666179 \r\nL 336.178474 147.750306 \r\nL 336.788421 147.958716 \r\nL 337.398368 147.79307 \r\nL 338.008315 147.752262 \r\nL 339.22821 148.165362 \r\nL 339.838157 148.000726 \r\nL 340.448104 148.082816 \r\nL 341.058051 147.796368 \r\nL 341.667998 147.87854 \r\nL 342.277946 147.715984 \r\nL 342.887893 147.676062 \r\nL 343.49784 147.393002 \r\nL 344.107787 147.232567 \r\nL 344.717734 147.315079 \r\nL 345.327681 147.518096 \r\nL 345.937629 147.59963 \r\nL 346.547576 147.56047 \r\nL 347.157523 147.40141 \r\nL 347.76747 147.602488 \r\nL 349.597312 147.843406 \r\nL 350.207259 147.68544 \r\nL 350.817206 147.883768 \r\nL 351.427153 147.962958 \r\nL 352.647048 147.88477 \r\nL 353.256995 147.728386 \r\nL 353.866942 147.807237 \r\nL 354.476889 147.768723 \r\nL 355.086836 147.847159 \r\nL 355.696783 147.808711 \r\nL 356.306731 147.654125 \r\nL 357.526625 147.810169 \r\nL 359.356466 147.696508 \r\nL 359.966414 147.888664 \r\nL 360.576361 147.73614 \r\nL 361.186308 147.698637 \r\nL 361.796255 147.889608 \r\nL 362.406202 147.738021 \r\nL 363.016149 147.814436 \r\nL 363.626097 147.663619 \r\nL 364.236044 147.739876 \r\nL 365.455938 147.665922 \r\nL 366.065885 147.291543 \r\nL 366.675832 147.143311 \r\nL 368.505674 147.371992 \r\nL 369.725568 147.300548 \r\nL 369.725568 147.300548 \r\n\" style=\"fill:none;stroke:#1f77b4;stroke-linecap:square;stroke-width:1.5;\"/>\r\n   </g>\r\n   <g id=\"line2d_17\">\r\n    <path clip-path=\"url(#p037ab2857f)\" d=\"M 65.361932 129.51 \r\nL 65.971879 129.51 \r\nL 66.581826 148.041817 \r\nL 67.191773 129.51 \r\nL 67.80172 107.271823 \r\nL 68.411668 129.51 \r\nL 69.021615 145.394414 \r\nL 69.631562 157.307725 \r\nL 70.241509 160.396361 \r\nL 70.851456 151.748185 \r\nL 71.461403 154.780662 \r\nL 72.071351 143.408867 \r\nL 72.681298 138.063146 \r\nL 73.291245 145.394414 \r\nL 73.901192 148.041817 \r\nL 75.121086 139.320962 \r\nL 75.731034 141.864545 \r\nL 76.340981 147.066457 \r\nL 76.950928 146.188637 \r\nL 77.560875 142.747012 \r\nL 78.170822 147.199462 \r\nL 78.780769 146.430358 \r\nL 79.390717 141.092392 \r\nL 80.000664 138.405274 \r\nL 80.610611 133.786573 \r\nL 81.220558 133.628184 \r\nL 81.830505 135.46666 \r\nL 83.0504 135.069548 \r\nL 83.660347 133.096808 \r\nL 84.880241 136.248845 \r\nL 85.490188 131.14516 \r\nL 86.710083 134.142958 \r\nL 87.32003 132.515163 \r\nL 88.539924 132.361049 \r\nL 89.149871 130.899885 \r\nL 89.759819 133.577964 \r\nL 90.369766 134.804805 \r\nL 90.979713 134.681674 \r\nL 91.58966 133.300604 \r\nL 92.809554 133.135795 \r\nL 93.419502 134.241526 \r\nL 94.639396 138.586809 \r\nL 95.249343 138.405274 \r\nL 95.85929 139.320962 \r\nL 96.469237 138.063146 \r\nL 97.079185 138.950742 \r\nL 97.689132 138.775908 \r\nL 98.299079 139.618263 \r\nL 98.909026 139.437763 \r\nL 99.518973 138.288232 \r\nL 100.12892 139.095428 \r\nL 100.738868 138.932963 \r\nL 101.348815 137.849318 \r\nL 102.568709 137.580308 \r\nL 103.178656 139.217142 \r\nL 104.398551 138.918466 \r\nL 105.008498 139.618263 \r\nL 105.618445 138.637617 \r\nL 106.228392 140.138546 \r\nL 106.838339 139.984507 \r\nL 108.058234 142.821588 \r\nL 108.668181 143.408867 \r\nL 109.888075 146.038383 \r\nL 110.498022 145.076725 \r\nL 111.107969 145.603421 \r\nL 111.717917 145.394414 \r\nL 114.157705 147.355457 \r\nL 114.767652 145.781841 \r\nL 115.3776 146.255624 \r\nL 115.987547 147.37997 \r\nL 116.597494 145.861603 \r\nL 117.817388 146.763762 \r\nL 118.427335 145.93593 \r\nL 119.037283 147.000704 \r\nL 120.257177 145.394414 \r\nL 120.867124 145.826055 \r\nL 122.087018 145.478907 \r\nL 122.696966 145.896033 \r\nL 123.91686 145.558172 \r\nL 124.526807 145.96172 \r\nL 125.136754 145.795535 \r\nL 125.746701 146.744592 \r\nL 126.356649 147.124406 \r\nL 126.966596 146.406656 \r\nL 127.576543 147.322137 \r\nL 128.18649 147.68544 \r\nL 128.796437 147.512338 \r\nL 129.406384 147.866992 \r\nL 130.016332 147.695431 \r\nL 130.626279 148.556591 \r\nL 131.846173 148.210288 \r\nL 132.45612 147.040096 \r\nL 133.676015 146.72983 \r\nL 134.285962 147.066457 \r\nL 134.895909 146.430358 \r\nL 135.505856 146.763762 \r\nL 136.72575 148.355919 \r\nL 137.945645 147.115227 \r\nL 139.775486 146.685831 \r\nL 140.385433 146.098967 \r\nL 140.995381 145.076725 \r\nL 142.215275 145.7071 \r\nL 142.825222 145.580564 \r\nL 143.435169 145.025014 \r\nL 144.045116 144.90567 \r\nL 144.655064 145.636931 \r\nL 145.265011 145.93593 \r\nL 145.874958 145.812427 \r\nL 148.924694 147.236087 \r\nL 150.144588 146.982859 \r\nL 150.754535 146.464647 \r\nL 151.364482 146.736764 \r\nL 151.97443 146.616292 \r\nL 152.584377 146.111418 \r\nL 153.804271 145.884004 \r\nL 155.024165 147.165314 \r\nL 155.634113 146.673695 \r\nL 156.24406 147.300548 \r\nL 158.683848 148.282494 \r\nL 159.293796 148.161377 \r\nL 159.903743 147.68544 \r\nL 160.51369 147.569674 \r\nL 161.123637 147.807237 \r\nL 161.733584 146.99285 \r\nL 162.343531 147.231051 \r\nL 162.953479 146.430358 \r\nL 164.78332 148.154816 \r\nL 166.003214 148.600009 \r\nL 166.613162 148.485693 \r\nL 167.223109 148.703672 \r\nL 168.443003 147.823797 \r\nL 169.05295 148.041817 \r\nL 170.272845 147.827575 \r\nL 171.492739 148.253615 \r\nL 172.102686 148.147111 \r\nL 172.712633 148.355919 \r\nL 173.32258 148.250044 \r\nL 173.932528 148.455936 \r\nL 174.542475 148.041817 \r\nL 175.152422 148.553749 \r\nL 175.762369 148.449109 \r\nL 176.372316 147.738021 \r\nL 178.202158 148.340717 \r\nL 178.812105 147.942719 \r\nL 179.422052 148.140392 \r\nL 180.031999 148.630131 \r\nL 180.641946 148.236889 \r\nL 181.251894 148.138843 \r\nL 181.861841 148.620936 \r\nL 182.471788 147.945801 \r\nL 183.081735 147.850771 \r\nL 183.691682 147.471612 \r\nL 184.911577 148.418101 \r\nL 185.521524 148.603389 \r\nL 186.131471 149.066195 \r\nL 187.351365 148.318415 \r\nL 187.961312 148.500531 \r\nL 188.57126 148.954721 \r\nL 189.181207 148.859401 \r\nL 189.791154 149.036206 \r\nL 190.401101 148.941425 \r\nL 191.011048 149.116125 \r\nL 191.620995 148.487292 \r\nL 192.230943 148.130493 \r\nL 193.450837 148.480963 \r\nL 194.060784 148.391475 \r\nL 194.670731 148.56384 \r\nL 195.280678 148.994387 \r\nL 195.890626 148.386596 \r\nL 196.500573 148.556591 \r\nL 197.11052 148.981223 \r\nL 197.720467 148.381857 \r\nL 198.330414 148.295683 \r\nL 199.550309 148.628797 \r\nL 200.160256 148.292253 \r\nL 201.38015 148.124553 \r\nL 201.990097 148.288906 \r\nL 202.600044 148.697814 \r\nL 205.039833 148.364112 \r\nL 206.259727 147.722305 \r\nL 207.479622 147.566642 \r\nL 208.089569 147.726381 \r\nL 209.309463 147.572656 \r\nL 209.91941 147.730358 \r\nL 210.529358 147.188891 \r\nL 211.139305 147.578522 \r\nL 211.749252 147.272862 \r\nL 212.969146 147.584246 \r\nL 213.579093 147.965866 \r\nL 214.189041 148.117461 \r\nL 214.798988 147.815819 \r\nL 215.408935 147.966794 \r\nL 216.018882 147.892367 \r\nL 216.628829 148.265097 \r\nL 217.238776 148.412459 \r\nL 217.848724 147.451166 \r\nL 219.068618 147.748824 \r\nL 219.678565 147.020379 \r\nL 220.288512 147.169738 \r\nL 220.898459 147.100754 \r\nL 221.508407 147.464951 \r\nL 222.118354 147.610847 \r\nL 222.728301 147.326304 \r\nL 223.338248 147.68544 \r\nL 223.948195 147.828809 \r\nL 224.558142 147.758889 \r\nL 225.16809 147.478115 \r\nL 225.778037 147.62064 \r\nL 227.607878 147.417151 \r\nL 228.217825 147.557778 \r\nL 229.43772 148.247725 \r\nL 230.047667 148.383738 \r\nL 230.657614 148.314348 \r\nL 232.487456 148.7157 \r\nL 233.097403 148.64612 \r\nL 233.70735 148.978447 \r\nL 234.317297 148.908411 \r\nL 235.537191 149.166967 \r\nL 236.147139 149.097013 \r\nL 237.367033 149.351493 \r\nL 237.97698 149.673141 \r\nL 239.196874 149.920919 \r\nL 241.026716 149.709046 \r\nL 241.636663 149.831099 \r\nL 242.24661 150.143362 \r\nL 242.856557 149.882305 \r\nL 244.076452 150.50012 \r\nL 244.686399 150.428966 \r\nL 245.296346 150.546123 \r\nL 245.906293 150.475292 \r\nL 247.126188 149.963177 \r\nL 247.736135 149.895005 \r\nL 248.346082 150.01198 \r\nL 249.565976 149.876655 \r\nL 250.175923 150.175414 \r\nL 251.395818 150.040346 \r\nL 252.005765 150.154571 \r\nL 252.615712 150.087542 \r\nL 253.225659 150.200864 \r\nL 253.835606 150.134125 \r\nL 254.445554 150.425337 \r\nL 255.055501 150.536489 \r\nL 255.665448 150.469311 \r\nL 256.275395 150.756671 \r\nL 256.885342 150.865718 \r\nL 257.495289 150.798134 \r\nL 258.105237 151.081741 \r\nL 258.715184 151.0139 \r\nL 259.325131 150.249369 \r\nL 260.545025 150.466544 \r\nL 261.154972 150.401462 \r\nL 261.76492 150.681026 \r\nL 262.374867 150.787273 \r\nL 262.984814 150.721802 \r\nL 264.204708 150.9321 \r\nL 264.814655 150.866795 \r\nL 266.03455 150.400418 \r\nL 266.644497 150.001376 \r\nL 267.864391 149.878304 \r\nL 268.474338 149.650873 \r\nL 269.084286 149.922658 \r\nL 269.694233 150.027373 \r\nL 270.30418 150.296432 \r\nL 272.134021 150.603567 \r\nL 273.353916 150.480213 \r\nL 273.963863 150.581166 \r\nL 274.57381 150.519912 \r\nL 275.183757 150.781308 \r\nL 277.013599 150.597934 \r\nL 277.623546 150.218907 \r\nL 280.673282 149.926411 \r\nL 281.283229 150.025509 \r\nL 281.893176 149.811714 \r\nL 282.503123 149.910571 \r\nL 283.11307 150.164181 \r\nL 283.723018 150.261506 \r\nL 284.332965 150.203863 \r\nL 284.942912 150.454548 \r\nL 285.552859 150.243114 \r\nL 286.162806 149.879687 \r\nL 286.772753 149.976457 \r\nL 287.382701 149.768072 \r\nL 288.602595 149.657675 \r\nL 289.212542 149.300776 \r\nL 289.822489 149.54847 \r\nL 290.432436 149.494315 \r\nL 291.042384 149.140738 \r\nL 291.652331 149.087967 \r\nL 292.872225 148.685976 \r\nL 293.482172 148.931351 \r\nL 294.092119 149.027557 \r\nL 294.702067 148.533378 \r\nL 296.531908 148.822105 \r\nL 297.141855 149.063255 \r\nL 298.36175 148.670841 \r\nL 298.971697 148.33138 \r\nL 299.581644 148.282494 \r\nL 300.191591 148.089833 \r\nL 301.411485 148.28063 \r\nL 302.021433 148.232382 \r\nL 303.241327 147.852237 \r\nL 303.851274 147.947267 \r\nL 305.071168 148.418101 \r\nL 305.681116 148.370234 \r\nL 306.291063 148.462994 \r\nL 306.90101 148.41526 \r\nL 308.730851 148.690433 \r\nL 309.950746 149.148194 \r\nL 311.17064 149.3262 \r\nL 311.780587 149.551817 \r\nL 312.390534 149.639391 \r\nL 313.000482 149.453332 \r\nL 313.610429 149.131924 \r\nL 314.220376 149.083949 \r\nL 314.830323 149.307403 \r\nL 315.44027 148.988704 \r\nL 316.660165 149.163603 \r\nL 317.270112 149.384705 \r\nL 317.880059 149.336813 \r\nL 318.490006 149.422796 \r\nL 319.7099 149.859531 \r\nL 320.319848 149.943651 \r\nL 321.539742 149.582469 \r\nL 322.149689 149.534908 \r\nL 322.759636 149.618995 \r\nL 323.979531 149.524362 \r\nL 324.589478 149.216375 \r\nL 325.199425 149.300419 \r\nL 325.809372 149.254184 \r\nL 326.419319 149.078564 \r\nL 327.029266 148.645184 \r\nL 327.639214 148.600788 \r\nL 328.249161 148.813978 \r\nL 328.859108 148.897791 \r\nL 330.079002 148.553045 \r\nL 330.688949 148.636875 \r\nL 331.298897 148.593108 \r\nL 331.908844 148.803399 \r\nL 332.518791 148.632815 \r\nL 333.128738 148.7157 \r\nL 333.738685 148.924284 \r\nL 334.348632 148.628797 \r\nL 336.178474 149.249512 \r\nL 337.398368 149.409939 \r\nL 338.008315 149.241426 \r\nL 338.618263 149.197478 \r\nL 340.448104 149.435803 \r\nL 341.058051 149.391821 \r\nL 343.49784 149.704415 \r\nL 344.717734 149.616418 \r\nL 345.937629 149.770383 \r\nL 346.547576 149.967203 \r\nL 347.157523 149.923023 \r\nL 347.76747 149.639391 \r\nL 348.377417 149.715665 \r\nL 348.987365 149.433698 \r\nL 350.207259 149.823726 \r\nL 350.817206 149.661875 \r\nL 351.427153 149.737287 \r\nL 352.647048 149.651577 \r\nL 353.256995 149.726534 \r\nL 353.866942 149.449298 \r\nL 354.476889 149.407321 \r\nL 355.086836 149.599112 \r\nL 355.696783 149.673556 \r\nL 356.306731 149.863988 \r\nL 356.916678 149.589362 \r\nL 360.576361 150.02874 \r\nL 361.186308 149.872124 \r\nL 361.796255 149.830312 \r\nL 362.406202 149.902594 \r\nL 363.626097 149.819361 \r\nL 364.236044 149.891227 \r\nL 364.845991 149.736807 \r\nL 366.065885 149.992537 \r\nL 366.675832 150.063476 \r\nL 367.28578 150.022038 \r\nL 367.895727 150.09262 \r\nL 368.505674 149.939658 \r\nL 369.115621 150.121541 \r\nL 369.725568 150.080318 \r\nL 369.725568 150.080318 \r\n\" style=\"fill:none;stroke:#ff7f0e;stroke-linecap:square;stroke-width:1.5;\"/>\r\n   </g>\r\n   <g id=\"line2d_18\">\r\n    <path clip-path=\"url(#p037ab2857f)\" d=\"M 65.361932 240.700909 \r\nL 65.971879 212.903182 \r\nL 66.581826 203.637271 \r\nL 67.191773 185.105455 \r\nL 67.80172 196.224547 \r\nL 68.411668 203.637271 \r\nL 69.021615 193.047662 \r\nL 69.631562 192.054888 \r\nL 70.241509 197.459999 \r\nL 70.851456 196.224547 \r\nL 72.071351 185.105455 \r\nL 72.681298 180.828881 \r\nL 73.291245 181.134351 \r\nL 73.901192 177.692726 \r\nL 74.511139 181.630738 \r\nL 75.731034 169.66227 \r\nL 76.340981 164.622922 \r\nL 76.950928 168.426822 \r\nL 77.560875 169.221036 \r\nL 78.170822 167.415996 \r\nL 79.390717 168.890117 \r\nL 80.000664 167.314911 \r\nL 81.220558 168.63273 \r\nL 81.830505 163.264385 \r\nL 83.660347 165.378034 \r\nL 84.270294 164.257159 \r\nL 84.880241 161.519506 \r\nL 85.490188 162.213206 \r\nL 86.100135 164.455718 \r\nL 86.710083 163.484997 \r\nL 88.539924 165.148109 \r\nL 90.369766 162.60253 \r\nL 90.979713 164.418778 \r\nL 91.58966 163.625393 \r\nL 92.199607 164.10273 \r\nL 92.809554 163.350716 \r\nL 93.419502 163.81358 \r\nL 94.029449 163.098921 \r\nL 95.85929 164.39342 \r\nL 96.469237 163.722585 \r\nL 97.079185 162.0281 \r\nL 97.689132 163.484997 \r\nL 98.909026 162.271611 \r\nL 99.518973 162.672202 \r\nL 100.12892 162.100439 \r\nL 100.738868 163.432649 \r\nL 101.958762 162.320431 \r\nL 102.568709 162.687934 \r\nL 103.178656 160.396361 \r\nL 103.788603 161.65112 \r\nL 105.008498 162.361861 \r\nL 105.618445 163.5311 \r\nL 106.228392 163.03079 \r\nL 106.838339 163.350716 \r\nL 107.448286 162.867274 \r\nL 108.058234 161.61442 \r\nL 108.668181 161.940684 \r\nL 109.278128 163.01959 \r\nL 111.107969 161.696841 \r\nL 111.717917 162.722869 \r\nL 112.327864 162.29706 \r\nL 112.937811 163.28952 \r\nL 113.547758 163.562216 \r\nL 114.157705 163.141818 \r\nL 115.3776 160.991767 \r\nL 115.987547 160.616982 \r\nL 116.597494 161.559147 \r\nL 118.427335 162.361861 \r\nL 119.037283 161.368068 \r\nL 119.64723 159.778637 \r\nL 120.867124 160.329217 \r\nL 121.477071 159.997834 \r\nL 122.087018 159.082055 \r\nL 123.306913 159.624209 \r\nL 124.526807 161.278829 \r\nL 125.136754 160.957934 \r\nL 125.746701 161.199407 \r\nL 126.356649 160.885653 \r\nL 126.966596 160.032992 \r\nL 127.576543 160.81618 \r\nL 130.016332 159.645856 \r\nL 130.626279 160.396361 \r\nL 133.676015 161.489691 \r\nL 134.285962 161.209166 \r\nL 135.505856 161.621172 \r\nL 136.115803 161.346711 \r\nL 137.335698 159.877263 \r\nL 137.945645 159.624209 \r\nL 138.555592 158.915862 \r\nL 139.165539 159.586233 \r\nL 139.775486 158.889716 \r\nL 140.385433 159.101134 \r\nL 140.995381 159.753925 \r\nL 141.605328 159.955128 \r\nL 142.825222 159.479423 \r\nL 144.655064 160.066279 \r\nL 145.265011 159.834797 \r\nL 145.874958 160.442812 \r\nL 147.094852 159.984545 \r\nL 147.704799 160.169262 \r\nL 148.314747 159.945468 \r\nL 148.924694 160.530651 \r\nL 149.534641 160.307487 \r\nL 150.754535 161.447813 \r\nL 151.364482 161.222901 \r\nL 152.584377 161.554607 \r\nL 155.024165 160.688534 \r\nL 155.634113 161.225527 \r\nL 156.24406 161.384728 \r\nL 157.463954 160.233805 \r\nL 158.073901 160.396361 \r\nL 158.683848 160.195805 \r\nL 159.903743 161.227921 \r\nL 160.51369 161.380006 \r\nL 161.123637 161.178298 \r\nL 161.733584 161.678442 \r\nL 162.343531 160.782446 \r\nL 162.953479 160.93352 \r\nL 163.563426 160.053181 \r\nL 164.173373 159.524722 \r\nL 164.78332 159.341712 \r\nL 165.393267 158.823972 \r\nL 166.613162 159.13872 \r\nL 167.833056 158.788084 \r\nL 168.443003 159.269919 \r\nL 169.662897 158.277419 \r\nL 170.272845 158.753853 \r\nL 170.882792 158.905299 \r\nL 171.492739 158.737325 \r\nL 172.102686 159.203031 \r\nL 172.712633 158.721171 \r\nL 173.32258 157.9324 \r\nL 173.932528 157.773613 \r\nL 174.542475 156.998867 \r\nL 175.152422 157.15415 \r\nL 175.762369 157.002256 \r\nL 176.372316 157.155831 \r\nL 176.982263 157.609881 \r\nL 177.592211 157.157472 \r\nL 178.202158 156.411025 \r\nL 178.812105 156.564477 \r\nL 179.422052 157.012006 \r\nL 180.031999 155.984024 \r\nL 181.251894 156.288963 \r\nL 182.471788 155.435342 \r\nL 183.081735 155.58828 \r\nL 183.691682 154.88434 \r\nL 184.911577 155.191152 \r\nL 186.131471 154.374297 \r\nL 186.741418 154.805937 \r\nL 187.351365 154.680081 \r\nL 187.961312 154.830707 \r\nL 189.181207 154.582458 \r\nL 189.791154 154.731353 \r\nL 190.401101 154.608918 \r\nL 191.011048 154.219089 \r\nL 191.620995 154.367586 \r\nL 192.230943 154.780662 \r\nL 194.060784 155.209784 \r\nL 194.670731 154.828123 \r\nL 195.280678 154.969603 \r\nL 197.11052 154.617625 \r\nL 197.720467 154.24743 \r\nL 198.330414 154.38833 \r\nL 198.940361 154.275249 \r\nL 199.550309 154.414749 \r\nL 200.770203 154.191394 \r\nL 201.38015 153.833013 \r\nL 202.600044 154.10976 \r\nL 203.209992 154.001392 \r\nL 203.819939 154.137811 \r\nL 205.039833 153.92366 \r\nL 206.259727 154.192463 \r\nL 206.869675 153.847925 \r\nL 207.479622 154.219089 \r\nL 209.309463 154.610062 \r\nL 209.91941 154.270999 \r\nL 210.529358 154.167403 \r\nL 211.139305 154.296308 \r\nL 212.359199 154.09146 \r\nL 212.969146 154.219089 \r\nL 213.579093 154.117829 \r\nL 214.189041 153.790464 \r\nL 214.798988 154.143759 \r\nL 215.408935 154.26911 \r\nL 216.628829 153.177139 \r\nL 217.848724 153.874542 \r\nL 218.458671 153.336622 \r\nL 219.068618 153.242445 \r\nL 219.678565 153.586776 \r\nL 220.288512 153.492351 \r\nL 220.898459 153.833013 \r\nL 221.508407 153.738372 \r\nL 222.118354 153.428976 \r\nL 223.948195 153.154042 \r\nL 224.558142 153.488192 \r\nL 225.16809 153.608415 \r\nL 226.387984 154.265713 \r\nL 226.997931 154.381653 \r\nL 227.607878 154.288504 \r\nL 228.217825 154.403491 \r\nL 229.43772 154.219089 \r\nL 230.047667 154.333065 \r\nL 230.657614 154.241805 \r\nL 231.267561 154.5585 \r\nL 232.487456 154.780662 \r\nL 234.317297 154.507957 \r\nL 234.927244 154.816889 \r\nL 235.537191 154.527955 \r\nL 236.147139 154.043229 \r\nL 236.757086 153.956226 \r\nL 237.367033 153.673398 \r\nL 239.196874 153.419937 \r\nL 239.806822 153.142908 \r\nL 240.416769 153.446936 \r\nL 241.026716 153.55648 \r\nL 241.636663 153.281854 \r\nL 242.24661 153.391207 \r\nL 242.856557 153.309424 \r\nL 243.466505 153.038451 \r\nL 244.076452 152.958424 \r\nL 244.686399 153.067396 \r\nL 245.906293 152.908759 \r\nL 246.51624 153.203368 \r\nL 247.126188 153.310062 \r\nL 247.736135 152.860088 \r\nL 248.346082 152.782513 \r\nL 248.956029 152.889547 \r\nL 249.565976 153.179351 \r\nL 251.395818 152.947298 \r\nL 252.005765 153.052054 \r\nL 252.615712 152.975614 \r\nL 253.225659 152.719751 \r\nL 253.835606 152.824225 \r\nL 254.445554 152.570492 \r\nL 255.055501 152.496587 \r\nL 255.665448 152.778388 \r\nL 256.275395 152.350169 \r\nL 256.885342 152.101174 \r\nL 258.105237 152.660162 \r\nL 258.715184 152.412533 \r\nL 259.325131 152.515019 \r\nL 259.935078 152.269388 \r\nL 260.545025 152.544876 \r\nL 261.154972 152.645995 \r\nL 262.374867 152.503181 \r\nL 262.984814 152.77456 \r\nL 264.204708 152.632268 \r\nL 266.03455 152.927482 \r\nL 266.644497 153.192656 \r\nL 267.254444 153.288779 \r\nL 267.864391 153.050422 \r\nL 268.474338 152.979938 \r\nL 269.084286 152.577964 \r\nL 269.694233 152.509311 \r\nL 270.30418 152.111123 \r\nL 270.914127 152.044252 \r\nL 271.524074 152.141775 \r\nL 272.134021 152.402244 \r\nL 272.743969 152.335116 \r\nL 273.353916 152.430933 \r\nL 273.963863 151.877852 \r\nL 274.57381 151.489597 \r\nL 275.793704 151.683915 \r\nL 276.403652 151.45979 \r\nL 277.013599 151.716232 \r\nL 278.84344 151.526437 \r\nL 279.453387 151.305949 \r\nL 280.063335 151.4017 \r\nL 280.673282 151.182802 \r\nL 281.283229 151.43497 \r\nL 281.893176 151.373384 \r\nL 282.503123 151.623597 \r\nL 283.11307 151.717127 \r\nL 283.723018 151.655268 \r\nL 284.942912 151.224572 \r\nL 285.552859 151.31816 \r\nL 286.162806 151.104929 \r\nL 287.382701 150.986603 \r\nL 287.992648 151.079819 \r\nL 288.602595 150.718074 \r\nL 289.212542 150.811521 \r\nL 291.652331 150.582475 \r\nL 292.262278 150.82408 \r\nL 292.872225 150.618438 \r\nL 294.092119 150.801878 \r\nL 294.702067 151.040336 \r\nL 295.312014 150.983381 \r\nL 296.531908 150.577753 \r\nL 297.141855 150.668376 \r\nL 297.751802 150.467447 \r\nL 298.971697 150.937419 \r\nL 299.581644 150.73736 \r\nL 300.191591 150.826392 \r\nL 300.801538 151.058627 \r\nL 302.021433 150.947841 \r\nL 302.63138 151.035423 \r\nL 303.241327 151.264743 \r\nL 303.851274 151.209246 \r\nL 304.461221 151.012566 \r\nL 305.681116 150.903693 \r\nL 306.291063 150.709276 \r\nL 307.510957 150.602747 \r\nL 308.730851 150.775261 \r\nL 309.340799 150.999518 \r\nL 309.950746 150.80776 \r\nL 310.560693 151.030825 \r\nL 311.17064 151.115168 \r\nL 311.780587 151.336361 \r\nL 312.390534 151.282604 \r\nL 313.000482 151.365704 \r\nL 314.220376 151.258836 \r\nL 314.830323 150.934594 \r\nL 315.44027 151.153003 \r\nL 316.050217 150.830592 \r\nL 316.660165 150.913576 \r\nL 317.270112 150.861882 \r\nL 317.880059 151.078361 \r\nL 318.490006 150.759222 \r\nL 319.7099 150.923559 \r\nL 320.319848 150.872453 \r\nL 320.929795 150.953963 \r\nL 321.539742 151.167136 \r\nL 322.759636 151.064741 \r\nL 323.369583 151.145025 \r\nL 323.979531 151.355746 \r\nL 324.589478 151.43497 \r\nL 325.199425 151.123221 \r\nL 325.809372 151.072727 \r\nL 326.419319 151.152059 \r\nL 327.029266 150.972429 \r\nL 327.639214 150.664656 \r\nL 328.249161 150.615687 \r\nL 328.859108 150.181752 \r\nL 329.469055 150.006024 \r\nL 330.688949 150.167031 \r\nL 331.298897 150.11976 \r\nL 331.908844 149.818847 \r\nL 333.128738 149.726534 \r\nL 333.738685 149.806752 \r\nL 334.348632 150.012395 \r\nL 334.95858 149.715118 \r\nL 335.568527 149.669612 \r\nL 336.178474 149.499377 \r\nL 336.788421 149.703868 \r\nL 338.008315 149.861909 \r\nL 339.838157 149.356712 \r\nL 340.448104 149.312805 \r\nL 341.058051 149.514546 \r\nL 341.667998 149.34803 \r\nL 342.277946 149.426615 \r\nL 342.887893 149.626774 \r\nL 344.107787 149.538935 \r\nL 344.717734 149.737544 \r\nL 345.327681 149.693571 \r\nL 346.547576 149.245188 \r\nL 347.157523 149.442712 \r\nL 348.987365 149.672305 \r\nL 349.597312 149.867219 \r\nL 350.207259 149.704929 \r\nL 350.817206 149.661875 \r\nL 352.0371 149.812377 \r\nL 352.647048 149.769364 \r\nL 353.256995 149.961603 \r\nL 353.866942 149.918458 \r\nL 354.476889 149.758454 \r\nL 355.086836 149.482319 \r\nL 357.526625 149.779181 \r\nL 360.576361 148.997071 \r\nL 361.186308 149.071365 \r\nL 362.406202 148.87727 \r\nL 363.626097 149.138601 \r\nL 364.236044 149.098621 \r\nL 364.845991 149.171805 \r\nL 365.455938 149.019157 \r\nL 367.895727 149.30959 \r\nL 369.725568 149.190792 \r\nL 369.725568 149.190792 \r\n\" style=\"fill:none;stroke:#2ca02c;stroke-linecap:square;stroke-width:1.5;\"/>\r\n   </g>\r\n   <g id=\"line2d_19\">\r\n    <path clip-path=\"url(#p037ab2857f)\" d=\"M 65.361932 73.914541 \r\nL 65.971879 101.712275 \r\nL 66.581826 92.446358 \r\nL 67.191773 129.51 \r\nL 67.80172 140.629088 \r\nL 68.411668 148.041817 \r\nL 69.021615 145.394414 \r\nL 69.631562 136.459433 \r\nL 70.241509 129.51 \r\nL 72.071351 129.51 \r\nL 72.681298 133.786573 \r\nL 73.291245 141.423311 \r\nL 74.511139 132.984721 \r\nL 75.121086 139.320962 \r\nL 76.340981 138.288232 \r\nL 78.170822 137.091199 \r\nL 79.390717 136.459433 \r\nL 80.000664 138.405274 \r\nL 80.610611 142.339719 \r\nL 82.440452 141.012506 \r\nL 83.0504 140.629088 \r\nL 83.660347 136.683608 \r\nL 85.490188 140.956122 \r\nL 86.100135 140.629088 \r\nL 87.32003 143.03322 \r\nL 87.929977 142.677349 \r\nL 88.539924 140.914195 \r\nL 89.759819 140.357891 \r\nL 90.369766 138.775908 \r\nL 90.979713 141.146257 \r\nL 91.58966 142.145335 \r\nL 94.639396 140.856014 \r\nL 95.249343 142.852911 \r\nL 95.85929 141.501176 \r\nL 97.079185 141.048683 \r\nL 97.689132 141.864545 \r\nL 98.909026 141.423311 \r\nL 99.518973 142.189665 \r\nL 100.12892 141.012506 \r\nL 100.738868 140.81755 \r\nL 101.348815 142.482277 \r\nL 101.958762 141.358212 \r\nL 102.568709 142.063817 \r\nL 103.788603 141.67151 \r\nL 105.008498 139.618263 \r\nL 105.618445 140.297175 \r\nL 106.228392 140.138546 \r\nL 106.838339 141.595974 \r\nL 107.448286 142.217533 \r\nL 108.058234 140.472489 \r\nL 108.668181 141.864545 \r\nL 109.888075 140.028058 \r\nL 110.498022 139.88782 \r\nL 111.107969 140.482786 \r\nL 112.327864 140.201433 \r\nL 113.547758 138.544261 \r\nL 114.157705 136.37364 \r\nL 114.767652 137.645921 \r\nL 115.987547 136.128506 \r\nL 117.817388 137.817366 \r\nL 118.427335 138.986497 \r\nL 119.037283 137.630686 \r\nL 119.64723 138.775908 \r\nL 120.257177 139.285024 \r\nL 120.867124 140.387375 \r\nL 121.477071 140.868217 \r\nL 122.087018 140.747381 \r\nL 122.696966 141.214304 \r\nL 123.306913 138.775908 \r\nL 124.526807 138.586809 \r\nL 125.136754 139.618263 \r\nL 125.746701 138.405274 \r\nL 126.966596 140.411069 \r\nL 127.576543 140.305236 \r\nL 128.18649 141.27058 \r\nL 129.406384 141.048683 \r\nL 130.626279 139.805457 \r\nL 131.236226 140.22105 \r\nL 132.45612 140.028058 \r\nL 133.066067 140.430537 \r\nL 133.676015 141.317884 \r\nL 134.285962 140.726629 \r\nL 134.895909 139.178777 \r\nL 135.505856 139.095428 \r\nL 136.115803 138.538321 \r\nL 137.335698 139.320962 \r\nL 137.945645 140.165793 \r\nL 138.555592 140.537198 \r\nL 139.165539 139.991109 \r\nL 139.775486 140.809895 \r\nL 140.385433 140.718758 \r\nL 140.995381 139.739563 \r\nL 141.605328 140.540843 \r\nL 142.215275 140.45399 \r\nL 142.825222 139.065472 \r\nL 143.435169 139.422371 \r\nL 144.045116 139.346121 \r\nL 144.655064 138.422249 \r\nL 145.265011 137.933554 \r\nL 145.874958 138.288232 \r\nL 147.094852 138.158184 \r\nL 147.704799 137.685802 \r\nL 148.314747 137.626129 \r\nL 148.924694 137.970179 \r\nL 149.534641 137.909314 \r\nL 150.144588 137.452207 \r\nL 150.754535 137.395882 \r\nL 152.584377 138.389832 \r\nL 153.194324 139.095428 \r\nL 153.804271 139.029775 \r\nL 154.414218 138.208611 \r\nL 155.634113 137.345604 \r\nL 156.24406 137.293363 \r\nL 156.854007 136.505453 \r\nL 157.463954 137.190951 \r\nL 158.073901 137.140748 \r\nL 158.683848 137.452207 \r\nL 159.293796 137.400968 \r\nL 160.51369 138.008668 \r\nL 161.733584 136.503142 \r\nL 162.953479 137.106898 \r\nL 163.563426 137.746369 \r\nL 164.173373 138.03691 \r\nL 164.78332 138.66291 \r\nL 165.393267 138.270496 \r\nL 166.003214 138.217724 \r\nL 167.223109 138.775908 \r\nL 167.833056 138.392118 \r\nL 168.443003 138.666903 \r\nL 170.272845 138.508108 \r\nL 170.882792 138.136885 \r\nL 171.492739 138.405274 \r\nL 172.102686 138.038848 \r\nL 172.712633 138.618862 \r\nL 173.32258 138.567689 \r\nL 173.932528 138.827677 \r\nL 174.542475 139.393641 \r\nL 175.152422 138.724719 \r\nL 176.372316 138.624015 \r\nL 177.592211 136.722388 \r\nL 178.202158 137.281408 \r\nL 178.812105 136.645243 \r\nL 179.422052 137.198739 \r\nL 180.031999 137.452207 \r\nL 180.641946 137.99562 \r\nL 181.861841 138.486353 \r\nL 182.471788 139.015956 \r\nL 183.081735 138.68039 \r\nL 183.691682 139.203564 \r\nL 184.301629 138.586809 \r\nL 184.911577 138.540732 \r\nL 186.131471 139.567471 \r\nL 186.741418 138.96123 \r\nL 187.351365 139.467396 \r\nL 187.961312 139.142881 \r\nL 189.181207 139.048439 \r\nL 189.791154 138.459512 \r\nL 190.401101 138.416069 \r\nL 191.011048 138.641619 \r\nL 191.620995 138.59772 \r\nL 192.230943 138.288232 \r\nL 192.84089 138.24643 \r\nL 193.450837 138.468509 \r\nL 194.060784 138.42625 \r\nL 194.670731 138.90642 \r\nL 195.280678 138.602715 \r\nL 195.890626 139.077592 \r\nL 197.720467 138.945928 \r\nL 198.330414 139.156699 \r\nL 198.940361 138.607437 \r\nL 199.550309 138.314709 \r\nL 200.160256 138.52548 \r\nL 202.600044 138.365915 \r\nL 203.819939 138.775908 \r\nL 204.429886 138.735448 \r\nL 205.039833 138.937056 \r\nL 205.64978 138.896247 \r\nL 206.259727 138.616153 \r\nL 206.869675 138.815682 \r\nL 207.479622 138.063146 \r\nL 208.089569 138.26333 \r\nL 208.699516 138.697389 \r\nL 209.309463 138.893198 \r\nL 210.529358 138.814679 \r\nL 211.139305 139.007556 \r\nL 212.359199 138.92907 \r\nL 214.189041 138.132967 \r\nL 214.798988 138.097916 \r\nL 215.408935 137.838068 \r\nL 216.018882 138.028658 \r\nL 216.628829 137.771172 \r\nL 217.848724 137.705344 \r\nL 218.458671 137.893441 \r\nL 219.068618 137.640561 \r\nL 219.678565 137.827431 \r\nL 220.288512 138.230855 \r\nL 221.508407 137.730338 \r\nL 223.948195 137.604358 \r\nL 224.558142 137.785661 \r\nL 226.387984 137.691973 \r\nL 226.997931 138.079226 \r\nL 227.607878 137.838905 \r\nL 228.217825 137.80783 \r\nL 231.267561 138.674085 \r\nL 231.877508 138.43774 \r\nL 233.70735 138.943162 \r\nL 234.317297 138.909237 \r\nL 234.927244 139.074808 \r\nL 235.537191 139.040652 \r\nL 236.147139 139.40243 \r\nL 236.757086 139.564497 \r\nL 237.367033 139.528974 \r\nL 238.586927 139.848809 \r\nL 239.196874 139.618263 \r\nL 239.806822 139.776759 \r\nL 241.026716 139.705704 \r\nL 241.636663 140.053971 \r\nL 242.24661 140.017735 \r\nL 242.856557 139.791357 \r\nL 243.466505 140.135754 \r\nL 244.076452 139.721412 \r\nL 244.686399 140.063713 \r\nL 245.296346 140.028058 \r\nL 245.906293 140.367029 \r\nL 246.51624 140.330594 \r\nL 247.126188 140.666277 \r\nL 247.736135 140.443775 \r\nL 248.346082 140.592148 \r\nL 249.565976 141.252934 \r\nL 250.175923 141.031427 \r\nL 250.785871 141.175931 \r\nL 251.395818 140.774438 \r\nL 252.615712 140.701295 \r\nL 253.225659 141.024916 \r\nL 254.445554 141.30839 \r\nL 255.665448 141.943486 \r\nL 256.275395 142.080949 \r\nL 256.885342 142.041043 \r\nL 257.495289 142.177321 \r\nL 258.105237 141.961977 \r\nL 259.325131 142.23247 \r\nL 260.545025 142.153205 \r\nL 261.154972 142.459254 \r\nL 261.76492 142.591282 \r\nL 262.374867 142.894093 \r\nL 262.984814 143.023975 \r\nL 263.594761 142.811978 \r\nL 264.204708 142.771302 \r\nL 264.814655 142.391878 \r\nL 265.424603 142.352717 \r\nL 266.03455 142.145335 \r\nL 267.864391 142.031499 \r\nL 269.084286 142.288654 \r\nL 270.30418 142.872711 \r\nL 272.134021 143.24535 \r\nL 272.743969 143.205071 \r\nL 273.353916 142.839905 \r\nL 273.963863 142.801043 \r\nL 274.57381 142.924024 \r\nL 275.183757 142.885137 \r\nL 275.793704 143.167841 \r\nL 277.013599 143.408867 \r\nL 278.233493 143.329445 \r\nL 278.84344 143.448466 \r\nL 280.063335 143.369491 \r\nL 280.673282 143.487386 \r\nL 281.283229 142.978196 \r\nL 281.893176 143.096529 \r\nL 282.503123 142.902742 \r\nL 283.11307 143.175927 \r\nL 283.723018 142.982992 \r\nL 284.332965 142.945572 \r\nL 284.942912 142.754352 \r\nL 286.162806 142.987689 \r\nL 286.772753 142.797928 \r\nL 287.382701 143.066151 \r\nL 287.992648 143.181013 \r\nL 288.602595 143.143767 \r\nL 289.822489 143.371198 \r\nL 290.432436 143.183482 \r\nL 291.042384 143.446329 \r\nL 291.652331 143.408867 \r\nL 292.872225 143.631841 \r\nL 293.482172 143.59418 \r\nL 294.092119 143.113148 \r\nL 294.702067 143.224531 \r\nL 295.921961 143.738916 \r\nL 296.531908 143.701471 \r\nL 297.141855 143.518303 \r\nL 297.751802 143.481637 \r\nL 298.36175 143.73547 \r\nL 299.581644 143.950383 \r\nL 300.191591 143.912971 \r\nL 300.801538 143.732098 \r\nL 301.411485 143.982012 \r\nL 302.63138 144.192908 \r\nL 303.241327 144.013162 \r\nL 304.461221 144.222284 \r\nL 305.071168 144.043839 \r\nL 305.681116 144.007048 \r\nL 306.291063 144.251221 \r\nL 306.90101 144.214091 \r\nL 307.510957 144.316833 \r\nL 309.340799 144.206055 \r\nL 309.950746 144.307795 \r\nL 310.560693 144.271079 \r\nL 311.17064 143.959313 \r\nL 313.000482 143.852809 \r\nL 314.220376 143.510814 \r\nL 316.050217 143.408867 \r\nL 316.660165 143.105982 \r\nL 318.490006 143.408867 \r\nL 319.099953 143.24221 \r\nL 319.7099 142.810346 \r\nL 320.319848 142.778609 \r\nL 320.929795 143.011756 \r\nL 323.369583 142.884383 \r\nL 323.979531 142.722101 \r\nL 324.589478 142.952092 \r\nL 328.249161 143.537556 \r\nL 328.859108 143.761955 \r\nL 329.469055 143.857217 \r\nL 330.079002 144.079843 \r\nL 330.688949 143.918919 \r\nL 331.298897 144.140385 \r\nL 333.128738 144.419692 \r\nL 333.738685 144.385884 \r\nL 334.348632 144.603787 \r\nL 335.568527 144.786226 \r\nL 336.178474 144.751904 \r\nL 336.788421 144.468421 \r\nL 337.398368 144.434952 \r\nL 338.618263 144.616115 \r\nL 340.448104 144.515857 \r\nL 341.058051 144.728186 \r\nL 341.667998 144.694667 \r\nL 342.887893 144.140385 \r\nL 343.49784 144.351678 \r\nL 344.107787 144.319269 \r\nL 344.717734 144.165884 \r\nL 345.937629 144.102301 \r\nL 347.157523 144.279421 \r\nL 348.987365 144.184342 \r\nL 349.597312 144.271965 \r\nL 350.207259 144.240418 \r\nL 351.427153 144.414316 \r\nL 352.647048 144.351164 \r\nL 353.256995 144.55486 \r\nL 353.866942 144.523123 \r\nL 355.696783 145.128014 \r\nL 356.306731 144.979028 \r\nL 356.916678 145.178863 \r\nL 357.526625 145.146223 \r\nL 358.136572 145.344882 \r\nL 358.746519 145.312026 \r\nL 359.356466 145.164208 \r\nL 360.576361 145.328918 \r\nL 361.186308 145.296369 \r\nL 362.406202 145.57344 \r\nL 363.626097 145.507877 \r\nL 364.236044 145.248833 \r\nL 364.845991 145.216847 \r\nL 365.455938 145.072219 \r\nL 366.065885 145.153256 \r\nL 366.675832 145.121652 \r\nL 367.895727 144.946967 \r\nL 368.505674 144.915967 \r\nL 369.115621 144.662267 \r\nL 369.725568 144.743155 \r\nL 369.725568 144.743155 \r\n\" style=\"fill:none;stroke:#d62728;stroke-linecap:square;stroke-width:1.5;\"/>\r\n   </g>\r\n   <g id=\"line2d_20\">\r\n    <path clip-path=\"url(#p037ab2857f)\" d=\"M 65.361932 185.105455 \r\nL 65.971879 129.51 \r\nL 66.581826 129.51 \r\nL 67.191773 143.408867 \r\nL 67.80172 151.748185 \r\nL 68.411668 120.244092 \r\nL 69.021615 129.51 \r\nL 69.631562 129.51 \r\nL 70.241509 141.864545 \r\nL 70.851456 151.748185 \r\nL 72.071351 157.307725 \r\nL 73.291245 161.278829 \r\nL 73.901192 162.867274 \r\nL 74.511139 160.782446 \r\nL 75.121086 162.213206 \r\nL 76.340981 158.770769 \r\nL 76.950928 157.307725 \r\nL 78.170822 159.834797 \r\nL 78.780769 160.93352 \r\nL 80.000664 158.419637 \r\nL 80.610611 157.307725 \r\nL 81.830505 163.264385 \r\nL 82.440452 162.100439 \r\nL 83.0504 164.720454 \r\nL 83.660347 165.378034 \r\nL 84.270294 164.257159 \r\nL 84.880241 164.888924 \r\nL 85.490188 167.118687 \r\nL 86.710083 168.117956 \r\nL 87.929977 171.93811 \r\nL 88.539924 172.275735 \r\nL 89.149871 171.206592 \r\nL 89.759819 167.477632 \r\nL 90.369766 167.897335 \r\nL 90.979713 165.711695 \r\nL 91.58966 166.152456 \r\nL 92.199607 167.80909 \r\nL 92.809554 166.976502 \r\nL 93.419502 168.545106 \r\nL 94.639396 166.95184 \r\nL 95.249343 168.426822 \r\nL 95.85929 166.573634 \r\nL 97.079185 165.175009 \r\nL 97.689132 165.544094 \r\nL 98.299079 164.888924 \r\nL 99.518973 165.598282 \r\nL 100.12892 166.893153 \r\nL 100.738868 165.317243 \r\nL 101.348815 165.647044 \r\nL 101.958762 166.877438 \r\nL 102.568709 165.378034 \r\nL 103.178656 166.573634 \r\nL 103.788603 165.994515 \r\nL 104.398551 166.288535 \r\nL 105.008498 165.731279 \r\nL 105.618445 166.020445 \r\nL 106.228392 165.483527 \r\nL 106.838339 163.350716 \r\nL 107.448286 162.073051 \r\nL 108.058234 163.180489 \r\nL 109.278128 159.21168 \r\nL 109.888075 158.810311 \r\nL 111.107969 159.502287 \r\nL 111.717917 158.390757 \r\nL 112.937811 159.067076 \r\nL 113.547758 158.697619 \r\nL 115.3776 161.661591 \r\nL 115.987547 161.278829 \r\nL 116.597494 161.559147 \r\nL 117.207441 162.479399 \r\nL 117.817388 162.739471 \r\nL 118.427335 162.361861 \r\nL 119.037283 162.617409 \r\nL 119.64723 163.484997 \r\nL 120.867124 162.746413 \r\nL 121.477071 162.986834 \r\nL 122.087018 163.81358 \r\nL 122.696966 162.867274 \r\nL 123.306913 163.67804 \r\nL 123.91686 162.752643 \r\nL 125.136754 162.081079 \r\nL 125.746701 162.311318 \r\nL 126.356649 161.986554 \r\nL 126.966596 162.213206 \r\nL 128.18649 160.515159 \r\nL 128.796437 160.74935 \r\nL 129.406384 159.405667 \r\nL 130.016332 159.645856 \r\nL 131.236226 157.052707 \r\nL 131.846173 156.802312 \r\nL 132.45612 157.057297 \r\nL 133.066067 156.314951 \r\nL 134.285962 156.820049 \r\nL 134.895909 157.549446 \r\nL 135.505856 156.828458 \r\nL 136.115803 156.594963 \r\nL 136.72575 156.836577 \r\nL 137.335698 157.54132 \r\nL 138.555592 157.996927 \r\nL 140.385433 157.307725 \r\nL 140.995381 157.530111 \r\nL 141.605328 158.190193 \r\nL 142.215275 157.526606 \r\nL 143.435169 157.954188 \r\nL 144.045116 157.307725 \r\nL 145.265011 156.886548 \r\nL 145.874958 156.262702 \r\nL 147.094852 156.690001 \r\nL 147.704799 156.081357 \r\nL 148.314747 155.887403 \r\nL 148.924694 154.487668 \r\nL 150.144588 154.925066 \r\nL 150.754535 155.533404 \r\nL 151.364482 154.958626 \r\nL 151.97443 155.169439 \r\nL 152.584377 154.99125 \r\nL 153.194324 154.432105 \r\nL 153.804271 154.261406 \r\nL 154.414218 154.471224 \r\nL 155.024165 155.053855 \r\nL 155.634113 154.882427 \r\nL 156.24406 154.342634 \r\nL 156.854007 154.914545 \r\nL 157.463954 154.381653 \r\nL 158.073901 154.945827 \r\nL 159.293796 154.617625 \r\nL 160.51369 153.58956 \r\nL 161.123637 153.437161 \r\nL 161.733584 153.636333 \r\nL 162.343531 154.180484 \r\nL 163.563426 152.503181 \r\nL 165.393267 154.106778 \r\nL 166.613162 154.478017 \r\nL 167.223109 154.329404 \r\nL 167.833056 154.840475 \r\nL 168.443003 155.018506 \r\nL 169.05295 155.519569 \r\nL 169.662897 155.691578 \r\nL 170.272845 155.540247 \r\nL 172.102686 156.044193 \r\nL 172.712633 155.894288 \r\nL 173.32258 156.058393 \r\nL 174.542475 156.998867 \r\nL 175.152422 156.232679 \r\nL 176.372316 156.548231 \r\nL 176.982263 156.401283 \r\nL 177.592211 156.856956 \r\nL 178.812105 157.159079 \r\nL 179.422052 156.716288 \r\nL 180.031999 156.866491 \r\nL 180.641946 156.429905 \r\nL 181.861841 156.149488 \r\nL 182.471788 156.299518 \r\nL 183.081735 155.874853 \r\nL 183.691682 156.024758 \r\nL 184.301629 155.889475 \r\nL 185.521524 155.061444 \r\nL 186.131471 154.933044 \r\nL 186.741418 155.361885 \r\nL 187.351365 155.23327 \r\nL 187.961312 154.555476 \r\nL 188.57126 154.158232 \r\nL 189.791154 154.460156 \r\nL 190.401101 154.339038 \r\nL 191.620995 154.634873 \r\nL 192.230943 155.046673 \r\nL 192.84089 154.925066 \r\nL 193.450837 154.541127 \r\nL 194.060784 154.6853 \r\nL 195.280678 153.41085 \r\nL 195.890626 153.81685 \r\nL 196.500573 153.704323 \r\nL 197.11052 153.849026 \r\nL 197.720467 154.24743 \r\nL 198.330414 154.134473 \r\nL 199.550309 154.414749 \r\nL 200.160256 154.302571 \r\nL 200.770203 153.942085 \r\nL 201.38015 154.081204 \r\nL 203.209992 153.756473 \r\nL 203.819939 153.893969 \r\nL 204.429886 153.78749 \r\nL 205.64978 153.095952 \r\nL 206.259727 153.23392 \r\nL 207.479622 153.981502 \r\nL 208.089569 154.113944 \r\nL 208.699516 153.774119 \r\nL 209.309463 153.202581 \r\nL 209.91941 153.336622 \r\nL 210.529358 153.702169 \r\nL 211.139305 153.601365 \r\nL 211.749252 153.962771 \r\nL 212.969146 153.761519 \r\nL 213.579093 153.434278 \r\nL 214.189041 153.563547 \r\nL 214.798988 152.787774 \r\nL 215.408935 152.918617 \r\nL 216.018882 153.272575 \r\nL 217.238776 153.082474 \r\nL 218.458671 153.336622 \r\nL 219.068618 153.242445 \r\nL 219.678565 153.586776 \r\nL 220.288512 153.274331 \r\nL 220.898459 153.181505 \r\nL 221.508407 152.87307 \r\nL 222.118354 152.782513 \r\nL 223.338248 153.458816 \r\nL 223.948195 153.367058 \r\nL 225.16809 152.762855 \r\nL 225.778037 152.043009 \r\nL 226.387984 151.748185 \r\nL 226.997931 151.873586 \r\nL 227.607878 152.206269 \r\nL 228.217825 151.914138 \r\nL 228.827773 152.244203 \r\nL 230.047667 151.66612 \r\nL 230.657614 151.584668 \r\nL 231.877508 151.829347 \r\nL 232.487456 151.748185 \r\nL 234.317297 150.90825 \r\nL 234.927244 150.831553 \r\nL 235.537191 150.953963 \r\nL 236.147139 151.27335 \r\nL 236.757086 150.999021 \r\nL 239.196874 150.698481 \r\nL 239.806822 151.012078 \r\nL 240.416769 150.744377 \r\nL 241.026716 150.863274 \r\nL 241.636663 150.597934 \r\nL 242.24661 150.525462 \r\nL 242.856557 150.834287 \r\nL 244.076452 151.067425 \r\nL 244.686399 150.994349 \r\nL 245.906293 151.22405 \r\nL 246.51624 150.778061 \r\nL 247.126188 150.520989 \r\nL 248.956029 150.86455 \r\nL 249.565976 150.610584 \r\nL 250.785871 150.472218 \r\nL 251.395818 150.767084 \r\nL 252.005765 150.697843 \r\nL 252.615712 150.990066 \r\nL 253.225659 150.560704 \r\nL 254.445554 150.782857 \r\nL 255.055501 150.714677 \r\nL 255.665448 150.291686 \r\nL 256.885342 150.512729 \r\nL 257.495289 150.270328 \r\nL 258.105237 150.20484 \r\nL 258.715184 149.964933 \r\nL 259.935078 150.18456 \r\nL 261.154972 149.365518 \r\nL 261.76492 149.304048 \r\nL 262.374867 148.899771 \r\nL 263.594761 149.121891 \r\nL 264.204708 148.891901 \r\nL 265.424603 148.77408 \r\nL 266.03455 148.884171 \r\nL 267.254444 149.437285 \r\nL 267.864391 149.377447 \r\nL 268.474338 149.484415 \r\nL 269.084286 149.258832 \r\nL 269.694233 149.200054 \r\nL 270.30418 148.976658 \r\nL 270.914127 148.919065 \r\nL 271.524074 148.697814 \r\nL 272.743969 149.237417 \r\nL 273.353916 149.342297 \r\nL 274.57381 149.873449 \r\nL 275.183757 149.814431 \r\nL 275.793704 149.595061 \r\nL 276.403652 149.857618 \r\nL 277.013599 149.799147 \r\nL 277.623546 149.900315 \r\nL 278.233493 150.15974 \r\nL 279.453387 150.3583 \r\nL 280.063335 150.614221 \r\nL 280.673282 150.554607 \r\nL 281.893176 151.061046 \r\nL 284.332965 150.821595 \r\nL 286.162806 151.104929 \r\nL 286.772753 151.045604 \r\nL 287.382701 151.13892 \r\nL 288.602595 151.626993 \r\nL 289.822489 151.808446 \r\nL 290.432436 152.048701 \r\nL 291.042384 151.987951 \r\nL 291.652331 152.226425 \r\nL 292.262278 152.165518 \r\nL 292.872225 152.402244 \r\nL 294.092119 152.280481 \r\nL 294.702067 152.367549 \r\nL 295.312014 151.865848 \r\nL 295.921961 151.660172 \r\nL 297.141855 151.835734 \r\nL 297.751802 152.068368 \r\nL 298.36175 151.864307 \r\nL 298.971697 151.950879 \r\nL 299.581644 151.89259 \r\nL 300.191591 152.122663 \r\nL 300.801538 151.776915 \r\nL 301.411485 151.71953 \r\nL 302.021433 151.805347 \r\nL 302.63138 151.748185 \r\nL 303.241327 151.833498 \r\nL 303.851274 151.492894 \r\nL 304.461221 151.57843 \r\nL 305.071168 151.381312 \r\nL 305.681116 151.607434 \r\nL 306.291063 151.55163 \r\nL 306.90101 151.636156 \r\nL 307.510957 151.580559 \r\nL 308.120904 151.38591 \r\nL 308.730851 151.470203 \r\nL 309.340799 151.276796 \r\nL 309.950746 151.222658 \r\nL 310.560693 150.892866 \r\nL 311.17064 150.977557 \r\nL 312.390534 150.871798 \r\nL 313.000482 150.955918 \r\nL 313.610429 151.175876 \r\nL 314.220376 151.122906 \r\nL 316.660165 151.452036 \r\nL 317.880059 150.810428 \r\nL 318.490006 150.625579 \r\nL 319.7099 150.790562 \r\nL 320.319848 150.60708 \r\nL 320.929795 150.689219 \r\nL 321.539742 150.638917 \r\nL 322.149689 150.720592 \r\nL 322.759636 150.670447 \r\nL 323.369583 150.751658 \r\nL 323.979531 150.570869 \r\nL 324.589478 150.129908 \r\nL 325.199425 150.211824 \r\nL 325.809372 150.033553 \r\nL 326.419319 149.985719 \r\nL 327.639214 150.148689 \r\nL 328.859108 150.053353 \r\nL 329.469055 149.877923 \r\nL 330.079002 150.086714 \r\nL 331.298897 150.246975 \r\nL 333.128738 150.105594 \r\nL 333.738685 150.184958 \r\nL 334.348632 150.138176 \r\nL 334.95858 149.966118 \r\nL 335.568527 149.669612 \r\nL 336.788421 149.828523 \r\nL 338.008315 149.737809 \r\nL 339.838157 149.973077 \r\nL 341.058051 150.373634 \r\nL 341.667998 150.327681 \r\nL 342.277946 150.526307 \r\nL 343.49784 150.434334 \r\nL 344.717734 150.585399 \r\nL 345.327681 150.539587 \r\nL 345.937629 150.614569 \r\nL 346.547576 150.809558 \r\nL 347.76747 150.717751 \r\nL 348.377417 150.552585 \r\nL 348.987365 150.62673 \r\nL 349.597312 150.343413 \r\nL 350.817206 150.254572 \r\nL 351.427153 150.328725 \r\nL 352.0371 150.28452 \r\nL 352.647048 150.3583 \r\nL 353.256995 150.314219 \r\nL 354.476889 150.694795 \r\nL 355.696783 150.60597 \r\nL 356.306731 150.678143 \r\nL 356.916678 150.633954 \r\nL 357.526625 150.474124 \r\nL 358.136572 150.546123 \r\nL 359.356466 150.919434 \r\nL 359.966414 150.645461 \r\nL 360.576361 150.716516 \r\nL 361.186308 150.901672 \r\nL 363.016149 150.770431 \r\nL 363.626097 150.8405 \r\nL 364.236044 150.797057 \r\nL 364.845991 150.866795 \r\nL 366.065885 151.230495 \r\nL 369.115621 151.012856 \r\nL 369.725568 151.081037 \r\nL 369.725568 151.081037 \r\n\" style=\"fill:none;stroke:#9467bd;stroke-linecap:square;stroke-width:1.5;\"/>\r\n   </g>\r\n   <g id=\"line2d_21\">\r\n    <path clip-path=\"url(#p037ab2857f)\" d=\"M 65.361932 240.700909 \r\nL 65.971879 185.105455 \r\nL 66.581826 203.637271 \r\nL 67.191773 171.206592 \r\nL 67.80172 173.986366 \r\nL 68.411668 175.839546 \r\nL 69.021615 169.221036 \r\nL 69.631562 178.156025 \r\nL 70.241509 166.573634 \r\nL 70.851456 162.867274 \r\nL 71.461403 154.780662 \r\nL 72.071351 157.307725 \r\nL 72.681298 163.722585 \r\nL 73.291245 149.365518 \r\nL 73.901192 148.041817 \r\nL 75.121086 152.402244 \r\nL 75.731034 157.307725 \r\nL 76.340981 152.918617 \r\nL 76.950928 151.748185 \r\nL 78.170822 154.780662 \r\nL 78.780769 158.516323 \r\nL 80.000664 160.643459 \r\nL 81.220558 158.337273 \r\nL 81.830505 159.293281 \r\nL 82.440452 156.349182 \r\nL 83.0504 151.748185 \r\nL 83.660347 152.824225 \r\nL 85.490188 150.767084 \r\nL 86.100135 146.982859 \r\nL 87.929977 145.603421 \r\nL 88.539924 143.765244 \r\nL 89.759819 145.781841 \r\nL 90.369766 145.394414 \r\nL 90.979713 143.732098 \r\nL 91.58966 143.408867 \r\nL 92.199607 141.864545 \r\nL 92.809554 142.804564 \r\nL 93.419502 144.887469 \r\nL 95.249343 143.964822 \r\nL 95.85929 144.771496 \r\nL 96.469237 146.616292 \r\nL 97.079185 147.342508 \r\nL 97.689132 142.894093 \r\nL 98.299079 143.661573 \r\nL 98.909026 143.408867 \r\nL 99.518973 142.189665 \r\nL 100.12892 141.971048 \r\nL 101.348815 145.262047 \r\nL 101.958762 145.915219 \r\nL 103.788603 145.146223 \r\nL 104.398551 146.616292 \r\nL 105.008498 147.199462 \r\nL 105.618445 146.935439 \r\nL 106.228392 145.861603 \r\nL 106.838339 146.430358 \r\nL 108.058234 145.953725 \r\nL 108.668181 144.953181 \r\nL 109.278128 146.264795 \r\nL 109.888075 146.038383 \r\nL 110.498022 146.559271 \r\nL 111.107969 145.603421 \r\nL 112.327864 146.616292 \r\nL 112.937811 146.399756 \r\nL 113.547758 146.883579 \r\nL 114.157705 148.041817 \r\nL 114.767652 148.493812 \r\nL 115.3776 148.265097 \r\nL 116.597494 149.131924 \r\nL 117.817388 148.680848 \r\nL 120.257177 150.281927 \r\nL 120.867124 149.451849 \r\nL 121.477071 149.237417 \r\nL 122.087018 148.436111 \r\nL 122.696966 148.236889 \r\nL 123.91686 150.143362 \r\nL 124.526807 149.365518 \r\nL 125.136754 148.041817 \r\nL 127.576543 147.322137 \r\nL 128.18649 146.616292 \r\nL 128.796437 146.982859 \r\nL 129.406384 147.866992 \r\nL 130.626279 148.556591 \r\nL 131.846173 148.210288 \r\nL 133.066067 148.869135 \r\nL 133.676015 148.697814 \r\nL 134.895909 149.330989 \r\nL 135.505856 149.160115 \r\nL 136.115803 149.942516 \r\nL 137.335698 149.599112 \r\nL 137.945645 149.895005 \r\nL 139.165539 149.560822 \r\nL 139.775486 150.301801 \r\nL 140.995381 150.858659 \r\nL 141.605328 149.365518 \r\nL 142.215275 149.209175 \r\nL 142.825222 149.923959 \r\nL 143.435169 149.765711 \r\nL 144.045116 150.037554 \r\nL 144.655064 149.880855 \r\nL 145.265011 150.568889 \r\nL 146.484905 151.084359 \r\nL 147.094852 150.924545 \r\nL 147.704799 151.175876 \r\nL 149.534641 150.708265 \r\nL 150.144588 150.953963 \r\nL 150.754535 150.801878 \r\nL 151.97443 149.726534 \r\nL 153.194324 149.447682 \r\nL 154.414218 149.932823 \r\nL 156.854007 149.391821 \r\nL 157.463954 149.992537 \r\nL 158.073901 149.495293 \r\nL 158.683848 149.365518 \r\nL 159.293796 149.596105 \r\nL 159.903743 150.180103 \r\nL 160.51369 150.048448 \r\nL 161.733584 150.489417 \r\nL 162.343531 150.3583 \r\nL 163.563426 151.473641 \r\nL 164.173373 150.656736 \r\nL 164.78332 149.510809 \r\nL 165.393267 149.389584 \r\nL 166.003214 148.934921 \r\nL 166.613162 148.818601 \r\nL 167.223109 148.372744 \r\nL 167.833056 148.590101 \r\nL 169.05295 148.366937 \r\nL 169.662897 148.580533 \r\nL 170.882792 147.722305 \r\nL 172.102686 147.515345 \r\nL 173.32258 147.937707 \r\nL 174.542475 147.732959 \r\nL 176.372316 148.345621 \r\nL 176.982263 148.847554 \r\nL 177.592211 149.043538 \r\nL 178.202158 148.938517 \r\nL 179.422052 149.323276 \r\nL 181.861841 148.910499 \r\nL 183.691682 149.467341 \r\nL 184.301629 149.932823 \r\nL 184.911577 149.546946 \r\nL 185.521524 149.445744 \r\nL 186.131471 149.066195 \r\nL 186.741418 149.246389 \r\nL 187.351365 148.871604 \r\nL 187.961312 149.3262 \r\nL 188.57126 149.228586 \r\nL 189.181207 149.676977 \r\nL 189.791154 149.849806 \r\nL 190.401101 150.290824 \r\nL 191.011048 149.921863 \r\nL 192.230943 149.726534 \r\nL 192.84089 149.895005 \r\nL 193.450837 149.798393 \r\nL 194.060784 149.964933 \r\nL 194.670731 150.390924 \r\nL 195.890626 150.713849 \r\nL 197.11052 150.006024 \r\nL 198.330414 150.326563 \r\nL 199.550309 150.138176 \r\nL 200.160256 150.546123 \r\nL 201.38015 150.854683 \r\nL 201.990097 150.512729 \r\nL 203.209992 150.327681 \r\nL 203.819939 149.992537 \r\nL 206.259727 150.597934 \r\nL 207.479622 150.417691 \r\nL 208.089569 149.382418 \r\nL 208.699516 149.298216 \r\nL 209.309463 149.449298 \r\nL 209.91941 149.365518 \r\nL 210.529358 149.515059 \r\nL 211.139305 149.200054 \r\nL 211.749252 149.34904 \r\nL 212.359199 149.267067 \r\nL 213.579093 149.560822 \r\nL 214.189041 149.478981 \r\nL 214.798988 149.849806 \r\nL 216.018882 149.237417 \r\nL 216.628829 149.604746 \r\nL 218.458671 150.027373 \r\nL 219.678565 150.741336 \r\nL 220.898459 150.141125 \r\nL 221.508407 150.277171 \r\nL 222.118354 150.19668 \r\nL 222.728301 150.331467 \r\nL 223.338248 149.823726 \r\nL 223.948195 150.17191 \r\nL 224.558142 149.66866 \r\nL 225.778037 149.937123 \r\nL 226.997931 149.365518 \r\nL 227.607878 149.499377 \r\nL 228.217825 149.217344 \r\nL 228.827773 148.730737 \r\nL 230.047667 148.178583 \r\nL 230.657614 148.314348 \r\nL 231.267561 147.634524 \r\nL 231.877508 147.771282 \r\nL 232.487456 147.704875 \r\nL 233.097403 148.041817 \r\nL 233.70735 147.774215 \r\nL 234.317297 147.908496 \r\nL 234.927244 147.444017 \r\nL 235.537191 147.37997 \r\nL 237.367033 147.779882 \r\nL 237.97698 147.519794 \r\nL 239.196874 147.782632 \r\nL 240.416769 147.65574 \r\nL 241.636663 147.914014 \r\nL 242.24661 147.468671 \r\nL 243.466505 147.346087 \r\nL 244.076452 147.47452 \r\nL 244.686399 147.413621 \r\nL 245.296346 147.728784 \r\nL 245.906293 147.293059 \r\nL 246.51624 147.606506 \r\nL 247.126188 147.731923 \r\nL 247.736135 148.041817 \r\nL 248.346082 147.795547 \r\nL 248.956029 147.735005 \r\nL 249.565976 147.49137 \r\nL 250.175923 147.43222 \r\nL 251.395818 148.041817 \r\nL 252.615712 148.282494 \r\nL 253.225659 148.581585 \r\nL 253.835606 148.161377 \r\nL 254.445554 147.922646 \r\nL 255.055501 147.863628 \r\nL 255.665448 147.44975 \r\nL 256.275395 147.392612 \r\nL 256.885342 147.512338 \r\nL 257.495289 147.279431 \r\nL 258.105237 146.872619 \r\nL 258.715184 146.99285 \r\nL 259.325131 147.286606 \r\nL 262.374867 147.870231 \r\nL 262.984814 147.471612 \r\nL 264.204708 147.361753 \r\nL 266.644497 147.817874 \r\nL 267.254444 147.762725 \r\nL 267.864391 148.041817 \r\nL 268.474338 147.986336 \r\nL 269.084286 148.09714 \r\nL 270.30418 147.656884 \r\nL 271.524074 147.549825 \r\nL 272.134021 147.66028 \r\nL 272.743969 147.444017 \r\nL 273.353916 147.554141 \r\nL 273.963863 147.825702 \r\nL 274.57381 147.610847 \r\nL 275.183757 147.558382 \r\nL 275.793704 147.345541 \r\nL 276.403652 147.294136 \r\nL 277.013599 147.083274 \r\nL 277.623546 147.351522 \r\nL 278.233493 147.300548 \r\nL 278.84344 147.091467 \r\nL 279.453387 147.199462 \r\nL 280.063335 146.991856 \r\nL 280.673282 146.942473 \r\nL 281.283229 146.736764 \r\nL 281.893176 146.688375 \r\nL 282.503123 146.484521 \r\nL 283.11307 146.126521 \r\nL 284.332965 146.343066 \r\nL 284.942912 146.296441 \r\nL 285.552859 146.403649 \r\nL 286.162806 146.663422 \r\nL 286.772753 146.616292 \r\nL 287.382701 146.874061 \r\nL 287.992648 146.674722 \r\nL 288.602595 146.627949 \r\nL 289.212542 146.430358 \r\nL 289.822489 145.932509 \r\nL 291.042384 145.843974 \r\nL 292.872225 146.158904 \r\nL 293.482172 145.669745 \r\nL 294.092119 145.774625 \r\nL 294.702067 145.584019 \r\nL 296.531908 145.896033 \r\nL 297.141855 145.85302 \r\nL 297.751802 145.95578 \r\nL 298.36175 145.912842 \r\nL 298.971697 145.725342 \r\nL 299.581644 145.972034 \r\nL 300.801538 146.174272 \r\nL 301.411485 145.844744 \r\nL 302.021433 145.802759 \r\nL 303.851274 146.10354 \r\nL 304.461221 145.778395 \r\nL 305.071168 146.019313 \r\nL 306.291063 145.93593 \r\nL 306.90101 145.754519 \r\nL 308.120904 145.673092 \r\nL 309.340799 145.315191 \r\nL 309.950746 144.999283 \r\nL 310.560693 145.098803 \r\nL 311.17064 145.060215 \r\nL 311.780587 144.884545 \r\nL 312.390534 144.983609 \r\nL 313.000482 145.218794 \r\nL 313.610429 145.31655 \r\nL 314.220376 145.549763 \r\nL 314.830323 145.510644 \r\nL 316.050217 145.70285 \r\nL 316.660165 145.663648 \r\nL 317.270112 145.758918 \r\nL 318.490006 146.21537 \r\nL 320.319848 146.493816 \r\nL 320.929795 146.45338 \r\nL 321.539742 146.545188 \r\nL 322.149689 146.768302 \r\nL 323.369583 146.6869 \r\nL 324.589478 147.128283 \r\nL 325.199425 146.956821 \r\nL 325.809372 146.916054 \r\nL 327.639214 147.568846 \r\nL 328.249161 147.527043 \r\nL 328.859108 147.61383 \r\nL 329.469055 147.82832 \r\nL 330.079002 147.530597 \r\nL 330.688949 147.361753 \r\nL 332.518791 147.619679 \r\nL 333.128738 147.578522 \r\nL 333.738685 147.411484 \r\nL 334.95858 147.33067 \r\nL 335.568527 147.415742 \r\nL 336.178474 147.250577 \r\nL 336.788421 146.961485 \r\nL 338.008315 147.131779 \r\nL 339.22821 146.806369 \r\nL 339.838157 147.014555 \r\nL 341.058051 146.446363 \r\nL 343.49784 146.784738 \r\nL 344.107787 146.989793 \r\nL 345.327681 146.672079 \r\nL 345.937629 146.755445 \r\nL 346.547576 146.477446 \r\nL 347.157523 146.440796 \r\nL 347.76747 146.524129 \r\nL 348.377417 146.487537 \r\nL 348.987365 146.570405 \r\nL 349.597312 146.295779 \r\nL 350.207259 146.497503 \r\nL 350.817206 146.461284 \r\nL 351.427153 146.070353 \r\nL 352.647048 146.23575 \r\nL 353.256995 145.965315 \r\nL 353.866942 146.047894 \r\nL 355.086836 145.74481 \r\nL 355.696783 145.477672 \r\nL 357.526625 145.377871 \r\nL 358.136572 145.229299 \r\nL 358.746519 145.312026 \r\nL 359.356466 145.279311 \r\nL 360.576361 145.443541 \r\nL 361.186308 145.410759 \r\nL 361.796255 145.263952 \r\nL 362.406202 145.345595 \r\nL 363.016149 145.199516 \r\nL 363.626097 145.28096 \r\nL 364.845991 145.555844 \r\nL 366.065885 145.490878 \r\nL 367.28578 145.650617 \r\nL 367.895727 145.618142 \r\nL 369.115621 145.887823 \r\nL 369.725568 145.855067 \r\nL 369.725568 145.855067 \r\n\" style=\"fill:none;stroke:#8c564b;stroke-linecap:square;stroke-width:1.5;\"/>\r\n   </g>\r\n   <g id=\"line2d_22\">\r\n    <path clip-path=\"url(#p037ab2857f)\" d=\"M 50.14375 147.856501 \r\nL 384.94375 147.856501 \r\n\" style=\"fill:none;stroke:#000000;stroke-dasharray:5.55,2.4;stroke-dashoffset:0;stroke-width:1.5;\"/>\r\n   </g>\r\n   <g id=\"patch_3\">\r\n    <path d=\"M 50.14375 251.82 \r\nL 50.14375 7.2 \r\n\" style=\"fill:none;stroke:#000000;stroke-linecap:square;stroke-linejoin:miter;stroke-width:0.8;\"/>\r\n   </g>\r\n   <g id=\"patch_4\">\r\n    <path d=\"M 384.94375 251.82 \r\nL 384.94375 7.2 \r\n\" style=\"fill:none;stroke:#000000;stroke-linecap:square;stroke-linejoin:miter;stroke-width:0.8;\"/>\r\n   </g>\r\n   <g id=\"patch_5\">\r\n    <path d=\"M 50.14375 251.82 \r\nL 384.94375 251.82 \r\n\" style=\"fill:none;stroke:#000000;stroke-linecap:square;stroke-linejoin:miter;stroke-width:0.8;\"/>\r\n   </g>\r\n   <g id=\"patch_6\">\r\n    <path d=\"M 50.14375 7.2 \r\nL 384.94375 7.2 \r\n\" style=\"fill:none;stroke:#000000;stroke-linecap:square;stroke-linejoin:miter;stroke-width:0.8;\"/>\r\n   </g>\r\n   <g id=\"legend_1\">\r\n    <g id=\"patch_7\">\r\n     <path d=\"M 302.089063 103.26875 \r\nL 377.94375 103.26875 \r\nQ 379.94375 103.26875 379.94375 101.26875 \r\nL 379.94375 14.2 \r\nQ 379.94375 12.2 377.94375 12.2 \r\nL 302.089063 12.2 \r\nQ 300.089063 12.2 300.089063 14.2 \r\nL 300.089063 101.26875 \r\nQ 300.089063 103.26875 302.089063 103.26875 \r\nz\r\n\" style=\"fill:#ffffff;opacity:0.8;stroke:#cccccc;stroke-linejoin:miter;\"/>\r\n    </g>\r\n    <g id=\"line2d_23\">\r\n     <path d=\"M 304.089063 20.298437 \r\nL 324.089063 20.298437 \r\n\" style=\"fill:none;stroke:#1f77b4;stroke-linecap:square;stroke-width:1.5;\"/>\r\n    </g>\r\n    <g id=\"line2d_24\"/>\r\n    <g id=\"text_18\">\r\n     <!-- P(die=1) -->\r\n     <g transform=\"translate(332.089063 23.798437)scale(0.1 -0.1)\">\r\n      <defs>\r\n       <path d=\"M 19.671875 64.796875 \r\nL 19.671875 37.40625 \r\nL 32.078125 37.40625 \r\nQ 38.96875 37.40625 42.71875 40.96875 \r\nQ 46.484375 44.53125 46.484375 51.125 \r\nQ 46.484375 57.671875 42.71875 61.234375 \r\nQ 38.96875 64.796875 32.078125 64.796875 \r\nz\r\nM 9.8125 72.90625 \r\nL 32.078125 72.90625 \r\nQ 44.34375 72.90625 50.609375 67.359375 \r\nQ 56.890625 61.8125 56.890625 51.125 \r\nQ 56.890625 40.328125 50.609375 34.8125 \r\nQ 44.34375 29.296875 32.078125 29.296875 \r\nL 19.671875 29.296875 \r\nL 19.671875 0 \r\nL 9.8125 0 \r\nz\r\n\" id=\"DejaVuSans-80\"/>\r\n       <path d=\"M 31 75.875 \r\nQ 24.46875 64.65625 21.28125 53.65625 \r\nQ 18.109375 42.671875 18.109375 31.390625 \r\nQ 18.109375 20.125 21.3125 9.0625 \r\nQ 24.515625 -2 31 -13.1875 \r\nL 23.1875 -13.1875 \r\nQ 15.875 -1.703125 12.234375 9.375 \r\nQ 8.59375 20.453125 8.59375 31.390625 \r\nQ 8.59375 42.28125 12.203125 53.3125 \r\nQ 15.828125 64.359375 23.1875 75.875 \r\nz\r\n\" id=\"DejaVuSans-40\"/>\r\n       <path d=\"M 10.59375 45.40625 \r\nL 73.1875 45.40625 \r\nL 73.1875 37.203125 \r\nL 10.59375 37.203125 \r\nz\r\nM 10.59375 25.484375 \r\nL 73.1875 25.484375 \r\nL 73.1875 17.1875 \r\nL 10.59375 17.1875 \r\nz\r\n\" id=\"DejaVuSans-61\"/>\r\n       <path d=\"M 8.015625 75.875 \r\nL 15.828125 75.875 \r\nQ 23.140625 64.359375 26.78125 53.3125 \r\nQ 30.421875 42.28125 30.421875 31.390625 \r\nQ 30.421875 20.453125 26.78125 9.375 \r\nQ 23.140625 -1.703125 15.828125 -13.1875 \r\nL 8.015625 -13.1875 \r\nQ 14.5 -2 17.703125 9.0625 \r\nQ 20.90625 20.125 20.90625 31.390625 \r\nQ 20.90625 42.671875 17.703125 53.65625 \r\nQ 14.5 64.65625 8.015625 75.875 \r\nz\r\n\" id=\"DejaVuSans-41\"/>\r\n      </defs>\r\n      <use xlink:href=\"#DejaVuSans-80\"/>\r\n      <use x=\"60.302734\" xlink:href=\"#DejaVuSans-40\"/>\r\n      <use x=\"99.316406\" xlink:href=\"#DejaVuSans-100\"/>\r\n      <use x=\"162.792969\" xlink:href=\"#DejaVuSans-105\"/>\r\n      <use x=\"190.576172\" xlink:href=\"#DejaVuSans-101\"/>\r\n      <use x=\"252.099609\" xlink:href=\"#DejaVuSans-61\"/>\r\n      <use x=\"335.888672\" xlink:href=\"#DejaVuSans-49\"/>\r\n      <use x=\"399.511719\" xlink:href=\"#DejaVuSans-41\"/>\r\n     </g>\r\n    </g>\r\n    <g id=\"line2d_25\">\r\n     <path d=\"M 304.089063 34.976562 \r\nL 324.089063 34.976562 \r\n\" style=\"fill:none;stroke:#ff7f0e;stroke-linecap:square;stroke-width:1.5;\"/>\r\n    </g>\r\n    <g id=\"line2d_26\"/>\r\n    <g id=\"text_19\">\r\n     <!-- P(die=2) -->\r\n     <g transform=\"translate(332.089063 38.476562)scale(0.1 -0.1)\">\r\n      <use xlink:href=\"#DejaVuSans-80\"/>\r\n      <use x=\"60.302734\" xlink:href=\"#DejaVuSans-40\"/>\r\n      <use x=\"99.316406\" xlink:href=\"#DejaVuSans-100\"/>\r\n      <use x=\"162.792969\" xlink:href=\"#DejaVuSans-105\"/>\r\n      <use x=\"190.576172\" xlink:href=\"#DejaVuSans-101\"/>\r\n      <use x=\"252.099609\" xlink:href=\"#DejaVuSans-61\"/>\r\n      <use x=\"335.888672\" xlink:href=\"#DejaVuSans-50\"/>\r\n      <use x=\"399.511719\" xlink:href=\"#DejaVuSans-41\"/>\r\n     </g>\r\n    </g>\r\n    <g id=\"line2d_27\">\r\n     <path d=\"M 304.089063 49.654687 \r\nL 324.089063 49.654687 \r\n\" style=\"fill:none;stroke:#2ca02c;stroke-linecap:square;stroke-width:1.5;\"/>\r\n    </g>\r\n    <g id=\"line2d_28\"/>\r\n    <g id=\"text_20\">\r\n     <!-- P(die=3) -->\r\n     <g transform=\"translate(332.089063 53.154687)scale(0.1 -0.1)\">\r\n      <use xlink:href=\"#DejaVuSans-80\"/>\r\n      <use x=\"60.302734\" xlink:href=\"#DejaVuSans-40\"/>\r\n      <use x=\"99.316406\" xlink:href=\"#DejaVuSans-100\"/>\r\n      <use x=\"162.792969\" xlink:href=\"#DejaVuSans-105\"/>\r\n      <use x=\"190.576172\" xlink:href=\"#DejaVuSans-101\"/>\r\n      <use x=\"252.099609\" xlink:href=\"#DejaVuSans-61\"/>\r\n      <use x=\"335.888672\" xlink:href=\"#DejaVuSans-51\"/>\r\n      <use x=\"399.511719\" xlink:href=\"#DejaVuSans-41\"/>\r\n     </g>\r\n    </g>\r\n    <g id=\"line2d_29\">\r\n     <path d=\"M 304.089063 64.332812 \r\nL 324.089063 64.332812 \r\n\" style=\"fill:none;stroke:#d62728;stroke-linecap:square;stroke-width:1.5;\"/>\r\n    </g>\r\n    <g id=\"line2d_30\"/>\r\n    <g id=\"text_21\">\r\n     <!-- P(die=4) -->\r\n     <g transform=\"translate(332.089063 67.832812)scale(0.1 -0.1)\">\r\n      <use xlink:href=\"#DejaVuSans-80\"/>\r\n      <use x=\"60.302734\" xlink:href=\"#DejaVuSans-40\"/>\r\n      <use x=\"99.316406\" xlink:href=\"#DejaVuSans-100\"/>\r\n      <use x=\"162.792969\" xlink:href=\"#DejaVuSans-105\"/>\r\n      <use x=\"190.576172\" xlink:href=\"#DejaVuSans-101\"/>\r\n      <use x=\"252.099609\" xlink:href=\"#DejaVuSans-61\"/>\r\n      <use x=\"335.888672\" xlink:href=\"#DejaVuSans-52\"/>\r\n      <use x=\"399.511719\" xlink:href=\"#DejaVuSans-41\"/>\r\n     </g>\r\n    </g>\r\n    <g id=\"line2d_31\">\r\n     <path d=\"M 304.089063 79.010937 \r\nL 324.089063 79.010937 \r\n\" style=\"fill:none;stroke:#9467bd;stroke-linecap:square;stroke-width:1.5;\"/>\r\n    </g>\r\n    <g id=\"line2d_32\"/>\r\n    <g id=\"text_22\">\r\n     <!-- P(die=5) -->\r\n     <g transform=\"translate(332.089063 82.510937)scale(0.1 -0.1)\">\r\n      <use xlink:href=\"#DejaVuSans-80\"/>\r\n      <use x=\"60.302734\" xlink:href=\"#DejaVuSans-40\"/>\r\n      <use x=\"99.316406\" xlink:href=\"#DejaVuSans-100\"/>\r\n      <use x=\"162.792969\" xlink:href=\"#DejaVuSans-105\"/>\r\n      <use x=\"190.576172\" xlink:href=\"#DejaVuSans-101\"/>\r\n      <use x=\"252.099609\" xlink:href=\"#DejaVuSans-61\"/>\r\n      <use x=\"335.888672\" xlink:href=\"#DejaVuSans-53\"/>\r\n      <use x=\"399.511719\" xlink:href=\"#DejaVuSans-41\"/>\r\n     </g>\r\n    </g>\r\n    <g id=\"line2d_33\">\r\n     <path d=\"M 304.089063 93.689062 \r\nL 324.089063 93.689062 \r\n\" style=\"fill:none;stroke:#8c564b;stroke-linecap:square;stroke-width:1.5;\"/>\r\n    </g>\r\n    <g id=\"line2d_34\"/>\r\n    <g id=\"text_23\">\r\n     <!-- P(die=6) -->\r\n     <g transform=\"translate(332.089063 97.189062)scale(0.1 -0.1)\">\r\n      <defs>\r\n       <path d=\"M 33.015625 40.375 \r\nQ 26.375 40.375 22.484375 35.828125 \r\nQ 18.609375 31.296875 18.609375 23.390625 \r\nQ 18.609375 15.53125 22.484375 10.953125 \r\nQ 26.375 6.390625 33.015625 6.390625 \r\nQ 39.65625 6.390625 43.53125 10.953125 \r\nQ 47.40625 15.53125 47.40625 23.390625 \r\nQ 47.40625 31.296875 43.53125 35.828125 \r\nQ 39.65625 40.375 33.015625 40.375 \r\nz\r\nM 52.59375 71.296875 \r\nL 52.59375 62.3125 \r\nQ 48.875 64.0625 45.09375 64.984375 \r\nQ 41.3125 65.921875 37.59375 65.921875 \r\nQ 27.828125 65.921875 22.671875 59.328125 \r\nQ 17.53125 52.734375 16.796875 39.40625 \r\nQ 19.671875 43.65625 24.015625 45.921875 \r\nQ 28.375 48.1875 33.59375 48.1875 \r\nQ 44.578125 48.1875 50.953125 41.515625 \r\nQ 57.328125 34.859375 57.328125 23.390625 \r\nQ 57.328125 12.15625 50.6875 5.359375 \r\nQ 44.046875 -1.421875 33.015625 -1.421875 \r\nQ 20.359375 -1.421875 13.671875 8.265625 \r\nQ 6.984375 17.96875 6.984375 36.375 \r\nQ 6.984375 53.65625 15.1875 63.9375 \r\nQ 23.390625 74.21875 37.203125 74.21875 \r\nQ 40.921875 74.21875 44.703125 73.484375 \r\nQ 48.484375 72.75 52.59375 71.296875 \r\nz\r\n\" id=\"DejaVuSans-54\"/>\r\n      </defs>\r\n      <use xlink:href=\"#DejaVuSans-80\"/>\r\n      <use x=\"60.302734\" xlink:href=\"#DejaVuSans-40\"/>\r\n      <use x=\"99.316406\" xlink:href=\"#DejaVuSans-100\"/>\r\n      <use x=\"162.792969\" xlink:href=\"#DejaVuSans-105\"/>\r\n      <use x=\"190.576172\" xlink:href=\"#DejaVuSans-101\"/>\r\n      <use x=\"252.099609\" xlink:href=\"#DejaVuSans-61\"/>\r\n      <use x=\"335.888672\" xlink:href=\"#DejaVuSans-54\"/>\r\n      <use x=\"399.511719\" xlink:href=\"#DejaVuSans-41\"/>\r\n     </g>\r\n    </g>\r\n   </g>\r\n  </g>\r\n </g>\r\n <defs>\r\n  <clipPath id=\"p037ab2857f\">\r\n   <rect height=\"244.62\" width=\"334.8\" x=\"50.14375\" y=\"7.2\"/>\r\n  </clipPath>\r\n </defs>\r\n</svg>\r\n",
      "text/plain": [
       "<Figure size 432x324 with 1 Axes>"
      ]
     },
     "metadata": {
      "needs_background": "light"
     },
     "output_type": "display_data"
    }
   ],
   "source": [
    "counts = multinomial.Multinomial(10, fair_probs).sample((500,))\n",
    "cum_counts = counts.cumsum(dim=0)\n",
    "estimates = cum_counts / cum_counts.sum(dim=1, keepdims=True)\n",
    "\n",
    "d2l.set_figsize((6, 4.5))\n",
    "for i in range(6):\n",
    "    d2l.plt.plot(estimates[:, i].numpy(),\n",
    "                    label=(\"P(die=\" + str(i + 1) + \")\"))\n",
    "d2l.plt.axhline(y=0.167, color='black', linestyle='dashed')\n",
    "d2l.plt.gca().set_xlabel('Groups of experiments')\n",
    "d2l.plt.gca().set_ylabel('Estimated probability')\n",
    "d2l.plt.legend()"
   ]
  },
  {
   "attachments": {},
   "cell_type": "markdown",
   "metadata": {},
   "source": [
    "# 2.7 查阅文档"
   ]
  },
  {
   "attachments": {},
   "cell_type": "markdown",
   "metadata": {},
   "source": [
    "## 2.7.1 查找模块中的所有函数和类"
   ]
  },
  {
   "cell_type": "code",
   "execution_count": 11,
   "metadata": {},
   "outputs": [
    {
     "name": "stdout",
     "output_type": "stream",
     "text": [
      "['AbsTransform', 'AffineTransform', 'Bernoulli', 'Beta', 'Binomial', 'CatTransform', 'Categorical', 'Cauchy', 'Chi2', 'ComposeTransform', 'ContinuousBernoulli', 'CorrCholeskyTransform', 'Dirichlet', 'Distribution', 'ExpTransform', 'Exponential', 'ExponentialFamily', 'FisherSnedecor', 'Gamma', 'Geometric', 'Gumbel', 'HalfCauchy', 'HalfNormal', 'Independent', 'IndependentTransform', 'Kumaraswamy', 'LKJCholesky', 'Laplace', 'LogNormal', 'LogisticNormal', 'LowRankMultivariateNormal', 'LowerCholeskyTransform', 'MixtureSameFamily', 'Multinomial', 'MultivariateNormal', 'NegativeBinomial', 'Normal', 'OneHotCategorical', 'OneHotCategoricalStraightThrough', 'Pareto', 'Poisson', 'PowerTransform', 'RelaxedBernoulli', 'RelaxedOneHotCategorical', 'ReshapeTransform', 'SigmoidTransform', 'SoftmaxTransform', 'StackTransform', 'StickBreakingTransform', 'StudentT', 'TanhTransform', 'Transform', 'TransformedDistribution', 'Uniform', 'VonMises', 'Weibull', '__all__', '__builtins__', '__cached__', '__doc__', '__file__', '__loader__', '__name__', '__package__', '__path__', '__spec__', 'bernoulli', 'beta', 'biject_to', 'binomial', 'categorical', 'cauchy', 'chi2', 'constraint_registry', 'constraints', 'continuous_bernoulli', 'dirichlet', 'distribution', 'exp_family', 'exponential', 'fishersnedecor', 'gamma', 'geometric', 'gumbel', 'half_cauchy', 'half_normal', 'identity_transform', 'independent', 'kl', 'kl_divergence', 'kumaraswamy', 'laplace', 'lkj_cholesky', 'log_normal', 'logistic_normal', 'lowrank_multivariate_normal', 'mixture_same_family', 'multinomial', 'multivariate_normal', 'negative_binomial', 'normal', 'one_hot_categorical', 'pareto', 'poisson', 'register_kl', 'relaxed_bernoulli', 'relaxed_categorical', 'studentT', 'transform_to', 'transformed_distribution', 'transforms', 'uniform', 'utils', 'von_mises', 'weibull']\n"
     ]
    }
   ],
   "source": [
    "import torch\n",
    "\n",
    "print(dir(torch.distributions))"
   ]
  },
  {
   "attachments": {},
   "cell_type": "markdown",
   "metadata": {},
   "source": [
    "## 2.7.2 查找特定函数和类的用法"
   ]
  },
  {
   "cell_type": "code",
   "execution_count": 12,
   "metadata": {},
   "outputs": [
    {
     "name": "stdout",
     "output_type": "stream",
     "text": [
      "Help on built-in function ones:\n",
      "\n",
      "ones(...)\n",
      "    ones(*size, *, out=None, dtype=None, layout=torch.strided, device=None, requires_grad=False) -> Tensor\n",
      "    \n",
      "    Returns a tensor filled with the scalar value `1`, with the shape defined\n",
      "    by the variable argument :attr:`size`.\n",
      "    \n",
      "    Args:\n",
      "        size (int...): a sequence of integers defining the shape of the output tensor.\n",
      "            Can be a variable number of arguments or a collection like a list or tuple.\n",
      "    \n",
      "    Keyword arguments:\n",
      "        out (Tensor, optional): the output tensor.\n",
      "        dtype (:class:`torch.dtype`, optional): the desired data type of returned tensor.\n",
      "            Default: if ``None``, uses a global default (see :func:`torch.set_default_tensor_type`).\n",
      "        layout (:class:`torch.layout`, optional): the desired layout of returned Tensor.\n",
      "            Default: ``torch.strided``.\n",
      "        device (:class:`torch.device`, optional): the desired device of returned tensor.\n",
      "            Default: if ``None``, uses the current device for the default tensor type\n",
      "            (see :func:`torch.set_default_tensor_type`). :attr:`device` will be the CPU\n",
      "            for CPU tensor types and the current CUDA device for CUDA tensor types.\n",
      "        requires_grad (bool, optional): If autograd should record operations on the\n",
      "            returned tensor. Default: ``False``.\n",
      "    \n",
      "    Example::\n",
      "    \n",
      "        >>> torch.ones(2, 3)\n",
      "        tensor([[ 1.,  1.,  1.],\n",
      "                [ 1.,  1.,  1.]])\n",
      "    \n",
      "        >>> torch.ones(5)\n",
      "        tensor([ 1.,  1.,  1.,  1.,  1.])\n",
      "\n"
     ]
    }
   ],
   "source": [
    "help(torch.ones)"
   ]
  },
  {
   "cell_type": "markdown",
   "metadata": {},
   "source": []
  }
 ],
 "metadata": {
  "kernelspec": {
   "display_name": "base",
   "language": "python",
   "name": "python3"
  },
  "language_info": {
   "codemirror_mode": {
    "name": "ipython",
    "version": 3
   },
   "file_extension": ".py",
   "mimetype": "text/x-python",
   "name": "python",
   "nbconvert_exporter": "python",
   "pygments_lexer": "ipython3",
   "version": "3.7.10"
  },
  "orig_nbformat": 4,
  "vscode": {
   "interpreter": {
    "hash": "07b30761a61b304d98a7d3dca6e8ed7fffac965d91dfa0be3fcd4b376b816efa"
   }
  }
 },
 "nbformat": 4,
 "nbformat_minor": 2
}
